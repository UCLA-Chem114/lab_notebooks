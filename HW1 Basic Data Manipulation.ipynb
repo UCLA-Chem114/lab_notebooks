{
 "cells": [
  {
   "cell_type": "markdown",
   "metadata": {},
   "source": [
    "#HW1: Data Manipulation\n",
    "####This HW is designed to have you practice the basics of Python data manipulation. We will try to walk you through most of the assignment, but you will have to enter and execute your own code.\n",
    "####By the end of this assigment you should be able to manipulate and probe datasets that you upload into Python"
   ]
  },
  {
   "cell_type": "code",
   "execution_count": null,
   "metadata": {
    "collapsed": true
   },
   "outputs": [],
   "source": [
    "#Here would be a good place to initialize your code. AKA Insert \"Boiler Plate\" here!\n",
    "#If you are confused as to what to put in this section, look at other example code we provided.\n",
    "#Remember, SHIFT+ENTER to execute the code in a cell!\n",
    "\n",
    "\n"
   ]
  },
  {
   "cell_type": "code",
   "execution_count": 1,
   "metadata": {
    "collapsed": true
   },
   "outputs": [],
   "source": [
    "#to be removed\n",
    "%matplotlib inline\n",
    "from pylab import *\n",
    "import numpy as np\n",
    "import matplotlib.pyplot as plt\n",
    "import matplotlib\n",
    "import matplotlib.lines\n",
    "from astropy.table import Table, Column\n",
    "from scipy.optimize import curve_fit\n",
    "from IPython.display import display, Math, Latex\n",
    "import scipy.special\n",
    "from scipy.stats import chisquare\n",
    "from scipy.stats.mstats import chisquare as cstest"
   ]
  },
  {
   "cell_type": "markdown",
   "metadata": {},
   "source": [
    "####Now we will practice loading data. Use the loadtxt function to load the provided data: \"ProvidedData.csv\""
   ]
  },
  {
   "cell_type": "code",
   "execution_count": null,
   "metadata": {
    "collapsed": true
   },
   "outputs": [],
   "source": [
    "#If you can't remember how this is done, refer to the example done in class\n",
    "\n",
    "\n",
    "\n"
   ]
  },
  {
   "cell_type": "markdown",
   "metadata": {},
   "source": [
    "####Now that you have loaded the data, it is easier to manipulate the data if you reassign the data into X-Variables, Y-Variables, Z-Varibles, etc...\n",
    "####An example is provided below, but in a blank cell try to manipulate your loaded data"
   ]
  },
  {
   "cell_type": "code",
   "execution_count": 24,
   "metadata": {
    "collapsed": false
   },
   "outputs": [
    {
     "name": "stdout",
     "output_type": "stream",
     "text": [
      "Column A\n",
      "[ 1  5  9 13]\n",
      "\n",
      "Row AA\n",
      "[1 2 3 4]\n",
      "\n",
      "Column C\n",
      "[ 3  7 11 15]\n",
      "\n",
      "Row DD\n",
      "[13 14 15 16]\n"
     ]
    }
   ],
   "source": [
    "#Don't forget to run this example code! (SHIFT + ENTER)\n",
    "\n",
    "#Creating a 4x4 Matrix of data as an example\n",
    "#Matrix looks like:\n",
    "#                     A   B   C   D\n",
    "#               AA    1,  2,  3,  4\n",
    "#               BB    5,  6,  7,  8\n",
    "#               CC    9, 10, 11, 12\n",
    "#               DD   13, 14, 15, 16\n",
    "#\n",
    "\n",
    "ExampleData = np.array([[1,2,3,4],[5,6,7,8],[9,10,11,12],[13,14,15,16]])\n",
    "\n",
    "#Remember, python starts counting from 0!\n",
    "ExampleColumnA = ExampleData[:,0]\n",
    "ExampleRowAA   = ExampleData[0,:]\n",
    "ExampleColumnC = ExampleData[:,2]\n",
    "ExampleRowDD   = ExampleData[3,:]\n",
    "\n",
    "print('Column A')\n",
    "print(ExampleColumnA)\n",
    "print('')\n",
    "print('Row AA')\n",
    "print(ExampleRowAA)\n",
    "print('')\n",
    "print('Column C')\n",
    "print(ExampleColumnC)\n",
    "print('')\n",
    "print('Row DD')\n",
    "print(ExampleRowDD)\n"
   ]
  },
  {
   "cell_type": "markdown",
   "metadata": {},
   "source": [
    "####Now try it yourself!"
   ]
  },
  {
   "cell_type": "code",
   "execution_count": null,
   "metadata": {
    "collapsed": true
   },
   "outputs": [],
   "source": [
    "#From your loaded data, split up the six columns into their own arrays (like the example above)\n",
    "#Be sure to use different array names than the example and your other arrays\n",
    "#or else there might be a conflict in the code.\n",
    "#Do not worry about being creative, descriptive is better than creative so that you will remember what they say\n",
    "#Here are some example array names:\n",
    "#                                  RandomDistribution1, RandomDistribution2,\n",
    "#                                  RandomDistribution3, RandomDistribution4,\n",
    "#                                  ProvidedXData, ProvidedYData\n",
    "\n",
    "\n",
    "\n",
    "\n"
   ]
  },
  {
   "cell_type": "markdown",
   "metadata": {},
   "source": [
    "#Needs to be finalized\n",
    "####Now that the data is in a format that is easily manipulated, let's find out a few things: min, max, Standard Deviation, and INSERT WHATEVER ELSE HERE\n",
    "####An example is shown below using the ExampleData"
   ]
  },
  {
   "cell_type": "code",
   "execution_count": 39,
   "metadata": {
    "collapsed": false
   },
   "outputs": [
    {
     "name": "stdout",
     "output_type": "stream",
     "text": [
      "Column Values\n",
      "[ 1  5  9 13]\n",
      "\n",
      "Mean\n",
      "7.0\n",
      "\n",
      "Min\n",
      "1\n",
      "\n",
      "Max\n",
      "13\n",
      "\n",
      "STD\n",
      "4.472135955\n"
     ]
    }
   ],
   "source": [
    "#Example of Mean\n",
    "ExampleMean = ExampleColumnA.mean()\n",
    "#Example of Min\n",
    "ExampleMinimum = ExampleColumnA.min()\n",
    "#Example Max\n",
    "ExampleMaximum = ExampleColumnA.max()\n",
    "#Example Standard Deviation\n",
    "ExampleSTD = ExampleColumnA.std()\n",
    "\n",
    "print('Column Values')\n",
    "print(ExampleColumnA)\n",
    "print('')\n",
    "print('Mean')\n",
    "print(ExampleMean)\n",
    "print('')\n",
    "print('Min')\n",
    "print(ExampleMinimum)\n",
    "print('')\n",
    "print('Max')\n",
    "print(ExampleMaximum)\n",
    "print('')\n",
    "print('STD')\n",
    "print(ExampleSTD)"
   ]
  },
  {
   "cell_type": "code",
   "execution_count": 43,
   "metadata": {
    "collapsed": false
   },
   "outputs": [],
   "source": [
    "#Now try it yourself on the provided data! Find out a little information about the kind of data that was given to you\n",
    "#print the Mean, Min, Max, STD, AND WHETEVER ELSE!!! of the each column of the provided data\n",
    "\n",
    "\n",
    "\n",
    "\n"
   ]
  },
  {
   "cell_type": "markdown",
   "metadata": {},
   "source": [
    "####Let us know try to probe a little more information about the provided data in the form of a histogram. An example of how to do a histogram is shown below."
   ]
  },
  {
   "cell_type": "code",
   "execution_count": 51,
   "metadata": {
    "collapsed": false
   },
   "outputs": [
    {
     "data": {
      "text/plain": [
       "<matplotlib.text.Text at 0x10af26438>"
      ]
     },
     "execution_count": 51,
     "metadata": {},
     "output_type": "execute_result"
    },
    {
     "data": {
      "image/png": "[encoded data removed]",
      "text/plain": [
       "<matplotlib.figure.Figure at 0x10af8bc18>"
      ]
     },
     "metadata": {},
     "output_type": "display_data"
    }
   ],
   "source": [
    "#Generate random data:\n",
    "ExampleHistogramData = np.random.randn(10000);\n",
    "hist(ExampleHistogramData);\n",
    "xlabel('Bin Center')\n",
    "ylabel('Counts')"
   ]
  },
  {
   "cell_type": "markdown",
   "metadata": {},
   "source": [
    "##For the first four columns, create a histogram of the provided data. Try to figure out what kind of random distribution is in each column\n",
    "##What kind of random distribution is the array and what is the distribution center and width?\n",
    "###Refer to page 32 in your text if you need help identifying the distributions"
   ]
  },
  {
   "cell_type": "code",
   "execution_count": null,
   "metadata": {
    "collapsed": true
   },
   "outputs": [],
   "source": [
    "#Histogram your data in column 1\n",
    "#What kind of random distribution is in column 1\n",
    "\n",
    "\n"
   ]
  },
  {
   "cell_type": "code",
   "execution_count": null,
   "metadata": {
    "collapsed": true
   },
   "outputs": [],
   "source": [
    "#Histogram your data in column 2\n",
    "#What kind of random distribution is in column 2\n",
    "\n",
    "\n"
   ]
  },
  {
   "cell_type": "code",
   "execution_count": null,
   "metadata": {
    "collapsed": true
   },
   "outputs": [],
   "source": [
    "#Histogram your data in column 3\n",
    "#What kind of random distribution is in column 3\n",
    "\n",
    "\n"
   ]
  },
  {
   "cell_type": "code",
   "execution_count": null,
   "metadata": {
    "collapsed": true
   },
   "outputs": [],
   "source": [
    "#Histogram your data in column 4\n",
    "#What kind of random distribution is in column 4\n",
    "\n",
    "\n"
   ]
  },
  {
   "cell_type": "markdown",
   "metadata": {},
   "source": [
    "####Finally, it is important to practice learning how to plot/fit your data. In the section below we will practice this!\n",
    "####Below is an example and then you will try yourself!"
   ]
  },
  {
   "cell_type": "code",
   "execution_count": 55,
   "metadata": {
    "collapsed": false
   },
   "outputs": [
    {
     "data": {
      "text/plain": [
       "[<matplotlib.lines.Line2D at 0x10ae36f60>]"
      ]
     },
     "execution_count": 55,
     "metadata": {},
     "output_type": "execute_result"
    },
    {
     "data": {
      "image/png": "[encoded data removed]",
      "text/plain": [
       "<matplotlib.figure.Figure at 0x10ae542e8>"
      ]
     },
     "metadata": {},
     "output_type": "display_data"
    }
   ],
   "source": [
    "#The Example will use the data earlier, but you will use Column 5 (X-Data) and Column 6 (Y-Data)\n",
    "ExampleXData = ExampleRowAA\n",
    "ExampleYData = ExampleColumnA**2 #This is equivalent as X^2.\n",
    "plot(ExampleXData, ExampleYData)"
   ]
  },
  {
   "cell_type": "code",
   "execution_count": 77,
   "metadata": {
    "collapsed": false
   },
   "outputs": [
    {
     "name": "stdout",
     "output_type": "stream",
     "text": [
      "Variable a\n",
      "3.66882803793\n",
      "\n",
      "Variable b\n",
      "11.0580349683\n"
     ]
    },
    {
     "data": {
      "image/png": "[encoded data removed]",
      "text/plain": [
       "<matplotlib.figure.Figure at 0x10c0182e8>"
      ]
     },
     "metadata": {},
     "output_type": "display_data"
    }
   ],
   "source": [
    "#Now we will fit the data to figure out what kind of function we have\n",
    "\n",
    "#Define our function that we think it will fit to.\n",
    "def ffit(x,a,b): #This will try to find a variable \"a\" that will fit the data best of Y = X^a+b\n",
    "    return x**a + b\n",
    "\n",
    "#The line below will give us our fitted variables in an array (in this cas in ExampleFittedVariables)\n",
    "ExampleFittedVariables, ExampleOtherInformation = curve_fit(ffit,ExampleXData,ExampleYData)\n",
    "\n",
    "#Now that we have the equation for Y = X^a+b we need to create a line of that data.\n",
    "#So we provide artificial data to plug in. In this case 50 evenly spaced X-Values from 1.0 to 4.0\n",
    "ExampleXFit = np.linspace(1.0,4.0,50)\n",
    "\n",
    "#Now plug our X Values into our Y Function\n",
    "ExampleYFit = ffit(ExampleXFit,*ExampleFittedVariables)\n",
    "\n",
    "plot(ExampleXData,ExampleYData,label='Original Data')\n",
    "plot(ExampleXFit,ExampleYFit,label='Fitted Data')\n",
    "legend()\n",
    "print('Variable a')\n",
    "print(ExampleFittedVariables[0])\n",
    "print('')\n",
    "print('Variable b')\n",
    "print(ExampleFittedVariables[1])\n",
    "\n",
    "#Clearly this is not a good fit, but it is to give you an idea as to how to look at and fit your data\n"
   ]
  },
  {
   "cell_type": "markdown",
   "metadata": {},
   "source": [
    "####In the area below, plot and fit the data provided in Column 5 (XData) and 6 (YData)"
   ]
  },
  {
   "cell_type": "code",
   "execution_count": null,
   "metadata": {
    "collapsed": true
   },
   "outputs": [],
   "source": [
    "#Here just plot your data to see what it looks like\n",
    "\n",
    "\n"
   ]
  },
  {
   "cell_type": "code",
   "execution_count": null,
   "metadata": {
    "collapsed": true
   },
   "outputs": [],
   "source": [
    "#Here you can fit your data. I will give you a hint: it is an exponential of the form a*exp(b*x)+c\n",
    "#with a little noise thrown in. Fit the data and print the values for a, b, and c\n",
    "\n",
    "\n",
    "\n"
   ]
  },
  {
   "cell_type": "code",
   "execution_count": null,
   "metadata": {
    "collapsed": true
   },
   "outputs": [],
   "source": [
    "#Finally, prove to yourself that this is indeed an exponential function.\n",
    "#If this is truly a exponential function, then the log of the YData should be linear.\n",
    "#Plot the log Column 6 with respect to Column 5 or plot in a semilog-y fasion (whatever is most comfortable).\n",
    "\n",
    "\n",
    "\n",
    "\n"
   ]
  },
  {
   "cell_type": "code",
   "execution_count": null,
   "metadata": {
    "collapsed": true
   },
   "outputs": [],
   "source": []
  },
  {
   "cell_type": "markdown",
   "metadata": {},
   "source": [
    "###You may have noticed that when you plot the log of Column 6 with respect to Column 5, you will notice a Linear Regime before X-Axis = 40 and a Flat Regime after X-Axis = 40. What is going on? Is it truly an exponential? Why does the graph deviate from linear after X-Axis = 40? (Remember, there is extra noise added in).\n",
    "\n",
    "\n",
    "\n"
   ]
  },
  {
   "cell_type": "code",
   "execution_count": null,
   "metadata": {
    "collapsed": true
   },
   "outputs": [],
   "source": []
  }
 ],
 "metadata": {
  "kernelspec": {
   "display_name": "Python 3",
   "language": "python",
   "name": "python3"
  },
  "language_info": {
   "codemirror_mode": {
    "name": "ipython",
    "version": 3
   },
   "file_extension": ".py",
   "mimetype": "text/x-python",
   "name": "python",
   "nbconvert_exporter": "python",
   "pygments_lexer": "ipython3",
   "version": "3.4.3"
  }
 },
 "nbformat": 4,
 "nbformat_minor": 0
}
