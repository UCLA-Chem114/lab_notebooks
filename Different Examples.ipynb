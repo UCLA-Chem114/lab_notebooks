{
 "cells": [
  {
   "cell_type": "code",
   "execution_count": 8,
   "metadata": {
    "collapsed": false
   },
   "outputs": [],
   "source": [
    "%matplotlib inline\n",
    "import matplotlib.pyplot as plt\n",
    "import numpy as np\n",
    "import pandas as pd\n",
    "from pylab import *\n",
    "from astropy.table import Table, Column\n",
    "from scipy.optimize import curve_fit\n",
    "from IPython.display import display, Math, Latex\n",
    "import scipy.special\n",
    "from scipy.stats import norm\n"
   ]
  },
  {
   "cell_type": "code",
   "execution_count": 5,
   "metadata": {
    "collapsed": false
   },
   "outputs": [
    {
     "data": {
      "text/plain": [
       "(array([  2.00000000e+00,   1.00000000e+00,   1.10000000e+01,\n",
       "          5.00000000e+01,   1.28000000e+02,   2.77000000e+02,\n",
       "          5.34000000e+02,   9.02000000e+02,   1.30800000e+03,\n",
       "          1.57000000e+03,   1.56700000e+03,   1.40600000e+03,\n",
       "          1.01100000e+03,   6.44000000e+02,   3.49000000e+02,\n",
       "          1.56000000e+02,   5.10000000e+01,   2.30000000e+01,\n",
       "          6.00000000e+00,   4.00000000e+00]),\n",
       " array([-411.62332614, -371.14608795, -330.66884977, -290.19161158,\n",
       "        -249.71437339, -209.2371352 , -168.75989702, -128.28265883,\n",
       "         -87.80542064,  -47.32818245,   -6.85094427,   33.62629392,\n",
       "          74.10353211,  114.5807703 ,  155.05800848,  195.53524667,\n",
       "         236.01248486,  276.48972305,  316.96696123,  357.44419942,\n",
       "         397.92143761]),\n",
       " <a list of 20 Patch objects>)"
      ]
     },
     "execution_count": 5,
     "metadata": {},
     "output_type": "execute_result"
    },
    {
     "data": {
      "image/png": "[encoded data removed]",
      "text/plain": [
       "<matplotlib.figure.Figure at 0x10bdd1710>"
      ]
     },
     "metadata": {},
     "output_type": "display_data"
    }
   ],
   "source": [
    "NoiseCenter = 0\n",
    "NoiseWidth = 100\n",
    "\n",
    "noise = np.random.normal(loc=NoiseCenter,scale=NoiseWidth,size=10000)\n",
    "\n",
    "hist(noise,20)"
   ]
  },
  {
   "cell_type": "code",
   "execution_count": 74,
   "metadata": {
    "collapsed": false
   },
   "outputs": [
    {
     "name": "stdout",
     "output_type": "stream",
     "text": [
      "0.499999713348\n"
     ]
    },
    {
     "data": {
      "image/png": "[encoded data removed]",
      "text/plain": [
       "<matplotlib.figure.Figure at 0x10df59d90>"
      ]
     },
     "metadata": {},
     "output_type": "display_data"
    }
   ],
   "source": [
    "step = 0.1\n",
    "xdata = arange(95,105,step)\n",
    "\n",
    "Center = 100.0\n",
    "Cutoff1 = 90.0   # Must be less than Cutoff2 to work!\n",
    "Cutoff2 = 100.0  # Must be greater than Cutoff1 to work!\n",
    "Spread = 2.0\n",
    "percent = norm.cdf(Cutoff2,Center,Spread)-norm.cdf(Cutoff1,Center,Spread)\n",
    "\n",
    "fillfactorx = arange(Cutoff1,Cutoff2,step)\n",
    "fillfactory = (1/(sqrt(2*math.pi)*Sigma))*np.exp(-(fillfactorx-Center)**2/(2*Sigma**2))\n",
    "Sigma = Spread/(2*sqrt(2*math.log(2)))\n",
    "NormalDistribution = (1/(sqrt(2*math.pi)*Sigma))*np.exp(-(xdata-Center)**2/(2*Sigma**2))\n",
    "\n",
    "plot(xdata,NormalDistribution)\n",
    "fill_between(fillfactorx, 0, fillfactory)\n",
    "\n",
    "print percent\n"
   ]
  },
  {
   "cell_type": "code",
   "execution_count": null,
   "metadata": {
    "collapsed": true
   },
   "outputs": [],
   "source": []
  }
 ],
 "metadata": {
  "kernelspec": {
   "display_name": "Python 2",
   "language": "python",
   "name": "python2"
  },
  "language_info": {
   "codemirror_mode": {
    "name": "ipython",
    "version": 2
   },
   "file_extension": ".py",
   "mimetype": "text/x-python",
   "name": "python",
   "nbconvert_exporter": "python",
   "pygments_lexer": "ipython2",
   "version": "2.7.10"
  }
 },
 "nbformat": 4,
 "nbformat_minor": 0
}
