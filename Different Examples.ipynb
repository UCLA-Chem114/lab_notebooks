{
 "cells": [
  {
   "cell_type": "code",
   "execution_count": 2,
   "metadata": {
    "collapsed": false
   },
   "outputs": [],
   "source": [
    "%matplotlib inline\n",
    "import matplotlib.pyplot as plt\n",
    "import numpy as np\n",
    "import pandas as pd\n",
    "from pylab import *\n",
    "from astropy.table import Table, Column\n",
    "from scipy.optimize import curve_fit\n",
    "from IPython.display import display, Math, Latex\n",
    "import scipy.special\n",
    "from scipy.stats import norm\n"
   ]
  },
  {
   "cell_type": "code",
   "execution_count": 3,
   "metadata": {
    "collapsed": false
   },
   "outputs": [
    {
     "data": {
      "text/plain": [
       "(array([    8.,    24.,    56.,   124.,   237.,   451.,   738.,   975.,\n",
       "         1307.,  1333.,  1312.,  1124.,   920.,   621.,   390.,   201.,\n",
       "          100.,    56.,    13.,    10.]),\n",
       " array([-335.45133848, -301.39829359, -267.34524871, -233.29220382,\n",
       "        -199.23915894, -165.18611405, -131.13306917,  -97.08002428,\n",
       "         -63.0269794 ,  -28.97393451,    5.07911037,   39.13215526,\n",
       "          73.18520014,  107.23824503,  141.29128991,  175.34433479,\n",
       "         209.39737968,  243.45042456,  277.50346945,  311.55651433,\n",
       "         345.60955922]),\n",
       " <a list of 20 Patch objects>)"
      ]
     },
     "execution_count": 3,
     "metadata": {},
     "output_type": "execute_result"
    },
    {
     "data": {
      "image/png": "[encoded data removed]",
      "text/plain": [
       "<matplotlib.figure.Figure at 0x109d432d0>"
      ]
     },
     "metadata": {},
     "output_type": "display_data"
    }
   ],
   "source": [
    "NoiseCenter = 0\n",
    "NoiseWidth = 100\n",
    "\n",
    "noise = np.random.normal(loc=NoiseCenter,scale=NoiseWidth,size=10000)\n",
    "\n",
    "hist(noise,20)"
   ]
  },
  {
   "cell_type": "code",
   "execution_count": 12,
   "metadata": {
    "collapsed": false
   },
   "outputs": [
    {
     "name": "stdout",
     "output_type": "stream",
     "text": [
      "0.532807207343\n"
     ]
    },
    {
     "data": {
      "image/png": "[encoded data removed]",
      "text/plain": [
       "<matplotlib.figure.Figure at 0x10c711e50>"
      ]
     },
     "metadata": {},
     "output_type": "display_data"
    }
   ],
   "source": [
    "step = 0.1\n",
    "xdata = arange(95,105,step)\n",
    "\n",
    "Center = 100.0\n",
    "Cutoff1 = 98.0   # Must be less than Cutoff2 to work!\n",
    "Cutoff2 = 101.0  # Must be greater than Cutoff1 to work!\n",
    "Spread = 2.0\n",
    "percent = norm.cdf(Cutoff2,Center,Spread)-norm.cdf(Cutoff1,Center,Spread)\n",
    "Sigma = Spread/(2*sqrt(2*math.log(2)))\n",
    "fillfactorx = arange(Cutoff1,Cutoff2,step)\n",
    "fillfactory = (1/(sqrt(2*math.pi)*Sigma))*np.exp(-(fillfactorx-Center)**2/(2*Sigma**2))\n",
    "\n",
    "NormalDistribution = (1/(sqrt(2*math.pi)*Sigma))*np.exp(-(xdata-Center)**2/(2*Sigma**2))\n",
    "\n",
    "plot(xdata,NormalDistribution)\n",
    "fill_between(fillfactorx, 0, fillfactory)\n",
    "\n",
    "print percent\n"
   ]
  },
  {
   "cell_type": "code",
   "execution_count": null,
   "metadata": {
    "collapsed": true
   },
   "outputs": [],
   "source": []
  }
 ],
 "metadata": {
  "kernelspec": {
   "display_name": "Python 2",
   "language": "python",
   "name": "python2"
  },
  "language_info": {
   "codemirror_mode": {
    "name": "ipython",
    "version": 2
   },
   "file_extension": ".py",
   "mimetype": "text/x-python",
   "name": "python",
   "nbconvert_exporter": "python",
   "pygments_lexer": "ipython2",
   "version": "2.7.10"
  }
 },
 "nbformat": 4,
 "nbformat_minor": 0
}
