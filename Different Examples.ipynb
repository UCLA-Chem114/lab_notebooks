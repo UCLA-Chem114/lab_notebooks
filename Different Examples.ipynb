{
 "cells": [
  {
   "cell_type": "code",
   "execution_count": 1,
   "metadata": {
    "collapsed": false
   },
   "outputs": [],
   "source": [
    "%matplotlib inline\n",
    "import matplotlib.pyplot as plt\n",
    "import numpy as np\n",
    "import pandas as pd\n",
    "from pylab import *\n",
    "from astropy.table import Table, Column\n",
    "from scipy.optimize import curve_fit\n",
    "from IPython.display import display, Math, Latex\n",
    "import scipy.special\n",
    "from scipy.stats import norm\n"
   ]
  },
  {
   "cell_type": "code",
   "execution_count": 2,
   "metadata": {
    "collapsed": false
   },
   "outputs": [
    {
     "data": {
      "text/plain": [
       "(array([    2.,     6.,    20.,    63.,   134.,   278.,   545.,   852.,\n",
       "         1200.,  1428.,  1519.,  1341.,  1045.,   731.,   445.,   238.,\n",
       "           90.,    41.,    17.,     5.]),\n",
       " array([-390.93904221, -353.03630689, -315.13357157, -277.23083625,\n",
       "        -239.32810093, -201.42536561, -163.52263029, -125.61989497,\n",
       "         -87.71715965,  -49.81442433,  -11.91168901,   25.99104631,\n",
       "          63.89378163,  101.79651695,  139.69925227,  177.60198759,\n",
       "         215.50472291,  253.40745823,  291.31019355,  329.21292887,\n",
       "         367.11566419]),\n",
       " <a list of 20 Patch objects>)"
      ]
     },
     "execution_count": 2,
     "metadata": {},
     "output_type": "execute_result"
    },
    {
     "data": {
      "image/png": "[encoded data removed]",
      "text/plain": [
       "<matplotlib.figure.Figure at 0x109cff610>"
      ]
     },
     "metadata": {},
     "output_type": "display_data"
    }
   ],
   "source": [
    "NoiseCenter = 0\n",
    "NoiseWidth = 100\n",
    "\n",
    "noise = np.random.normal(loc=NoiseCenter,scale=NoiseWidth,size=10000)\n",
    "\n",
    "hist(noise,20)"
   ]
  },
  {
   "cell_type": "code",
   "execution_count": 3,
   "metadata": {
    "collapsed": false
   },
   "outputs": [
    {
     "name": "stdout",
     "output_type": "stream",
     "text": [
      "0.433192798731\n"
     ]
    },
    {
     "data": {
      "image/png": "[encoded data removed]",
      "text/plain": [
       "<matplotlib.figure.Figure at 0x1066cb990>"
      ]
     },
     "metadata": {},
     "output_type": "display_data"
    }
   ],
   "source": [
    "step = 0.1\n",
    "xdata = arange(95,105,step)\n",
    "\n",
    "Center = 100.0\n",
    "Cutoff1 = 100.0   # Must be less than Cutoff2 to work!\n",
    "Cutoff2 = 103.0  # Must be greater than Cutoff1 to work!\n",
    "Spread = 2.0\n",
    "percent = norm.cdf(Cutoff2,Center,Spread)-norm.cdf(Cutoff1,Center,Spread)\n",
    "Sigma = Spread/(2*sqrt(2*math.log(2)))\n",
    "fillfactorx = arange(Cutoff1,Cutoff2,step)\n",
    "fillfactory = (1/(sqrt(2*math.pi)*Sigma))*np.exp(-(fillfactorx-Center)**2/(2*Sigma**2))\n",
    "\n",
    "NormalDistribution = (1/(sqrt(2*math.pi)*Sigma))*np.exp(-(xdata-Center)**2/(2*Sigma**2))\n",
    "\n",
    "plot(xdata,NormalDistribution)\n",
    "fill_between(fillfactorx, 0, fillfactory)\n",
    "\n",
    "print percent\n"
   ]
  },
  {
   "cell_type": "code",
   "execution_count": null,
   "metadata": {
    "collapsed": true
   },
   "outputs": [],
   "source": []
  }
 ],
 "metadata": {
  "kernelspec": {
   "display_name": "Python 2",
   "language": "python",
   "name": "python2"
  },
  "language_info": {
   "codemirror_mode": {
    "name": "ipython",
    "version": 2
   },
   "file_extension": ".py",
   "mimetype": "text/x-python",
   "name": "python",
   "nbconvert_exporter": "python",
   "pygments_lexer": "ipython2",
   "version": "2.7.10"
  }
 },
 "nbformat": 4,
 "nbformat_minor": 0
}
