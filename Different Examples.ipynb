{
 "cells": [
  {
   "cell_type": "code",
   "execution_count": 4,
   "metadata": {
    "collapsed": false
   },
   "outputs": [],
   "source": [
    "%matplotlib inline\n",
    "import matplotlib.pyplot as plt\n",
    "import numpy as np\n",
    "import pandas as pd\n",
    "from pylab import *\n",
    "from astropy.table import Table, Column\n",
    "from scipy.optimize import curve_fit\n",
    "from IPython.display import display, Math, Latex\n",
    "import scipy.special\n",
    "from scipy.stats import norm\n"
   ]
  },
  {
   "cell_type": "code",
   "execution_count": 5,
   "metadata": {
    "collapsed": false
   },
   "outputs": [],
   "source": [
    "from IPython.html.widgets import interact, interactive, fixed\n",
    "from IPython.html import widgets\n",
    "from IPython.display import display, display_png, display_svg, clear_output\n",
    "from IPython.core.pylabtools import print_figure"
   ]
  },
  {
   "cell_type": "code",
   "execution_count": 6,
   "metadata": {
    "collapsed": false
   },
   "outputs": [
    {
     "data": {
      "image/png": "[encoded data removed]",
      "text/plain": [
       "<matplotlib.figure.Figure at 0x10c2edd50>"
      ]
     },
     "metadata": {},
     "output_type": "display_data"
    }
   ],
   "source": [
    "@interact(x_0 =(-80,80,0.1), l = (200, 900, 1), M = (10,100,10), NA = (0.5, 2.0, 0.1), NoiseCenter = (-200, 200, 10), NoiseWidth = (0, 200, 10))\n",
    "def plot_NormDist(NoiseCenter = 0, NoiseWidth = 100):\n",
    "\n",
    "    noise = np.random.normal(loc=NoiseCenter,scale=NoiseWidth,size=10000)\n",
    "\n",
    "    hist(noise,20)"
   ]
  },
  {
   "cell_type": "code",
   "execution_count": 8,
   "metadata": {
    "collapsed": false
   },
   "outputs": [
    {
     "name": "stdout",
     "output_type": "stream",
     "text": [
      "0.617088475108\n"
     ]
    },
    {
     "data": {
      "image/png": "[encoded data removed]",
      "text/plain": [
       "<matplotlib.figure.Figure at 0x10bcdc850>"
      ]
     },
     "metadata": {},
     "output_type": "display_data"
    }
   ],
   "source": [
    "@interact(Center = (0, 200, 5), Spread = (0, 50, 1), Cutoff1 = (90,110,0.1), Cutoff2 = (90,110,0.1))\n",
    "def plot_NormDist(Center = 100, Spread = 2, Cutoff1 = 98, Cutoff2 = 100):\n",
    "    \n",
    "    step = 0.1\n",
    "    xdata = arange(95,105,step)\n",
    "    \n",
    "    #Center = 100.0\n",
    "    #Cutoff1 = 100.0   # Must be less than Cutoff2 to work!\n",
    "    #Cutoff2 = 103.0  # Must be greater than Cutoff1 to work!\n",
    "    #Spread = 2.0\n",
    "    percent = norm.cdf(Cutoff2,Center,Spread)-norm.cdf(Cutoff1,Center,Spread)\n",
    "    Sigma = Spread/(2*sqrt(2*math.log(2)))\n",
    "    fillfactorx = arange(Cutoff1,Cutoff2,step)\n",
    "    fillfactory = (1/(sqrt(2*math.pi)*Sigma))*np.exp(-(fillfactorx-Center)**2/(2*Sigma**2))\n",
    "    \n",
    "    NormalDistribution = (1/(sqrt(2*math.pi)*Sigma))*np.exp(-(xdata-Center)**2/(2*Sigma**2))\n",
    "    \n",
    "    plot(xdata,NormalDistribution)\n",
    "    fill_between(fillfactorx, 0, fillfactory)\n",
    "    \n",
    "    print percent\n"
   ]
  },
  {
   "cell_type": "code",
   "execution_count": null,
   "metadata": {
    "collapsed": true
   },
   "outputs": [],
   "source": []
  }
 ],
 "metadata": {
  "kernelspec": {
   "display_name": "Python 2",
   "language": "python",
   "name": "python2"
  },
  "language_info": {
   "codemirror_mode": {
    "name": "ipython",
    "version": 2
   },
   "file_extension": ".py",
   "mimetype": "text/x-python",
   "name": "python",
   "nbconvert_exporter": "python",
   "pygments_lexer": "ipython2",
   "version": "2.7.10"
  }
 },
 "nbformat": 4,
 "nbformat_minor": 0
}
