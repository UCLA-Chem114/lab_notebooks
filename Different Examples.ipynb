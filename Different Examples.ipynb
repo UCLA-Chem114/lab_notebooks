{
 "cells": [
  {
   "cell_type": "code",
   "execution_count": 20,
   "metadata": {
    "collapsed": false
   },
   "outputs": [],
   "source": [
    "%matplotlib inline\n",
    "import matplotlib.pyplot as plt\n",
    "import numpy as np\n",
    "import pandas as pd\n",
    "from pylab import *\n",
    "from astropy.table import Table, Column\n",
    "from scipy.optimize import curve_fit\n",
    "from IPython.display import display, Math, Latex\n",
    "import scipy.special\n",
    "from scipy.stats import norm\n"
   ]
  },
  {
   "cell_type": "code",
   "execution_count": 21,
   "metadata": {
    "collapsed": false
   },
   "outputs": [],
   "source": [
    "from IPython.html.widgets import interact, interactive, fixed\n",
    "from IPython.html import widgets\n",
    "from IPython.display import display, display_png, display_svg, clear_output\n",
    "from IPython.core.pylabtools import print_figure"
   ]
  },
  {
   "cell_type": "code",
   "execution_count": 43,
   "metadata": {
    "collapsed": false
   },
   "outputs": [
    {
     "data": {
      "image/png": "[encoded data removed]",
      "text/plain": [
       "<matplotlib.figure.Figure at 0x10d8ce510>"
      ]
     },
     "metadata": {},
     "output_type": "display_data"
    }
   ],
   "source": [
    "@interact(x_0 =(-80,80,0.1),\n",
    "          l = (200, 900, 1),\n",
    "          M = (10,100,10),\n",
    "          NA = (0.5, 2.0, 0.1),\n",
    "          NoiseCenter = u'0',\n",
    "          NoiseWidth = u'100')\n",
    "def plot_NormDist(NoiseCenter = 0, NoiseWidth = 100):\n",
    "    \n",
    "    NoiseCenter = np.float(NoiseCenter)\n",
    "    NoiseWidth = np.float(NoiseWidth)\n",
    "\n",
    "    noise = np.random.normal(loc=NoiseCenter,scale=NoiseWidth,size=10000)\n",
    "\n",
    "    hist(noise,20)"
   ]
  },
  {
   "cell_type": "code",
   "execution_count": 42,
   "metadata": {
    "collapsed": false
   },
   "outputs": [
    {
     "name": "stdout",
     "output_type": "stream",
     "text": [
      "0.191462461274\n"
     ]
    },
    {
     "data": {
      "image/png": "[encoded data removed]",
      "text/plain": [
       "<matplotlib.figure.Figure at 0x10c5d6150>"
      ]
     },
     "metadata": {},
     "output_type": "display_data"
    }
   ],
   "source": [
    "#@interact(Center = (0, 200, 5), Spread = (0, 50, 1), Cutoff1 = (90,110,0.1), Cutoff2 = (90,110,0.1))\n",
    "#def plot_NormDist(Center = 100, Spread = 2, Cutoff1 = 98, Cutoff2 = 100):\n",
    "\n",
    "@interact(Center = u'100', Spread =u'2', Cutoff1 =u'98', Cutoff2 =u'100')\n",
    "def plot_NormDist(Center = 100, Spread = 2, Cutoff1 = 98, Cutoff2 = 100):\n",
    "    \n",
    "    step = 0.1\n",
    "    xdata = arange(90,110,step)\n",
    "    \n",
    "    #Center = 100.0\n",
    "    #Cutoff1 = 100.0   # Must be less than Cutoff2 to work!\n",
    "    #Cutoff2 = 103.0  # Must be greater than Cutoff1 to work!\n",
    "    #Spread = 2.0\n",
    "    Cutoff2 = np.float(Cutoff2)\n",
    "    Cutoff1 = np.float(Cutoff1)\n",
    "    Spread = np.float(Spread)\n",
    "    Center = np.float(Center)\n",
    "    percent = norm.cdf(Cutoff2,Center,Spread)-norm.cdf(Cutoff1,Center,Spread)\n",
    "    Sigma = Spread/(2*sqrt(2*math.log(2)))\n",
    "    fillfactorx = arange(Cutoff1,Cutoff2,step)\n",
    "    fillfactory = (1/(sqrt(2*math.pi)*Sigma))*np.exp(-(fillfactorx-Center)**2/(2*Sigma**2))\n",
    "    \n",
    "    NormalDistribution = (1/(sqrt(2*math.pi)*Sigma))*np.exp(-(xdata-Center)**2/(2*Sigma**2))\n",
    "    \n",
    "    plot(xdata,NormalDistribution)\n",
    "    fill_between(fillfactorx, 0, fillfactory)\n",
    "    \n",
    "    print percent\n"
   ]
  },
  {
   "cell_type": "code",
   "execution_count": null,
   "metadata": {
    "collapsed": true
   },
   "outputs": [],
   "source": []
  }
 ],
 "metadata": {
  "kernelspec": {
   "display_name": "Python 3",
   "language": "python",
   "name": "python3"
  },
  "language_info": {
   "codemirror_mode": {
    "name": "ipython",
    "version": 3
   },
   "file_extension": ".py",
   "mimetype": "text/x-python",
   "name": "python",
   "nbconvert_exporter": "python",
   "pygments_lexer": "ipython3",
   "version": "3.6.4"
  }
 },
 "nbformat": 4,
 "nbformat_minor": 2
}
