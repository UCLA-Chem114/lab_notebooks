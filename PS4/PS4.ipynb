{
 "cells": [
  {
   "cell_type": "markdown",
   "metadata": {
    "id": "OEUkubtmNv78"
   },
   "source": [
    "# Problem Set 4\n",
    "\n",
    "**Probability**\n",
    "\n",
    "CHEM 114\n",
    "\n",
    "Shimon Weiss\n",
    "\n",
    "Due data: Friday, May 7th, 2021\n",
    "\n",
    "---"
   ]
  },
  {
   "cell_type": "markdown",
   "metadata": {
    "id": "DvRvkqybNv8C"
   },
   "source": [
    "## Problem 1\n",
    "\n",
    "**Random Variables**\n",
    "\n",
    "Consider tossing a fair six-sided dice. \n",
    "There are only six outcomes possible,\n",
    "\n",
    "$$\n",
    "\\Omega=\\lbrace 1,2,3,4,5,6 \\rbrace\n",
    "$$\n",
    "\n",
    "We can characterize this measureable function (random variable) as\n",
    "$X:(a) \\mapsto (a)$.\n",
    "\n",
    "Let's consider a slightly more interesting problem where we\n",
    "toss two die. \n",
    "We assume that each throw is *independent*, meaning that the\n",
    "outcome of one does not influence the outcome of the other. \n",
    "In this case, the sets are all pairs of possible outcomes \n",
    "from two throws as shown below,\n",
    "\n",
    "$$\n",
    "\\Omega = \\lbrace (1,1),(1,2),\\ldots,(5,6),(6,6) \\rbrace\n",
    "$$\n",
    "\n",
    "The measure of each of these sets is the \n",
    "product of the respective measures of each element.  \n",
    "For instance,\n",
    "\n",
    "$$\n",
    "\\mathbb{P}((1,2)) = \\mathbb{P}(\\lbrace 1 \\rbrace) \\mathbb{P}(\\lbrace 2\n",
    "\\rbrace) = \\frac{1}{6^2}\n",
    "$$\n",
    "\n",
    "### Problem 1.1\n",
    "\n",
    "- Characterize the measurable function for the sum of the two die equal to 7.\n",
    "\n",
    "---"
   ]
  },
  {
   "cell_type": "markdown",
   "metadata": {},
   "source": [
    "---"
   ]
  },
  {
   "cell_type": "markdown",
   "metadata": {
    "id": "cg3w_WHvNv8E"
   },
   "source": [
    "Next, we associate all of the $(a,b)$ pairs with their sum. \n",
    "\n",
    "Let's create a dictionary to achieve this.\n",
    "The syntax for a python dictionary is\n",
    "\n",
    "`dict = {key_1: value_1, key_2: value_2}`\n",
    "\n",
    "A dictionary consists of items, where each item has \n",
    "a key and value/values that can be accessed as\n",
    "`dict.items()`, `dict.keys()`, and `dict.values()`.\n",
    "The keys and values of a dictionary can be strings, integerts, \n",
    "floats, tuples, etc.\n",
    "A given key can have many associated values, \n",
    "as we will see later.\n",
    "\n",
    "In order to create our dictionary, let's list all the possible \n",
    "outcomes for 2 rolls using \n",
    "[list comprehension](https://www.w3schools.com/python/python_lists_comprehension.asp).\n",
    "Basically, list comprehension is a short-hand for loop\n",
    "with the basic idea: `[f(x) for i in x]`,  where\n",
    "`x` is an interable with elements `i`.\n",
    "You are not expected to know this, so we will provide an example:"
   ]
  },
  {
   "cell_type": "code",
   "execution_count": null,
   "metadata": {
    "colab": {
     "base_uri": "https://localhost:8080/"
    },
    "executionInfo": {
     "elapsed": 469,
     "status": "ok",
     "timestamp": 1616719975390,
     "user": {
      "displayName": "ARKAPRABHA BASU",
      "photoUrl": "https://lh3.googleusercontent.com/a-/AOh14GhvRuwJTYsTBTAV9wzMmTP7qEuDng_Y3bJTmuWcDQ=s64",
      "userId": "09891786969035099624"
     },
     "user_tz": 420
    },
    "id": "O40aOm9YNv8F",
    "outputId": "b55345a6-f19a-46a5-90e5-1f321a70059a"
   },
   "outputs": [],
   "source": [
    "[i + j for i in range(1,7) for j in range(1,7)]"
   ]
  },
  {
   "cell_type": "markdown",
   "metadata": {
    "id": "9aCRr1VSNv8J"
   },
   "source": [
    "Now let's create use dictionary comprehension to make a \n",
    "dictionary with keys for rolls and values for the sum \n",
    "of the outcomes:"
   ]
  },
  {
   "cell_type": "code",
   "execution_count": null,
   "metadata": {
    "colab": {
     "base_uri": "https://localhost:8080/"
    },
    "executionInfo": {
     "elapsed": 472,
     "status": "ok",
     "timestamp": 1616719979903,
     "user": {
      "displayName": "ARKAPRABHA BASU",
      "photoUrl": "https://lh3.googleusercontent.com/a-/AOh14GhvRuwJTYsTBTAV9wzMmTP7qEuDng_Y3bJTmuWcDQ=s64",
      "userId": "09891786969035099624"
     },
     "user_tz": 420
    },
    "id": "ZXejETmhNv8K",
    "outputId": "3efe3778-bd91-47ec-a139-7b14fc5d72c1"
   },
   "outputs": [],
   "source": [
    "d = {(k,v): k + v for k in range(1,7) for v in range(1,7)}\n",
    "d"
   ]
  },
  {
   "cell_type": "markdown",
   "metadata": {
    "id": "rdxtfPehNv8L"
   },
   "source": [
    "Now, we will collect all of the $(a,b)$ pairs that sum to\n",
    "each of the possible values from two to twelve.\n",
    "We do this by inverting the dictionary we created."
   ]
  },
  {
   "cell_type": "code",
   "execution_count": null,
   "metadata": {
    "colab": {
     "base_uri": "https://localhost:8080/"
    },
    "executionInfo": {
     "elapsed": 446,
     "status": "ok",
     "timestamp": 1616719983938,
     "user": {
      "displayName": "ARKAPRABHA BASU",
      "photoUrl": "https://lh3.googleusercontent.com/a-/AOh14GhvRuwJTYsTBTAV9wzMmTP7qEuDng_Y3bJTmuWcDQ=s64",
      "userId": "09891786969035099624"
     },
     "user_tz": 420
    },
    "id": "04qNMCTLNv8L",
    "outputId": "d6005cf0-77c0-4aad-bce2-02c81dac6a7b"
   },
   "outputs": [],
   "source": [
    "from collections import defaultdict\n",
    "\n",
    "d_invert = defaultdict(list)\n",
    "\n",
    "for k,v in d.items():\n",
    "    # k are dict keys and v are dict values\n",
    "    d_invert[v].append(k)\n",
    "    \n",
    "d_invert"
   ]
  },
  {
   "cell_type": "markdown",
   "metadata": {
    "id": "lTPYkZKSNv8M"
   },
   "source": [
    "**Programming Tip.**\n",
    "\n",
    "The `defaultdict` object from the built-in collections\n",
    "module creates dictionaries with\n",
    "default values when it encounters a new key.\n",
    "Otherwise, we would have had to\n",
    "create default values manually for a regular\n",
    "dictionary.\n",
    "\n",
    "The next step is to compute the probability measured for each of these items.\n",
    "Using the independence assumption, this means we have to compute the sum of the\n",
    "products of the individual item probabilities in `d_invert`. \n",
    "\n",
    "### Problem 1.2\n",
    "- What is the probability of rolling the die with outcome 11? In other words, calculate $\\mathbb{P}(11)$\n",
    "\n",
    "---"
   ]
  },
  {
   "cell_type": "markdown",
   "metadata": {},
   "source": [
    "---"
   ]
  },
  {
   "cell_type": "markdown",
   "metadata": {
    "id": "TPPHQlwYNv8O"
   },
   "source": [
    "Now, if we want to use python to solve this, all we have to do is count the number of items in the\n",
    "corresponding values for each key in `d_invert` and divide by `36`. \n",
    "\n",
    "\n",
    "Repeating this procedure for all the elements, \n",
    "we derive the probability mass\n",
    "function with the following:"
   ]
  },
  {
   "cell_type": "code",
   "execution_count": null,
   "metadata": {
    "id": "zNON8ozzNv8P",
    "outputId": "111b8a7d-65ec-4293-957a-3345a960b12c"
   },
   "outputs": [],
   "source": [
    "# create a dictionary with keys of outcome and values of corresponding probability\n",
    "# look for a way to use only 2 decimal places\n",
    "\n",
    "X = {k: round(len(v) / len(d), 2) for k, v in d_invert.items()}\n",
    "X"
   ]
  },
  {
   "cell_type": "markdown",
   "metadata": {
    "id": "oAkWhzklNv8P"
   },
   "source": [
    "With this framework, we can ask other questions like\n",
    "what is the probability that half the product of three dice will \n",
    "exceed the their sum? \n",
    "We can solve this using the same method as in the following. \n",
    "\n",
    "First, let's create the mapping:"
   ]
  },
  {
   "cell_type": "code",
   "execution_count": null,
   "metadata": {
    "id": "5YQtZBgLNv8P",
    "outputId": "5b428ebc-4feb-444d-c146-f6a859346c23"
   },
   "outputs": [],
   "source": [
    "d3 = {(i, j, k): ((i * j * k) / 2 > i + j + k) \n",
    "     for i in range(1,7) \n",
    "     for j in range(1,7)  \n",
    "     for k in range(1,7)}\n",
    "d3"
   ]
  },
  {
   "cell_type": "markdown",
   "metadata": {
    "id": "9GgVgdS-Nv8Q"
   },
   "source": [
    "The keys of this dictionary are the [tuples](https://www.w3schools.com/python/python_tuples.asp)\n",
    "of triples and the values \n",
    "are the [Boolean](https://www.w3schools.com/python/python_booleans.asp) \n",
    "result i.e. true or false statement for whether or not \n",
    "half of the product of three dice exceeds the sum.\n",
    "\n",
    "### Problem 1.3\n",
    "\n",
    "- Create an inverse dictionary called `d3_invert` that collects all the true and false values into two keys.\n",
    "- what is the probability of any triple?\n",
    "- create a dictionary called `X3` that collects the values for `True` and `False`\n",
    "- what is the probability of half the product of three dice exceeding their sum? \n",
    "- what is the probability of half the product of three dice *not* exceeding their sum?\n",
    "\n",
    "---"
   ]
  },
  {
   "cell_type": "markdown",
   "metadata": {},
   "source": [
    "---"
   ]
  },
  {
   "cell_type": "markdown",
   "metadata": {
    "id": "pHQAsKryNv8T"
   },
   "source": [
    "**The Multinomial Distribution**\n",
    "\n",
    "The Multinomial distribution is a generalization of the Binomial distribution.\n",
    "The Binomial distribution is a special case of the Multinomial distribution with $n=2$. \n",
    "\n",
    "The Multinomial distribution characterizes the probability distribution of $\\mathbf{N}_n$.  \n",
    "\n",
    "Consider the problem of $n$ balls to be divided among $r$ available bins\n",
    "where each bin may accommodate more than one ball. \n",
    "For example, suppose $n=10$ and $r=3$, then one possible valid configuration is:\n",
    "\n",
    "$$\\mathbf{N}_{10} = [3,3,4]$$\n",
    "\n",
    "The probability that a ball lands in the $i^{th}$ bin\n",
    "is $p_i$, where $\\sum p_i = 1$. \n",
    "\n",
    "The Multinomial distribution is implmented in the \n",
    "[`scipy.stats`](https://docs.scipy.org/doc/scipy-0.14.0/reference/stats.html) \n",
    "module as shown below,"
   ]
  },
  {
   "cell_type": "code",
   "execution_count": null,
   "metadata": {
    "colab": {
     "base_uri": "https://localhost:8080/"
    },
    "executionInfo": {
     "elapsed": 303,
     "status": "ok",
     "timestamp": 1616720046911,
     "user": {
      "displayName": "ARKAPRABHA BASU",
      "photoUrl": "https://lh3.googleusercontent.com/a-/AOh14GhvRuwJTYsTBTAV9wzMmTP7qEuDng_Y3bJTmuWcDQ=s64",
      "userId": "09891786969035099624"
     },
     "user_tz": 420
    },
    "id": "ONLwnMO9Nv8T",
    "outputId": "fec24e79-f94f-4210-b68c-889027a9ff89"
   },
   "outputs": [],
   "source": [
    "from scipy.stats import multinomial\n",
    "import numpy as np\n",
    "\n",
    "n = 10\n",
    "r = 3\n",
    "p = 1/r\n",
    "\n",
    "# create a random variable for the multinominal distribution\n",
    "rv = multinomial(n, np.ones(r)*p)\n",
    "# create distribution 4 rows and r columns \n",
    "rv.rvs(4)"
   ]
  },
  {
   "cell_type": "markdown",
   "metadata": {
    "id": "V4PjKFhdNv8U"
   },
   "source": [
    "By definition, the sum across the columns for the \n",
    "multinomial distribution is always equal to $n$:"
   ]
  },
  {
   "cell_type": "code",
   "execution_count": null,
   "metadata": {
    "colab": {
     "base_uri": "https://localhost:8080/"
    },
    "executionInfo": {
     "elapsed": 317,
     "status": "ok",
     "timestamp": 1616720049210,
     "user": {
      "displayName": "ARKAPRABHA BASU",
      "photoUrl": "https://lh3.googleusercontent.com/a-/AOh14GhvRuwJTYsTBTAV9wzMmTP7qEuDng_Y3bJTmuWcDQ=s64",
      "userId": "09891786969035099624"
     },
     "user_tz": 420
    },
    "id": "zIj97VVqNv8U",
    "outputId": "ece2dab3-abcf-4676-df2d-8d6daa1be4b1"
   },
   "outputs": [],
   "source": [
    "rv.rvs(4).sum(axis=1)"
   ]
  },
  {
   "cell_type": "code",
   "execution_count": null,
   "metadata": {
    "colab": {
     "base_uri": "https://localhost:8080/"
    },
    "executionInfo": {
     "elapsed": 288,
     "status": "ok",
     "timestamp": 1616720050679,
     "user": {
      "displayName": "ARKAPRABHA BASU",
      "photoUrl": "https://lh3.googleusercontent.com/a-/AOh14GhvRuwJTYsTBTAV9wzMmTP7qEuDng_Y3bJTmuWcDQ=s64",
      "userId": "09891786969035099624"
     },
     "user_tz": 420
    },
    "id": "xf7T5N_VNv8U",
    "outputId": "ae636f6e-e55f-4787-9613-faa0b1e71b51"
   },
   "outputs": [],
   "source": [
    "rv.rvs(10).sum(axis=1)"
   ]
  },
  {
   "cell_type": "markdown",
   "metadata": {
    "id": "mb8Fo0KzNv8V"
   },
   "source": [
    "Note that the relationship to $n$ remains unchanged\n",
    "for any number of rows.\n",
    "\n",
    "## Problem 2\n",
    "**The Pigeon Hole Principle**\n",
    "\n",
    "The pigeonhole principle appears as early as 1624, \n",
    "and states that $n$ items are put into $m$ containers, \n",
    "with $n > m$, then at least one container must contain more than one item.\n",
    "\n",
    "![TooManyPigeons.jpg](TooManyPigeons.jpg)\n",
    "\n",
    "\n",
    "Here there are n = 10 pigeons in m = 9 holes. \n",
    "Since 10 is greater than 9, the pigeonhole principle says \n",
    "that at least one hole has more than one pigeon. \n",
    "\n",
    "- What is the probability that the 5th hole has two pigeons\n",
    "    and every other hole has one pigeon?\n",
    "- If we assume that every hole has at least one pigeon, \n",
    "    what is the probability that the 5th hole has two pigeons?\n",
    "    In other words, no holes can have 0 pigeons. \n",
    "    \n",
    "---"
   ]
  },
  {
   "cell_type": "markdown",
   "metadata": {},
   "source": [
    "---"
   ]
  },
  {
   "cell_type": "markdown",
   "metadata": {
    "id": "bUXe3iUNNv8X"
   },
   "source": [
    "**Chi-Square Distribution**\n",
    "\n",
    "The $\\chi^2$  distribution is the sum of the squares \n",
    "of $k$ independent standard normal random variables. \n",
    "Specifically, the $\\chi^2$ distribution is a special \n",
    "case of the gamma distribution.\n",
    "It is frequently used for hypothesis testing and for\n",
    "construction of confidence intervals.\n",
    "\n",
    "Suppose we have $n$ independent random variables\n",
    "$X_i$ such that $X_i\\sim \\mathcal{N}(0,1)$.  \n",
    "We are interested in the following random variable \n",
    "$R = \\sqrt{\\sum_i X_i^2}$. \n",
    "\n",
    "The joint probability density of $X_i$ is:\n",
    "\n",
    "$$\n",
    "f_{\\mathbf{X}}(X) = \\frac{e^{-\\frac{1}{2}\\sum_i X_i^2}}{(2\\pi)^{\\frac{n}{2}}}\n",
    "$$\n",
    "\n",
    "where the $\\mathbf{X}$ represents a vector of $X_i$ random variables. \n",
    "You can think of $R$ as the radius of an $n$-dimensional sphere. \n",
    "The volume of this sphere is given by the the following formula,\n",
    "\n",
    "$$\n",
    "V_n(R) = \\frac{\\pi^{\\frac{n}{2}}}{\\Gamma(\\frac{n}{2}+1)} R^n\n",
    "$$\n",
    "\n",
    "To reduce the amount of notation we define,\n",
    "\n",
    "$$\n",
    "A := \\frac{\\pi^{\\frac{n}{2}}}{\\Gamma(\\frac{n}{2}+1)}\n",
    "$$\n",
    "\n",
    "The differential of this volume is the following,\n",
    "\n",
    "$$\n",
    "dV_n(R)= n A R^{n-1} dR\n",
    "$$\n",
    "\n",
    "In term of the $X_i$ coordinates, the probability (as always) \n",
    "equals one.\n",
    "\n",
    "$$\n",
    "\\int f_{\\mathbf{X}}(\\mathbf{X}) dV_n(\\mathbf{X}) = 1\n",
    "$$\n",
    "\n",
    "Changing the variable in terms of $R$ gives,\n",
    "\n",
    "$$\n",
    "\\int f_{\\mathbf{X}}(R) n A R^{n-1} dR\n",
    "$$\n",
    "\n",
    "Now,\n",
    "\n",
    "$$\n",
    "f_R(R):=f_{\\mathbf{X}}(R)  = n A\n",
    "R^{n-1}\\frac{e^{-\\frac{1}{2}R^2}}{(2\\pi)^{\\frac{n}{2}}}\n",
    "$$\n",
    "\n",
    "However, we are interested in the distribution $Y=R^2$. \n",
    "Using the same technique again,\n",
    "\n",
    "$$\n",
    "\\int f_{R}(R) dR =\\int f_{R}(\\sqrt{Y}) \\frac{dY}{2\\sqrt{Y}}\n",
    "$$\n",
    "\n",
    "Finally giving,\n",
    "\n",
    "$$\n",
    "f_Y(Y) := n A Y^\\frac{n-1}{2}\\frac{e^{-\\frac{1}{2}Y}}{(2\\pi)^{\\frac{n}{2}}}\n",
    "\\frac{1}{2\\sqrt{Y}}\n",
    "$$\n",
    "\n",
    "Then, the final step is to substitute back in $A$.\n",
    "This gives the $\\chi^2$ distribution with $n$ degrees of freedom,\n",
    "\n",
    "$$\n",
    "f_Y(Y) = n \\frac{\\pi^{\\frac{n}{2}}}{\\Gamma(\\frac{n}{2}+1)}\n",
    "Y^{n/2-1}\\frac{e^{-\\frac{1}{2}Y}}{(2\\pi)^{\\frac{n}{2}}} \\frac{1}{2}=\n",
    "\\frac{2^{-\\frac{n}{2}-1} n }{\\Gamma \\left(\\frac{n}{2}+1\\right)}e^{-Y/2}\n",
    "Y^{\\frac{n}{2}-1}\n",
    "$$\n",
    "\n",
    "## Problem 3\n",
    "  \n",
    "Consider the following table that tabulates the\n",
    "infection status of a certain population.  \n",
    "\n",
    "| Mild Infection | Strong Infection | No infection | Total |\n",
    "|----------------|------------------|--------------|-------|\n",
    "| 128            | 136              | 420          | 684   |  \n",
    "\n",
    "\n",
    "**Hypothesis:** \n",
    "these data are distributed according \n",
    "to the multinomial distribution with the following \n",
    "rates for each group:\n",
    "- mild infection: $p_1=1/4$ \n",
    "- strong infection: $p_2=1/4$ \n",
    "- no infection: $p_3=1/2$ \n",
    "\n",
    "Suppose $n_i$ is the count of people in the\n",
    "$i^{th}$ column and $\\sum_{i} n_i = n = 684$. \n",
    "Let $k$ denote the number of columns.\n",
    "Then, in order to apply the Central Limit Theorem, \n",
    "we want to sum the $n_i$ random variables, \n",
    "but these all sum to $n$, a constant, which prohibits using\n",
    "the theorem. \n",
    "Instead, suppose we sum the $n_i$ variables up to $k-1$ terms:\n",
    "\n",
    "$$\n",
    "z = \\sum_{i=1}^{k-1} n_i\n",
    "$$\n",
    "\n",
    "$z$ is asymptotically normally distributed, with mean\n",
    "$\\mathbb{E}(z) = \\sum_{i=1}^{k-1} n p_i$. \n",
    "\n",
    "Using our previous results and notation for\n",
    "multinomial random variables, we can write this as\n",
    "\n",
    "$$\n",
    "z = [\\mathbf{1}_{k-1}^\\top,0]\\mathbf{N}_n\n",
    "$$\n",
    "\n",
    "where $\\mathbf{1}_{k-1}$ is a vector of all ones of length $k-1$ and\n",
    "$\\mathbf{N}_n\\in \\mathbb{R}^{k}$. \n",
    "With this notation, we have\n",
    "\n",
    "$$\n",
    "\\mathbb{E}(z )= n [\\mathbf{1}_{k-1}^\\top,0] \\mathbf{p} = \\sum_{i=1}^{k-1} n\n",
    "p_i = n(1-p_k)\n",
    "$$\n",
    "\n",
    "We can get the variance of $z$ using the same method,\n",
    "\n",
    "$$\n",
    "\\mathbb{V}(z)\n",
    "=[\\mathbf{1}_{k-1}^\\top,0]\\textrm{Cov}(\\mathbf{N}_n)[\\mathbf{1}_{k-1}^\\top,0]^\\top\n",
    "$$\n",
    "\n",
    "which gives,\n",
    "\n",
    "$$\n",
    "\\mathbb{V}(z)\n",
    "=[\\mathbf{1}_{k-1}^\\top,0](n\\textrm{diag}(\\mathbf{p})-n\\mathbf{p}\\mathbf{p}^\\top\n",
    ")[\\mathbf{1}_{k-1}^\\top,0]^\\top\n",
    "$$\n",
    "\n",
    "The variance is then,\n",
    "\n",
    "$$\n",
    "\\mathbb{V}(z) = n (1-p_k)p_k\n",
    "$$\n",
    "\n",
    "With the mean and variance established we can subtract the\n",
    "hypothesize mean for  each column under the hypothesis and create \n",
    "the transformed variable,\n",
    "\n",
    "$$\n",
    "z^\\prime = \\sum_{i=1}^{k-1} \\frac{n_i-n p_i}{\\sqrt{n (1-p_k)p_k}} \\sim\n",
    "\\mathcal{N}(0,1)\n",
    "$$\n",
    "\n",
    "by the Central Limit Theorem. \n",
    "\n",
    "Likewise,\n",
    "\n",
    "$$\n",
    "\\sum_{i=1}^{k-1} \\frac{(n_i-n p_i)^2}{n (1-p_k)p_k} \\sim \\chi_{k-1}^2\n",
    "$$\n",
    "\n",
    "With all that established, we can test the hypothesis that the \n",
    "data in the table follow the hypothesized multinomial distribution\n",
    "using the `scipy.stats` module:"
   ]
  },
  {
   "cell_type": "code",
   "execution_count": null,
   "metadata": {
    "id": "SE90Le89Nv8X"
   },
   "outputs": [],
   "source": [
    "from scipy.stats import chi2"
   ]
  },
  {
   "cell_type": "markdown",
   "metadata": {
    "id": "nQh17qvVNv8X"
   },
   "source": [
    "- calculate $\\mathbb{V}(z)$\n",
    "- calculate $\\chi^2_{k-1}$\n",
    "- perform a $\\chi^2$ test to check the validity of the hypothesis and explain your answer in 2 sentences or less\n",
    "  - Hint: you will need to use the CDF distribution at the observed point\n",
    "\n",
    "---"
   ]
  },
  {
   "cell_type": "markdown",
   "metadata": {},
   "source": [
    "---"
   ]
  },
  {
   "cell_type": "markdown",
   "metadata": {
    "id": "teu0MlQlNv8Z"
   },
   "source": [
    "**Poisson and Exponential Distributions**\n",
    "\n",
    "The Poisson distribution for a random\n",
    "variable $X$ represents a number of\n",
    "events occurring in a given time interval\n",
    "($t$).\n",
    "The probability mass function (PMF) of the Poisson\n",
    "distribution is,\n",
    "\n",
    "$$\n",
    "p(x;\\lambda t) = \\frac{e^{-\\lambda t}(\\lambda t)^x}{x!}\n",
    "$$\n",
    "\n",
    "The Poisson distribution is closely related to the \n",
    "binomial distribution, $b(k; n, p)$ \n",
    "where $p$ is small and $n$ is large. \n",
    "That is, when there is a low-probability event \n",
    "but many trials, $n$. \n",
    "\n",
    "The binomial distribution is,\n",
    "\n",
    "$$\n",
    "b(k;n,p) =\\binom{n}{k} p^k (1 - p)^{n - k}\n",
    "$$\n",
    "\n",
    "for $k = 0, 1, 2, ..., n,$ and where \n",
    "$\\binom {n}{k}=\\frac {n!}{k!(n-k)!}$.\n",
    "\n",
    "Evaluating for $k=0$ and taking the logarithm of both sides, we obtain\n",
    "\n",
    "$$\n",
    "\\log b(0; n, p) = (1 - p)^n = \\left( 1-\\frac{\\lambda}{n} \\right)^n\n",
    "$$\n",
    "\n",
    "Then, the Taylor expansion of this gives the following,\n",
    "\n",
    "$$\n",
    "\\log b(0; n, p) \\approx -\\lambda - \\frac{\\lambda^2}{2 n} - \\cdots\n",
    "$$\n",
    "\n",
    "For large $n$, we can approximate this to,\n",
    "\n",
    "$$\n",
    "b(0;n,p) \\approx e^{-\\lambda}\n",
    "$$\n",
    "\n",
    "A similar argument for $k$ leads to the Poisson distribution.\n",
    "\n",
    "Conveniently, we have $\\mathbb{E}(X) = \\mathbb{V}(X)= \\lambda$. \n",
    "\n",
    "## Problem 4\n",
    "For example, suppose that the average number of vehicles \n",
    "passing under a toll-gate per hour is 3. \n",
    "- use python to calculate the probability that 6 vehicles pass under the gate in an hour \n",
    "  > Hint: use the `poisson` method from the `scipy.stats` module \n",
    "---"
   ]
  },
  {
   "cell_type": "markdown",
   "metadata": {
    "id": "qAt8rWOyNv8a"
   },
   "source": [
    "---"
   ]
  },
  {
   "cell_type": "markdown",
   "metadata": {
    "id": "EGUpRHG6Nv8a"
   },
   "source": [
    "**Exponential Distribution**\n",
    "\n",
    "The Poisson distribution is important for applications \n",
    "involving reliability and queueing. \n",
    "The Poisson distribution is used to compute the probability of\n",
    "specific numbers of events during a particular time period. \n",
    "In many cases the time period ($X$) itself is the random variable. \n",
    "For example, we might be interested in understanding the time \n",
    "$X$ between arrivals of vehicles at a checkpoint. \n",
    "With the Poisson distribution, the probability of *no* events\n",
    "occurring in the span of time up to time $t$ is given by the following,\n",
    "\n",
    "$$\n",
    "p(0;\\lambda t) = e^{-\\lambda t}\n",
    "$$\n",
    "\n",
    "Now, suppose $X$ is the time to the first event. \n",
    "The probability that the length of time until the first event \n",
    "will exceed $x$ is given by the following,\n",
    "\n",
    "$$\n",
    "\\mathbb{P}(X>x) = e^{-\\lambda x}\n",
    "$$\n",
    "\n",
    "Then, the cumulative distribution function (CDF) is given by \n",
    "the following,\n",
    "\n",
    "$$\n",
    "\\mathbb{P}(0\\le X\\le x) = F_X (x) = 1-e^{- \\lambda x}\n",
    "$$\n",
    "\n",
    "Taking the derivative of the CDF gives the *exponential* distribution,\n",
    "\n",
    "$$\n",
    "f_X(x) = \\lambda e^{-\\lambda x}\n",
    "$$\n",
    "\n",
    "where $\\mathbb{E}(X) = 1/\\lambda $ and $\\mathbb{V}(X)=\\frac{1}{\\lambda^2}$.\n",
    "\n",
    "## Problem 5\n",
    "\n",
    "- Use python to calculate the probability of a certain component lasting beyond \n",
    "    $T = 10$ years, where $T$ is modeled as a an exponential random variable \n",
    "    with $1/\\lambda=5$ years\n",
    "\n",
    "The exponential distribution is available in the `scipy.stats` module.  \n",
    "Note that the parameters are described in slightly different terms, \n",
    "see the \n",
    "[documentation](https://docs.scipy.org/doc/scipy-0.14.0/reference/generated/scipy.stats.expon.html#scipy.stats.expon) \n",
    "for `expon`.\n",
    "\n",
    "---"
   ]
  },
  {
   "cell_type": "markdown",
   "metadata": {
    "id": "UWV8rR98Nv8b"
   },
   "source": [
    "---"
   ]
  },
  {
   "cell_type": "markdown",
   "metadata": {
    "id": "HcuFK_gKNv8c"
   },
   "source": [
    "**Gamma Distribution**\n",
    "\n",
    "We have previously discussed how the exponential \n",
    "distribution can be created from the Poisson events. \n",
    "The exponential distribution has the *memoryless* property, \n",
    "namely,\n",
    "\n",
    "$$\n",
    "\\mathbb{P}(T>t_0+t\\vert T>t_0) = \\mathbb{P}(T>t)\n",
    "$$\n",
    "\n",
    "For example, given $T$ as the random variable representing \n",
    "the time until failure, this means that a component that \n",
    "has survived up through $t_0$ has the same failure probability \n",
    "of lasting $t$ units beyond that point. \n",
    "To derive this result, it is easier to compute the complementary \n",
    "event,\n",
    "\n",
    "$$\n",
    "\\mathbb{P}(t_0<T<t_0+t\\vert T>t_0) = \\mathbb{P}(t_0<T<t_0+t) = e^{-\\lambda\n",
    "t} \\left(e^{\\lambda  t}-1\\right)\n",
    "$$\n",
    "\n",
    "Then, one minus this result shows the memoryless property, which,\n",
    "unrealistically, does not account for wear over the first $t$ hours. \n",
    "The *gamma* distribution can remedy this.\n",
    "\n",
    "Recall that the exponential distribution describes the time until \n",
    "the occurrence of a Poisson event, the random variable $X$ \n",
    "for the time until a specified number of Poisson events ($\\alpha$) is\n",
    "described by the *gamma* distribution. \n",
    "Thus, the exponential distribution is a special \n",
    "case of the gamma distribution when $\\alpha=1$ and $\\beta=1/\\lambda$.\n",
    "For $x>0$, the gamma distribution is the following,\n",
    "\n",
    "$$\n",
    "f(x;\\alpha,\\beta)=\n",
    "\\frac{\\beta ^{-\\alpha } x^{\\alpha\n",
    "   -1}\n",
    "e^{-\\frac{x}{\\beta\n",
    "   }}}{\\Gamma (\\alpha )}\n",
    "$$\n",
    "\n",
    "and $f(x;\\alpha,\\beta)=0$ when $x\\le 0$ and $\\Gamma$ is the gamma\n",
    "function. \n",
    "\n",
    "The gamma distribution has $\\mathbb{E}(X) = \\alpha\\beta $ and\n",
    "$\\mathbb{V}(X)=\\alpha\\beta^2$\n",
    "\n",
    "---\n",
    "\n",
    "## Problem 6\n",
    "\n",
    "Suppose that vehicles passing under a gate follow a\n",
    "Poisson process, with an average of 5 vehicles passing \n",
    "per hour. \n",
    "- Use python to calculate the probability that at most an hour will \n",
    "    have passed before 2 vehicles pass the gate\n",
    "\n",
    "The gamma distribution is available in the `scipy.stats` module.  \n",
    "Note that the parameters are described in slightly different terms, \n",
    "see the \n",
    "[documentation](https://docs.scipy.org/doc/scipy-0.14.0/reference/generated/scipy.stats.gamma.html#scipy.stats.gamma) \n",
    "for `gamma`.\n",
    "\n",
    "---"
   ]
  },
  {
   "cell_type": "markdown",
   "metadata": {
    "id": "c2hivWrSNv8d"
   },
   "source": [
    "---"
   ]
  },
  {
   "cell_type": "markdown",
   "metadata": {
    "id": "H8SIxjHLNv8e"
   },
   "source": [
    "**Beta Distribution**\n",
    "\n",
    "The uniform distribution assigns a single constant value over \n",
    "the unit interval. \n",
    "The Beta distribution generalizes this to a function over the \n",
    "unit interval. \n",
    "The probability density function of the Beta distribution \n",
    "is the following,\n",
    "\n",
    "$$\n",
    "f(x) = \\frac{1}{\\beta(a,b)} x^{a-1} (1-x)^{b-1}\n",
    "$$\n",
    "\n",
    "where\n",
    "\n",
    "$$\n",
    "\\beta(a, b) = \\int_0^1 x^{a-1} (1-x)^{b-1} dx\n",
    "$$\n",
    "\n",
    "Note that $a=b=1$ yields the uniform distribution. \n",
    "In the special case for integers where $0\\le k\\le n$, \n",
    "we have\n",
    "\n",
    "$$\n",
    "\\int_0^1 \\binom{n}{k}x^k (1-x)^{n-k} dx = \\frac{1}{n+1}\n",
    "$$\n",
    "\n",
    "To get this result without calculus, we can use an experiment by\n",
    "Thomas Bayes.\n",
    "\n",
    "Start with $n$ white balls and one gray ball. \n",
    "Uniformly and at random, toss them onto the unit interval. \n",
    "Let $X$ be the number of white balls to the left of the gray ball. \n",
    "Thus, $X\\in \\lbrace 0,1,\\ldots,n \\rbrace$. \n",
    "To compute $\\mathbb{P}(X=k)$, we condition on the probability \n",
    "of the position $B$ of the gray ball, which is uniformly distributed \n",
    "over the unit interval ($f(p)=1$).\n",
    "Thus, we have\n",
    "\n",
    "$$\n",
    "\\mathbb{P}(X=k) = \\int_0^1 \\mathbb{P}(X=k\\vert B=p) f(p) dp = \\int_0^1\n",
    "\\binom{n}{k}p^k (1-p)^{n-k} dp\n",
    "$$\n",
    "\n",
    "Now, consider a slight variation on the experiment where we start\n",
    "with $n+1$ white balls and again toss them onto the unit interval \n",
    "and then later choose one ball at random to color gray. \n",
    "Using the same $X$ as before, by symmetry, because any one of the \n",
    "$n+1$ balls is equally likely to be chosen, we have\n",
    "\n",
    "$$\n",
    "\\mathbb{P}(X=k)=\\frac{1}{n+1}\n",
    "$$\n",
    "\n",
    "for $k\\in \\lbrace 0,1,\\ldots,n \\rbrace$. \n",
    "\n",
    "Both situations describe the same problem because it does not matter \n",
    "whether we paint the ball before or after we throw it. \n",
    "Setting the last two equations equal gives the desired result without\n",
    "using calculus.\n",
    "\n",
    "$$\n",
    "\\int_0^1 \\binom{n}{k}p^k (1-p)^{n-k} dp =  \\frac{1}{n+1}\n",
    "$$\n",
    "\n",
    "Given this experiment, it is not too surprising that there is an intimate\n",
    "relationship between the Beta distribution and binomial random variables.\n",
    "\n",
    "## Problem 7\n",
    "\n",
    "As you have seen so far, calculating these things in python is much \n",
    "easier than the formalisms would suggest. \n",
    "In the next few problems, we will use python to explore the beta distribution. \n",
    "\n",
    "### Problem 7.1\n",
    "\n",
    "- create a distribution for $\\beta(3,2)$ using the `scipy.stats` module\n",
    "- create an array of random variables associated with this distribution with \n",
    "    $n = 50$\n",
    "- calculate the mean \n",
    "- calculate the standard deviation \n",
    "- plot a normalized histogram of the distribution using the \n",
    "    `matplotlib.pyplot` module \n",
    "    - on the same plot, plot the PDF\n",
    "    \n",
    "---"
   ]
  },
  {
   "cell_type": "markdown",
   "metadata": {
    "id": "l2HL63zFNv8f"
   },
   "source": [
    "---\n",
    "\n",
    "### Problem 7.2\n",
    "\n",
    "- calculate the mean and variance of the beta distribution for `a = 2.3` and `b = 0.7`\n",
    "    - print these values clearly with 2 significant figures\n",
    "- create an 1D array of length 100 of beta distributed random variables\n",
    "- plot the PDF of the beta distribution using the `matplotlib.pyplot` module \n",
    "\n",
    "---"
   ]
  },
  {
   "cell_type": "markdown",
   "metadata": {
    "id": "X8kaos4XNv8g"
   },
   "source": [
    "\n",
    "---"
   ]
  }
 ],
 "metadata": {
  "colab": {
   "collapsed_sections": [
    "9GgVgdS-Nv8Q",
    "bKNmKbCtNv8e",
    "l2HL63zFNv8f",
    "r9kma9PLNv8g"
   ],
   "name": "PS4_solutions.ipynb",
   "provenance": []
  },
  "kernelspec": {
   "display_name": "c114-py38",
   "language": "python",
   "name": "c114-py38"
  },
  "language_info": {
   "codemirror_mode": {
    "name": "ipython",
    "version": 3
   },
   "file_extension": ".py",
   "mimetype": "text/x-python",
   "name": "python",
   "nbconvert_exporter": "python",
   "pygments_lexer": "ipython3",
   "version": "3.8.8"
  },
  "toc-autonumbering": false,
  "toc-showmarkdowntxt": false
 },
 "nbformat": 4,
 "nbformat_minor": 4
}
