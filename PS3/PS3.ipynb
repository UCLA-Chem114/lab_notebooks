{
 "cells": [
  {
   "cell_type": "markdown",
   "metadata": {
    "id": "Kqi3EwRGPFMz"
   },
   "source": [
    "# Problem Set 3\n",
    "\n",
    "**Experimental Uncertainties and Error Propagation**\n",
    "\n",
    "CHEM 114\n",
    "\n",
    "Shimon Weiss\n",
    "\n",
    "**Due Monday, April 26th**\n",
    "\n",
    "---\n",
    "\n",
    "## Import dependencies "
   ]
  },
  {
   "cell_type": "code",
   "execution_count": 1,
   "metadata": {},
   "outputs": [],
   "source": [
    "import numpy as np\n",
    "import matplotlib.pyplot as plt\n",
    "import seaborn as sns\n",
    "import lmfit\n",
    "from lmfit import Model, report_fit\n",
    "from uncertainties import ufloat\n",
    "\n",
    "from sympy import init_printing\n",
    "init_printing()  # beautiful maths"
   ]
  },
  {
   "cell_type": "code",
   "execution_count": 2,
   "metadata": {},
   "outputs": [],
   "source": [
    "%matplotlib inline\n",
    "%config InlineBackend.figure_format = 'retina'  # use this for hi-dpi displays\n",
    "sns.set_style('whitegrid')  # set the plotting style"
   ]
  },
  {
   "cell_type": "markdown",
   "metadata": {
    "id": "E5ImcEg5UHST"
   },
   "source": [
    "## Problem 1\n",
    "\n",
    "Compute the following dimensionless quantity and \f",
    "find the correct error bars (pay attention to the order of operations indicated by the\n",
    "brackets):\n",
    "\n",
    "$$[(0.0045 \\pm 0.0005) + (0.3 \\pm 0.9)] / (1.5 \\pm 0.1) = ?$$\n",
    "\n",
    "- Write out eqation(s) used for error propagation in a markdown cell with $\\LaTeX$ (see [cheatsheet](https://wch.github.io/latexsheet/latexsheet.pdf))\n",
    "- pretty print solution, see `uncertainties` [documentation](https://uncertainties-python-package.readthedocs.io/_/downloads/en/stable/pdf/)\n",
    "for examples\n",
    "\n",
    "---\n"
   ]
  },
  {
   "cell_type": "markdown",
   "metadata": {
    "id": "w9Uyh9hAUsR_"
   },
   "source": [
    "---\n",
    "\n",
    "## Problem 2\n",
    "\n",
    "\n",
    "Report the following numerical distance correctly, with error\n",
    "bars $$X+Y$$ where $X = 110.125 \\pm \u00060.003$ m and $Y = 85.6 \\pm\u0006 0.2$ m\n",
    "\n",
    "---"
   ]
  },
  {
   "cell_type": "markdown",
   "metadata": {
    "id": "CdWiKL1hXFli"
   },
   "source": [
    "---\n",
    "## Problem 3\n",
    "\n",
    "Express the following result in proper rounded form, with suitable error bars: \n",
    "\n",
    "mass $ = 19.1234$ g with uncertainty $0.6789$ g.\n",
    "\n",
    "---"
   ]
  },
  {
   "cell_type": "markdown",
   "metadata": {
    "id": "3Ld0xNuqXFrg"
   },
   "source": [
    "---\n",
    "## Problem 4\n",
    "\n",
    "Your experiment yielded the following measurement:\n",
    "\n",
    "$(4.1234 \u0006\\pm 0.4321)$ Joules\n",
    "\n",
    "Report this number with proper error bars and appropriate signi\f",
    "cant fi\f",
    "gures.\n",
    "\n",
    "---"
   ]
  },
  {
   "cell_type": "markdown",
   "metadata": {
    "id": "9UjEmRXiXFz-"
   },
   "source": [
    "---\n",
    "## Problem 5\n",
    "\n",
    "How many signi\f",
    "cant \f",
    "gures are there in each of the following expressions?\n",
    "- $0.00082$ s\n",
    "\n",
    "- $0.14800$ psi\n",
    "\n",
    "- $6.24 \\times \u000210^6$ l\n",
    "\n",
    "- $-754.090\u0002 \\times 10^{-27}$ J\n",
    "\n",
    "- $50$ cm\n",
    "\n",
    "- $50$ m\n",
    "\n",
    "---"
   ]
  },
  {
   "cell_type": "markdown",
   "metadata": {
    "id": "klzn-N4nXF5I"
   },
   "source": [
    "---\n",
    "\n",
    "## Problem 6\n",
    "\n",
    "You measure the length of an object with a ruler with smallest division of 1 mm. \n",
    "\n",
    "You measure the length 5 times with results in mm, estimating the last digit: \n",
    "\n",
    "$123.4, 123.5, 124.6, 123.7, 123.8$ mm \n",
    "\n",
    "- What is the average length and the uncertainty in length?\n",
    "\n",
    "---\n"
   ]
  },
  {
   "cell_type": "markdown",
   "metadata": {
    "id": "R2LWphoWbERy"
   },
   "source": [
    "---\n",
    "## Problem 7\n",
    "The uncertainty in  digital measurements can be taken to the last digit. \n",
    "Report the uncertainty of the measurements below:\n",
    "- A digital voltmeter reads voltages to the nearest thousandth of a volt. \n",
    "What will be its percent uncertainty in measuring a voltage of approximately $3$ V?\n",
    "- A digital balance reads masses to the nearest hundredth of a gram. \n",
    "What will be its percent uncertainty in measuring a mass of approximately $6$ g? \n",
    "\n",
    "---"
   ]
  },
  {
   "cell_type": "markdown",
   "metadata": {
    "id": "quLLg9M1bEGk"
   },
   "source": [
    "---\n",
    "\n",
    "## Problem 8\n",
    "\n",
    "The Richter magnitude of an earthquake is determined\n",
    "from the logarithm of the amplitude of waves \n",
    "recorded by seismographs \n",
    "(adjustments are included to compensate for the\n",
    "variation in the distance between the various seismographs and the epicenter of the earthquake). The formula is defined as:\n",
    "\n",
    "$$M_L = log_{10}(A / A_0(\\delta))$$\n",
    "\n",
    "where $A$ is the maximum excursion of the \n",
    "Wood-Anderson seismograph, the\n",
    "empirical function $A_0$ depends only on the\n",
    "epicentral distance of the station, $\\delta$. \n",
    "Both $A$ and $\\delta$ are prone to measurement error. \n",
    "\n",
    "Write an expression for the uncertainty in $M_L$ \n",
    "due to errors in $A$ and $\\delta$\n",
    "- Write the propagation error formula for $M_L$, \n",
    "    (this can be done in either $\\LaTeX$ or `sympy`)\n",
    "- use the [`sympy`](https://docs.sympy.org/latest/index.html) module to solve for the uncertainty.\n",
    "  - you will need to import each function from the `sympy` package e.g. `from sympy import Eq, print_latex`\n",
    "  - useful examples/tutorial can be found in the \n",
    "  [iPython cookbook](https://github.com/ipython-books/cookbook-2nd-code/tree/master/chapter15_symbolic)\n",
    "- print the solution in $\\LaTeX$ using `print_latex()`\n",
    "    - optional: you can check that the output works in a markdown cell\n",
    "    >Note that Microsoft 365 users can now write equations with \n",
    "    [$\\LaTeX$ in Word](https://support.microsoft.com/en-us/office/linear-format-equations-using-unicodemath-and-latex-in-word-2e00618d-b1fd-49d8-8cb4-8d17f25754f8). \n",
    "     If you do not have access to Microsoft 365, it may also be possible to install \n",
    "     a $\\LaTeX$ plugin.\n",
    "     Typing your equations will make your life MUCH easier, especially now that you know how to \n",
    "     generate them with `sympy`!\n",
    "---"
   ]
  },
  {
   "cell_type": "markdown",
   "metadata": {
    "id": "5wXVm_P9bEKw"
   },
   "source": [
    "---\n",
    "## Problem 9\n",
    "\n",
    "After measuring the speed of sound $u$ several times, a student concludes that the standard\n",
    "deviation $\\sigma_u$ of her measurements is $\\sigma_u = 10$ m/s. \n",
    "If all uncertainties were truly random,\n",
    "she could get any desired precision by\n",
    "making enough measurements and averaging.\n",
    "\n",
    "Use `sympy` to calculate the following:\n",
    ">HINT: you will need to import the functions from `sympy` as needed\n",
    "- How many measurements are needed to give a final uncertainty of 3 m/s?\n",
    "    - define a function for $\\delta$ and save the solution in a dictionary\n",
    "        using `solve(your_function, your_variable, dict=True)`\n",
    "    - evaluate the expression using the syntax `your_dict[value].values()`\n",
    "    - create a dictionary called `subs` that contains the parameters as keys \n",
    "        and the vaules as the numbers you want to evaluate the expression, e.g. \n",
    "        `subs = {'param1': 0, 'param2': 1}`\n",
    "        - finally, evaluate the expression using the dictionary you just created with\n",
    "            `solve(your_dict.subs(subs), your_variable, dict=True)`\n",
    "- How many for a final uncertainty of only $\\pm 0.5$ m/s?\n",
    "\n",
    "---"
   ]
  },
  {
   "cell_type": "markdown",
   "metadata": {
    "id": "Bam6GnGP992i"
   },
   "source": [
    "---\n",
    "## Problem 10\n",
    "\n",
    "| h (m) all +\\- 0.05 | v^2 (m^2/s^2) |\n",
    "|--------------------|---------------|\n",
    "| 0.4                | 7  +/- 3        |\n",
    "| 0.8                | 17 +/- 3        |\n",
    "| 1.4                | 25 +/- 3        |\n",
    "| 2.0                | 38 +/- 4        |\n",
    "| 2.6                | 45 +/- 5        |\n",
    "| 3.4                | 62 +/- 5        |\n",
    "| 3.8                | 72 +/- 6        |\n",
    "\n",
    "Use the table to plot the following:\n",
    "\n",
    "- Make a plot of $v^2$ against $h$, including vertical and horizontal error bars. \n",
    "- The slope of your graph should be $2 g$. \n",
    "    Use `lmfit` to calculate the slope\n",
    "- plot the residuals and and your fit using the `.plot()` method of `lmfit`\n",
    "    - include the error in y\n",
    "    - label axes appropriatly - ALWAYS include units!\n",
    "- create a dictionary of the parameter results using `your_result.params.valuesdict()`\n",
    "- create another plot of your fitted data using `matplotlib.pyplot` \n",
    "    - plot the best fit line and fit uncertainty using `plt.errorbars()`\n",
    "    - plot the raw data (you don't have to include the error - it is much larger than the fit error)\n",
    "    - make sure you adjust the `capsize` so that the errorbars are visible\n",
    "    >HINT: you can access the fit uncertainty with `your_result.eval_uncertainty()`\n",
    "    - print the slope and its error on the graph using `plt.text()` \n",
    "    >HINT: you can access these values with the syntax \n",
    "      `your_result.params['your_param'].value` and `your_result.params['your_param'].stderr`\n",
    "    - finally save a high resolution figure using `plt.savefig('my_figure', dpi=200)`\n",
    "- Are your results consistent with the accepted value $2g = 19.6~m^2/s^2$?\n",
    "---"
   ]
  },
  {
   "cell_type": "markdown",
   "metadata": {},
   "source": [
    "---\n",
    "\n",
    "Note that to create a plot similar to the `lmfit` method, \n",
    "you would have to make a figure with subplots. \n",
    "\n",
    "The residuals can be accessed as,"
   ]
  },
  {
   "cell_type": "code",
   "execution_count": 31,
   "metadata": {},
   "outputs": [],
   "source": [
    "res = result.residual"
   ]
  },
  {
   "cell_type": "code",
   "execution_count": 32,
   "metadata": {},
   "outputs": [],
   "source": [
    "# to create a figure with varying sized subplots, you would need to use `gridspec`\n",
    "# however, the example below is simple and produces evenly sized subplots \n",
    "#from matplotlib import gridspec"
   ]
  },
  {
   "cell_type": "code",
   "execution_count": 33,
   "metadata": {},
   "outputs": [
    {
     "data": {
      "image/png": "[encoded data removed]",
      "text/plain": [
       "<Figure size 576x432 with 2 Axes>"
      ]
     },
     "metadata": {
      "image/png": {
       "height": 370,
       "width": 494
      }
     },
     "output_type": "display_data"
    }
   ],
   "source": [
    "fig, ax = plt.subplots(2, 1, figsize = (8, 6))\n",
    "\n",
    "ax[0].plot(h, res, 'o')\n",
    "ax[0].axhline(0)\n",
    "ax[0].set_ylabel('residuals')\n",
    "ax[1].errorbar(h, result.best_fit, yerr=fit_uncertainty, markersize='3', fmt='go', capsize=5, label='fit uncertainty')\n",
    "ax[1].plot(h, result.best_fit, label='linear fit')\n",
    "ax[1].set_xlabel('height [m]')\n",
    "ax[1].set_ylabel('$v^2~[m^2/s^2]$')\n",
    "ax[1].set_title('acceleration due to gravity')\n",
    "ax[1].text(0.35, 40, f'$m = {slope: .2f} \\pm {err_slope: .2f} m^2/s^2$', fontsize=16)\n",
    "ax[1].legend()\n",
    "fig.savefig('gravity', dpi=400);"
   ]
  },
  {
   "cell_type": "code",
   "execution_count": null,
   "metadata": {},
   "outputs": [],
   "source": []
  }
 ],
 "metadata": {
  "colab": {
   "authorship_tag": "ABX9TyNgFVHo+7JkQocCyaZSbkUT",
   "collapsed_sections": [],
   "name": "PS3_solutions.ipynb",
   "provenance": [],
   "toc_visible": true
  },
  "kernelspec": {
   "display_name": "c114-py38",
   "language": "python",
   "name": "c114-py38"
  },
  "language_info": {
   "codemirror_mode": {
    "name": "ipython",
    "version": 3
   },
   "file_extension": ".py",
   "mimetype": "text/x-python",
   "name": "python",
   "nbconvert_exporter": "python",
   "pygments_lexer": "ipython3",
   "version": "3.8.8"
  }
 },
 "nbformat": 4,
 "nbformat_minor": 4
}
