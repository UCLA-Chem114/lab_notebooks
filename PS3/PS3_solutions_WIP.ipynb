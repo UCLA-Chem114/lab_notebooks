{
 "cells": [
  {
   "cell_type": "markdown",
   "metadata": {
    "id": "Kqi3EwRGPFMz"
   },
   "source": [
    "# Problem Set 3\n",
    "\n",
    "**Experimental Uncertainties and Error Propagation**\n",
    "\n",
    "CHEM 114\n",
    "\n",
    "Shimon Weiss\n",
    "\n",
    "**Due Monday, April 26th**\n",
    "\n",
    "---\n",
    "\n",
    "## Import dependencies "
   ]
  },
  {
   "cell_type": "code",
   "execution_count": 1,
   "metadata": {},
   "outputs": [],
   "source": [
    "import numpy as np\n",
    "import matplotlib.pyplot as plt\n",
    "import seaborn as sns\n",
    "import lmfit\n",
    "from lmfit import Model, report_fit\n",
    "from uncertainties import ufloat\n",
    "from sympy import init_printing\n",
    "init_printing()  # beautiful maths"
   ]
  },
  {
   "cell_type": "code",
   "execution_count": 2,
   "metadata": {},
   "outputs": [],
   "source": [
    "%matplotlib inline\n",
    "%config InlineBackend.figure_format = 'retina'  # use this for hi-dpi displays\n",
    "sns.set_style('whitegrid')  # set the plotting style"
   ]
  },
  {
   "cell_type": "markdown",
   "metadata": {
    "id": "E5ImcEg5UHST"
   },
   "source": [
    "## Problem 1\n",
    "\n",
    "Compute the following dimensionless quantity and \f",
    "find the correct error bars (pay attention to the order of operations indicated by the\n",
    "brackets):\n",
    "\n",
    "$$[(0.0045 \\pm 0.0005) + (0.3 \\pm 0.9)] / (1.5 \\pm 0.1) = ?$$\n",
    "\n",
    "- Write out eqation(s) used for error propagation in a markdown cell with $\\LaTeX$ (see [cheatsheet](https://wch.github.io/latexsheet/latexsheet.pdf))\n",
    "- pretty print solution, see `uncertainties` [documentation](https://uncertainties-python-package.readthedocs.io/_/downloads/en/stable/pdf/)\n",
    "for examples\n",
    "\n",
    "---\n"
   ]
  },
  {
   "cell_type": "markdown",
   "metadata": {
    "id": "HWaeAkTHW5rJ"
   },
   "source": [
    "## Solution 1\n",
    "\n",
    "Using the `uncertainties` module, we can easily calculate the quantity and the the error bar.\n",
    "\n",
    "The error propagation for addition is:\n",
    "\n",
    "$$\\alpha_Z = \\sqrt{(\\alpha_A)^2 + (\\alpha_B)^2}$$\n",
    "\n",
    "The error propagation for division is:\n",
    "\n",
    "$$\\alpha_Z = \\sqrt{(\\frac{\\alpha_A}{A})^2 + (\\frac{\\alpha_B}{B})^2}$$\n",
    "\n"
   ]
  },
  {
   "cell_type": "code",
   "execution_count": 3,
   "metadata": {
    "colab": {
     "base_uri": "https://localhost:8080/"
    },
    "executionInfo": {
     "elapsed": 4379,
     "status": "ok",
     "timestamp": 1616552257734,
     "user": {
      "displayName": "Maya Segal",
      "photoUrl": "",
      "userId": "03412661861498367168"
     },
     "user_tz": 420
    },
    "id": "73yXuQqnPDwG",
    "outputId": "9860ac41-2cf8-437c-dd53-fb69919ec185"
   },
   "outputs": [
    {
     "name": "stdout",
     "output_type": "stream",
     "text": [
      "x = 0.2±0.6\n"
     ]
    }
   ],
   "source": [
    "# perform calculation\n",
    "x = (ufloat(0.0045, 0.0005) + ufloat(0.3, 0.9)) / ufloat(1.5, 0.1)\n",
    "\n",
    "# pretty print solution using the CORRECT number of significant figures\n",
    "print(f'x = {x:.1uP}')"
   ]
  },
  {
   "cell_type": "markdown",
   "metadata": {
    "id": "w9Uyh9hAUsR_"
   },
   "source": [
    "---\n",
    "\n",
    "## Problem 2\n",
    "\n",
    "\n",
    "Report the following numerical distance correctly, with error\n",
    "bars $$X+Y$$ where $X = 110.125 \\pm \u00060.003$ m and $Y = 85.6 \\pm\u0006 0.2$ m\n",
    "\n",
    "---"
   ]
  },
  {
   "cell_type": "markdown",
   "metadata": {
    "id": "jI7HNDVsVkpl"
   },
   "source": [
    "## Solution 2\n",
    "\n",
    "Whether we use the $\\sigma_Z = \\sigma_X + \\sigma_Y$ method or the quadrature method, \n",
    "the error in $X + Y$ is dominated by the error in $Y$ (i.e. $\\sigma_Y \\gg \u001d",
    "\u001b\\sigma_X$).\n",
    "\n",
    "Thus the error bar is $0.2$ m \n",
    "\n",
    "Next, we round $110.125 + 85.6 = 195.725$ to the tenths digit, \n",
    "giving $195.7 \\pm 0.2$ m\n"
   ]
  },
  {
   "cell_type": "markdown",
   "metadata": {
    "id": "CdWiKL1hXFli"
   },
   "source": [
    "---\n",
    "## Problem 3\n",
    "\n",
    "Express the following result in proper rounded form, with suitable error bars: \n",
    "\n",
    "mass $ = 19.1234$ g with uncertainty $0.6789$ g.\n",
    "\n",
    "---"
   ]
  },
  {
   "cell_type": "markdown",
   "metadata": {
    "id": "uu-HDT_5XFoq"
   },
   "source": [
    "## Solution 3\n",
    "\n",
    "First we need to round the error bar to $1$ or $2$ sig fi\f",
    "gs. \n",
    "Let's round to 1 sig fi\f",
    "g: $0.7$ g \n",
    "\n",
    "Then we round the mass to this fi\f",
    "gure: $19.1$ g\n",
    "\n",
    "Giving: $19.1(7)$ g"
   ]
  },
  {
   "cell_type": "markdown",
   "metadata": {
    "id": "3Ld0xNuqXFrg"
   },
   "source": [
    "---\n",
    "## Problem 4\n",
    "\n",
    "Your experiment yielded the following measurement:\n",
    "\n",
    "$(4.1234 \u0006\\pm 0.4321)$ Joules\n",
    "\n",
    "Report this number with proper error bars and appropriate signi\f",
    "cant fi\f",
    "gures.\n",
    "\n",
    "---"
   ]
  },
  {
   "cell_type": "markdown",
   "metadata": {
    "id": "hkqdJ7jaXFwX"
   },
   "source": [
    "## Solution 4\n",
    "\n",
    "Either \n",
    "\n",
    "$(4.1 \\pm\u0006 0.4)$ J \n",
    "\n",
    "or \n",
    "\n",
    "$(4.12 \\pm\u0006 0.43)$ J"
   ]
  },
  {
   "cell_type": "markdown",
   "metadata": {
    "id": "9UjEmRXiXFz-"
   },
   "source": [
    "---\n",
    "## Problem 5\n",
    "\n",
    "How many signi\f",
    "cant \f",
    "gures are there in each of the following expressions?\n",
    "- $0.00082$ s\n",
    "\n",
    "- $0.14800$ psi\n",
    "\n",
    "- $6.24 \\times \u000210^6$ l\n",
    "\n",
    "- $-754.090\u0002 \\times 10^{-27}$ J\n",
    "\n",
    "- $50$ cm\n",
    "\n",
    "- $50$ m\n",
    "\n",
    "---"
   ]
  },
  {
   "cell_type": "markdown",
   "metadata": {
    "id": "YdCCrGrkXF2n"
   },
   "source": [
    "## Solution 5\n",
    "\n",
    "- $0.00082$ s: 2 sig figs\n",
    "\n",
    "- $0.14800$ psi: 5 sig figs\n",
    "\n",
    "- $6.24 \\times \u000210^6$ l: 3 sig figs\n",
    "\n",
    "- $-754.090\u0002 \\times 10^{-27}$ J: 6 sig figs\n",
    "\n",
    "- $50$ cm: 1 or 2 sig figs\n",
    "\n",
    "- $50$ m: 1 or 2 sig figs"
   ]
  },
  {
   "cell_type": "markdown",
   "metadata": {
    "id": "klzn-N4nXF5I"
   },
   "source": [
    "---\n",
    "\n",
    "## Problem 6\n",
    "\n",
    "You measure the length of an object with a ruler with smallest division of 1 mm. \n",
    "\n",
    "You measure the length 5 times with results in mm, estimating the last digit: \n",
    "\n",
    "$123.4, 123.5, 124.6, 123.7, 123.8$ mm \n",
    "\n",
    "- What is the average length and the uncertainty in length?\n",
    "\n",
    "---\n"
   ]
  },
  {
   "cell_type": "markdown",
   "metadata": {
    "id": "0343BYDpbEA9"
   },
   "source": [
    "## Solution 6\n",
    "\n",
    "For an \"analog\" device with the smallest division of 1 mm, \n",
    "and we can only estimate to 1/2 of the smallest division i.e. $0.5$ mm.\n",
    "Giving:\n",
    "\n",
    "$123.8(5)$ mm"
   ]
  },
  {
   "cell_type": "markdown",
   "metadata": {
    "id": "quLLg9M1bEGk"
   },
   "source": [
    "---\n",
    "\n",
    "## Problem 7\n",
    "\n",
    "The Richter magnitude of an earthquake is determined\n",
    "from the logarithm of the amplitude of waves \n",
    "recorded by seismographs \n",
    "(adjustments are included to compensate for the\n",
    "variation in the distance between the various seismographs and the epicenter of the earthquake). The formula is defined as:\n",
    "\n",
    "$$M_L = log_{10}(A / A_0(\\delta))$$\n",
    "\n",
    "where $A$ is the maximum excursion of the \n",
    "Wood-Anderson seismograph, the\n",
    "empirical function $A_0$ depends only on the\n",
    "epicentral distance of the station, $\\delta$. \n",
    "Both $A$ and $\\delta$ are prone to measurement error. \n",
    "\n",
    "Write an expression for the uncertainty in $M_L$ \n",
    "due to errors in $A$ and $\\delta$\n",
    "- Write the propagation error formula for $M_L$, \n",
    "    (this can be done in either $\\LaTeX$ or `sympy`)\n",
    "- use the [`sympy`](https://docs.sympy.org/latest/index.html) module to solve for the uncertainty.\n",
    "  - you will need to import each function from the `sympy` package e.g. `from sympy import Eq`\n",
    "  - useful examples/tutorial can be found in the \n",
    "  [iPython cookbook](https://github.com/ipython-books/cookbook-2nd-code/tree/master/chapter15_symbolic)\n",
    "\n",
    "---"
   ]
  },
  {
   "cell_type": "markdown",
   "metadata": {
    "id": "9XmKux2wbEIq"
   },
   "source": [
    "## Solution 7\n",
    "\n",
    "The propagation of error formula for $M_L$ (written with $\\LaTeX$) is:\n",
    "\n",
    "$$\\sigma^2_{M_L} = \\left|\\frac{\\partial{M_L}}{\\partial{A}}\\right|^2\\sigma^2_A + \\left|\\frac{\\partial{M_L}}{\\partial{\\delta}}\\right|^2\\sigma^2_{\\delta}$$\n",
    "\n",
    "Using `sympy` we can solve for the partial derivatives $\\frac{\\partial{M_L}}{\\partial{A}}$\n",
    "and $\\frac{\\partial{M_L}}{\\partial{\\delta}}$\n",
    "\n",
    "Note that the expression for uncertainty in $M_L$ can be, perhaps more easily, \n",
    "expressed with `sympy` i.e. either approach will receive full credit. "
   ]
  },
  {
   "cell_type": "code",
   "execution_count": 4,
   "metadata": {
    "colab": {
     "base_uri": "https://localhost:8080/"
    },
    "executionInfo": {
     "elapsed": 7487,
     "status": "ok",
     "timestamp": 1616552260848,
     "user": {
      "displayName": "Maya Segal",
      "photoUrl": "",
      "userId": "03412661861498367168"
     },
     "user_tz": 420
    },
    "id": "vBl3cBzXfgK1",
    "outputId": "e9269b38-1bc4-4fb3-baf3-98c12fccd59e"
   },
   "outputs": [],
   "source": [
    "from sympy import Eq, symbols, Abs, log, Function, Derivative, diff"
   ]
  },
  {
   "cell_type": "code",
   "execution_count": 5,
   "metadata": {
    "colab": {
     "base_uri": "https://localhost:8080/",
     "height": 38
    },
    "executionInfo": {
     "elapsed": 7693,
     "status": "ok",
     "timestamp": 1616552261071,
     "user": {
      "displayName": "Maya Segal",
      "photoUrl": "",
      "userId": "03412661861498367168"
     },
     "user_tz": 420
    },
    "id": "i5rolzOMgVJq",
    "outputId": "2946fd48-b1a9-44e0-abaa-c472db120a5c"
   },
   "outputs": [
    {
     "data": {
      "image/png": "[encoded data removed]",
      "text/latex": [
       "$\\displaystyle \\left( M_{L}, \\  A, \\  \\delta, \\  \\sigma^{2}_{ML}, \\  \\sigma^{2}_{A}, \\  \\sigma^{2}_{\\delta}\\right)$"
      ],
      "text/plain": [
       "(M_L, A, δ, σ_ML__2, σ_A__2, σ_δ__2)"
      ]
     },
     "execution_count": 5,
     "metadata": {},
     "output_type": "execute_result"
    }
   ],
   "source": [
    "# define the symbols\n",
    "ML, A, delta = symbols('M_L, A, delta')\n",
    "sigma_2_ml, sigma_2_A, sigma_2_delta = symbols('sigma^2_ML, sigma^2_A, sigma^2_delta')\n",
    "ML, A, delta, sigma_2_ml, sigma_2_A, sigma_2_delta"
   ]
  },
  {
   "cell_type": "code",
   "execution_count": 6,
   "metadata": {
    "colab": {
     "base_uri": "https://localhost:8080/",
     "height": 38
    },
    "executionInfo": {
     "elapsed": 7676,
     "status": "ok",
     "timestamp": 1616552261071,
     "user": {
      "displayName": "Maya Segal",
      "photoUrl": "",
      "userId": "03412661861498367168"
     },
     "user_tz": 420
    },
    "id": "kYmGJPEdl7nr",
    "outputId": "37ad7d5a-7220-44df-ab19-cfce3dcb274c"
   },
   "outputs": [
    {
     "data": {
      "image/png": "[encoded data removed]",
      "text/latex": [
       "$\\displaystyle \\operatorname{A_{0}}{\\left(\\delta \\right)}$"
      ],
      "text/plain": [
       "A₀(δ)"
      ]
     },
     "execution_count": 6,
     "metadata": {},
     "output_type": "execute_result"
    }
   ],
   "source": [
    "# define a A0 as a function of delta\n",
    "A0 =  Function('A0')(delta) \n",
    "A0"
   ]
  },
  {
   "cell_type": "code",
   "execution_count": 7,
   "metadata": {
    "colab": {
     "base_uri": "https://localhost:8080/",
     "height": 70
    },
    "executionInfo": {
     "elapsed": 8065,
     "status": "ok",
     "timestamp": 1616552261475,
     "user": {
      "displayName": "Maya Segal",
      "photoUrl": "",
      "userId": "03412661861498367168"
     },
     "user_tz": 420
    },
    "id": "i_F-VEr4lHQV",
    "outputId": "d46706b9-3568-417b-afda-6b013d005a2c"
   },
   "outputs": [
    {
     "data": {
      "image/png": "[encoded data removed]",
      "text/latex": [
       "$\\displaystyle \\frac{\\log{\\left(\\frac{A}{\\operatorname{A_{0}}{\\left(\\delta \\right)}} \\right)}}{\\log{\\left(10 \\right)}}$"
      ],
      "text/plain": [
       "   ⎛  A  ⎞\n",
       "log⎜─────⎟\n",
       "   ⎝A₀(δ)⎠\n",
       "──────────\n",
       " log(10)  "
      ]
     },
     "execution_count": 7,
     "metadata": {},
     "output_type": "execute_result"
    }
   ],
   "source": [
    "ML_expr = log(A/A0, 10) # convert from base e to base 10\n",
    "ML_expr"
   ]
  },
  {
   "cell_type": "code",
   "execution_count": 8,
   "metadata": {
    "colab": {
     "base_uri": "https://localhost:8080/",
     "height": 80
    },
    "executionInfo": {
     "elapsed": 8457,
     "status": "ok",
     "timestamp": 1616552261883,
     "user": {
      "displayName": "Maya Segal",
      "photoUrl": "",
      "userId": "03412661861498367168"
     },
     "user_tz": 420
    },
    "id": "olqwVy4DnnWT",
    "outputId": "65148d83-5017-4c59-b137-02b64ffd3ce6"
   },
   "outputs": [
    {
     "data": {
      "image/png": "[encoded data removed]",
      "text/latex": [
       "$\\displaystyle \\left( \\frac{\\partial}{\\partial A} \\frac{\\log{\\left(\\frac{A}{\\operatorname{A_{0}}{\\left(\\delta \\right)}} \\right)}}{\\log{\\left(10 \\right)}}, \\  \\frac{\\partial}{\\partial \\delta} \\frac{\\log{\\left(\\frac{A}{\\operatorname{A_{0}}{\\left(\\delta \\right)}} \\right)}}{\\log{\\left(10 \\right)}}\\right)$"
      ],
      "text/plain": [
       "⎛  ⎛   ⎛  A  ⎞⎞    ⎛   ⎛  A  ⎞⎞⎞\n",
       "⎜  ⎜log⎜─────⎟⎟    ⎜log⎜─────⎟⎟⎟\n",
       "⎜∂ ⎜   ⎝A₀(δ)⎠⎟  ∂ ⎜   ⎝A₀(δ)⎠⎟⎟\n",
       "⎜──⎜──────────⎟, ──⎜──────────⎟⎟\n",
       "⎝∂A⎝ log(10)  ⎠  ∂δ⎝ log(10)  ⎠⎠"
      ]
     },
     "execution_count": 8,
     "metadata": {},
     "output_type": "execute_result"
    }
   ],
   "source": [
    "# write expression for derivatives \n",
    "dML_dA = Derivative(ML_expr, A)\n",
    "dML_ddelta = Derivative(ML_expr, delta)\n",
    "dML_dA, dML_ddelta"
   ]
  },
  {
   "cell_type": "code",
   "execution_count": 9,
   "metadata": {
    "colab": {
     "base_uri": "https://localhost:8080/",
     "height": 84
    },
    "executionInfo": {
     "elapsed": 8443,
     "status": "ok",
     "timestamp": 1616552261885,
     "user": {
      "displayName": "Maya Segal",
      "photoUrl": "",
      "userId": "03412661861498367168"
     },
     "user_tz": 420
    },
    "id": "1GQ-Sz44qThQ",
    "outputId": "54905497-2021-4403-ca3c-c509f246d2b0"
   },
   "outputs": [
    {
     "data": {
      "image/png": "[encoded data removed]",
      "text/latex": [
       "$\\displaystyle \\sigma^{2}_{A} \\left|{\\frac{\\partial}{\\partial A} \\frac{\\log{\\left(\\frac{A}{\\operatorname{A_{0}}{\\left(\\delta \\right)}} \\right)}}{\\log{\\left(10 \\right)}}}\\right|^{2} + \\sigma^{2}_{\\delta} \\left|{\\frac{\\partial}{\\partial \\delta} \\frac{\\log{\\left(\\frac{A}{\\operatorname{A_{0}}{\\left(\\delta \\right)}} \\right)}}{\\log{\\left(10 \\right)}}}\\right|^{2}$"
      ],
      "text/plain": [
       "                       2                          2\n",
       "       │  ⎛   ⎛  A  ⎞⎞│           │  ⎛   ⎛  A  ⎞⎞│ \n",
       "       │  ⎜log⎜─────⎟⎟│           │  ⎜log⎜─────⎟⎟│ \n",
       "       │∂ ⎜   ⎝A₀(δ)⎠⎟│           │∂ ⎜   ⎝A₀(δ)⎠⎟│ \n",
       "σ_A__2⋅│──⎜──────────⎟│  + σ_δ__2⋅│──⎜──────────⎟│ \n",
       "       │∂A⎝ log(10)  ⎠│           │∂δ⎝ log(10)  ⎠│ "
      ]
     },
     "execution_count": 9,
     "metadata": {},
     "output_type": "execute_result"
    }
   ],
   "source": [
    "# write expression for uncertainty in ML\n",
    "sigma_2_ML = Abs(dML_dA)**2*sigma_2_A + Abs(dML_ddelta)**2*sigma_2_delta\n",
    "sigma_2_ML"
   ]
  },
  {
   "cell_type": "code",
   "execution_count": 10,
   "metadata": {
    "colab": {
     "base_uri": "https://localhost:8080/",
     "height": 68
    },
    "executionInfo": {
     "elapsed": 8428,
     "status": "ok",
     "timestamp": 1616552261886,
     "user": {
      "displayName": "Maya Segal",
      "photoUrl": "",
      "userId": "03412661861498367168"
     },
     "user_tz": 420
    },
    "id": "VyCBS9Itp5b_",
    "outputId": "637387cb-363d-4544-ef69-85ebfcef95ab"
   },
   "outputs": [
    {
     "data": {
      "image/png": "[encoded data removed]",
      "text/latex": [
       "$\\displaystyle \\left( \\frac{1}{A \\log{\\left(10 \\right)}}, \\  - \\frac{\\frac{d}{d \\delta} \\operatorname{A_{0}}{\\left(\\delta \\right)}}{\\operatorname{A_{0}}{\\left(\\delta \\right)} \\log{\\left(10 \\right)}}\\right)$"
      ],
      "text/plain": [
       "⎛             d          ⎞\n",
       "⎜            -──(A₀(δ))  ⎟\n",
       "⎜    1        dδ         ⎟\n",
       "⎜─────────, ─────────────⎟\n",
       "⎝A⋅log(10)  A₀(δ)⋅log(10)⎠"
      ]
     },
     "execution_count": 10,
     "metadata": {},
     "output_type": "execute_result"
    }
   ],
   "source": [
    "# perform partial differentiation\n",
    "dML_dA = diff(ML_expr, A)\n",
    "dML_ddelta = diff(ML_expr, delta)\n",
    "dML_dA, dML_ddelta"
   ]
  },
  {
   "cell_type": "code",
   "execution_count": 11,
   "metadata": {
    "colab": {
     "base_uri": "https://localhost:8080/",
     "height": 77
    },
    "executionInfo": {
     "elapsed": 8412,
     "status": "ok",
     "timestamp": 1616552261886,
     "user": {
      "displayName": "Maya Segal",
      "photoUrl": "",
      "userId": "03412661861498367168"
     },
     "user_tz": 420
    },
    "id": "a0MgSOAlgVuk",
    "outputId": "d5552773-1444-4b71-a1f2-2dc635194a5e"
   },
   "outputs": [
    {
     "data": {
      "image/png": "[encoded data removed]",
      "text/latex": [
       "$\\displaystyle \\frac{\\sigma^{2}_{A}}{\\log{\\left(10 \\right)}^{2} \\left|{A}\\right|^{2}} + \\frac{\\sigma^{2}_{\\delta} \\left|{\\frac{\\frac{d}{d \\delta} \\operatorname{A_{0}}{\\left(\\delta \\right)}}{\\operatorname{A_{0}}{\\left(\\delta \\right)}}}\\right|^{2}}{\\log{\\left(10 \\right)}^{2}}$"
      ],
      "text/plain": [
       "                                  2\n",
       "                       │d        │ \n",
       "                       │──(A₀(δ))│ \n",
       "                       │dδ       │ \n",
       "                σ_δ__2⋅│─────────│ \n",
       "    σ_A__2             │  A₀(δ)  │ \n",
       "───────────── + ───────────────────\n",
       "   2        2            2         \n",
       "log (10)⋅│A│          log (10)     "
      ]
     },
     "execution_count": 11,
     "metadata": {},
     "output_type": "execute_result"
    }
   ],
   "source": [
    "# solution of uncertainty in ML\n",
    "sigma_2_ML = Abs(dML_dA)**2*sigma_2_A + Abs(dML_ddelta)**2*sigma_2_delta\n",
    "sigma_2_ML"
   ]
  },
  {
   "cell_type": "markdown",
   "metadata": {
    "id": "5wXVm_P9bEKw"
   },
   "source": [
    "---\n",
    "## Problem 8\n",
    "\n",
    "After measuring the speed of sound $u$ several times, a student concludes that the standard\n",
    "deviation $\\sigma_u$\u001b of her measurements is $\\sigma_u = 10$ m/s. \n",
    "If all uncertainties were truly random,\n",
    "she could get any desired precision by\n",
    "making enough measurements and averaging.\n",
    "\n",
    "- How many measurements are needed to give a \f",
    "nal uncertainty of \u00063 m/s?\n",
    "- How many for a fi\f",
    "nal uncertainty of only \u0006$\\pm 0.5$ m/s?\n",
    "\n",
    "---"
   ]
  },
  {
   "cell_type": "markdown",
   "metadata": {
    "id": "solnAgvobENF"
   },
   "source": [
    "## Solution 8\n",
    "\n",
    "The `sympy` module can also be used to evaluate expressions:\n"
   ]
  },
  {
   "cell_type": "code",
   "execution_count": 12,
   "metadata": {
    "colab": {
     "base_uri": "https://localhost:8080/",
     "height": 38
    },
    "executionInfo": {
     "elapsed": 9127,
     "status": "ok",
     "timestamp": 1616552262617,
     "user": {
      "displayName": "Maya Segal",
      "photoUrl": "",
      "userId": "03412661861498367168"
     },
     "user_tz": 420
    },
    "id": "KwAJqCUSL2-e",
    "outputId": "f4972090-fd55-4536-c0d8-cd10da022ac9"
   },
   "outputs": [
    {
     "data": {
      "image/png": "[encoded data removed]",
      "text/latex": [
       "$\\displaystyle \\left( \\delta, \\  \\sigma_{u}, \\  n\\right)$"
      ],
      "text/plain": [
       "(δ, σᵤ, n)"
      ]
     },
     "execution_count": 12,
     "metadata": {},
     "output_type": "execute_result"
    }
   ],
   "source": [
    "delta, sigma_u, n = symbols('delta, sigma_u, n')\n",
    "delta, sigma_u, n"
   ]
  },
  {
   "cell_type": "code",
   "execution_count": 13,
   "metadata": {
    "executionInfo": {
     "elapsed": 9134,
     "status": "ok",
     "timestamp": 1616552262626,
     "user": {
      "displayName": "Maya Segal",
      "photoUrl": "",
      "userId": "03412661861498367168"
     },
     "user_tz": 420
    },
    "id": "VvJ7xtNKMENM"
   },
   "outputs": [],
   "source": [
    "from sympy import sqrt, evalf, Eq, solve"
   ]
  },
  {
   "cell_type": "code",
   "execution_count": 14,
   "metadata": {
    "colab": {
     "base_uri": "https://localhost:8080/",
     "height": 52
    },
    "executionInfo": {
     "elapsed": 9121,
     "status": "ok",
     "timestamp": 1616552262628,
     "user": {
      "displayName": "Maya Segal",
      "photoUrl": "",
      "userId": "03412661861498367168"
     },
     "user_tz": 420
    },
    "id": "l5xc9bGiPqk_",
    "outputId": "70df834a-2e6d-4df0-c3fc-f10511f86b9d"
   },
   "outputs": [
    {
     "data": {
      "image/png": "[encoded data removed]",
      "text/latex": [
       "$\\displaystyle \\delta = \\frac{\\sigma_{u}}{\\sqrt{n}}$"
      ],
      "text/plain": [
       "    σᵤ\n",
       "δ = ──\n",
       "    √n"
      ]
     },
     "execution_count": 14,
     "metadata": {},
     "output_type": "execute_result"
    }
   ],
   "source": [
    "# set delta equal to expression using `Eq` class\n",
    "delta_eq = Eq(delta, sigma_u / sqrt(n))\n",
    "delta_eq"
   ]
  },
  {
   "cell_type": "code",
   "execution_count": 15,
   "metadata": {
    "colab": {
     "base_uri": "https://localhost:8080/",
     "height": 58
    },
    "executionInfo": {
     "elapsed": 9107,
     "status": "ok",
     "timestamp": 1616552262628,
     "user": {
      "displayName": "Maya Segal",
      "photoUrl": "",
      "userId": "03412661861498367168"
     },
     "user_tz": 420
    },
    "id": "NU7Bf_LSOCVD",
    "outputId": "fc6af361-f4ba-43e8-a2be-f92feffb2571"
   },
   "outputs": [
    {
     "data": {
      "image/png": "[encoded data removed]",
      "text/latex": [
       "$\\displaystyle \\left[ \\left\\{ n : \\frac{\\sigma_{u}^{2}}{\\delta^{2}}\\right\\}\\right]$"
      ],
      "text/plain": [
       "⎡⎧     2⎫⎤\n",
       "⎢⎪   σᵤ ⎪⎥\n",
       "⎢⎨n: ───⎬⎥\n",
       "⎢⎪     2⎪⎥\n",
       "⎣⎩    δ ⎭⎦"
      ]
     },
     "execution_count": 15,
     "metadata": {},
     "output_type": "execute_result"
    }
   ],
   "source": [
    "# rearrange for n and save in dict\n",
    "n_dict = solve(delta_eq, n, dict=True)\n",
    "n_dict"
   ]
  },
  {
   "cell_type": "code",
   "execution_count": 16,
   "metadata": {
    "executionInfo": {
     "elapsed": 9106,
     "status": "ok",
     "timestamp": 1616552262629,
     "user": {
      "displayName": "Maya Segal",
      "photoUrl": "",
      "userId": "03412661861498367168"
     },
     "user_tz": 420
    },
    "id": "rduuKt9dR02S"
   },
   "outputs": [],
   "source": [
    "n_expr = n_dict[0].values()"
   ]
  },
  {
   "cell_type": "code",
   "execution_count": 17,
   "metadata": {
    "colab": {
     "base_uri": "https://localhost:8080/",
     "height": 58
    },
    "executionInfo": {
     "elapsed": 9092,
     "status": "ok",
     "timestamp": 1616552262630,
     "user": {
      "displayName": "Maya Segal",
      "photoUrl": "",
      "userId": "03412661861498367168"
     },
     "user_tz": 420
    },
    "id": "8Fkvic0UMEP0",
    "outputId": "2a7e3589-27ab-4957-854a-7a1f516382a2"
   },
   "outputs": [
    {
     "data": {
      "image/png": "[encoded data removed]",
      "text/latex": [
       "$\\displaystyle \\left[ \\left\\{ n : \\frac{100}{9}\\right\\}\\right]$"
      ],
      "text/plain": [
       "[{n: 100/9}]"
      ]
     },
     "execution_count": 17,
     "metadata": {},
     "output_type": "execute_result"
    }
   ],
   "source": [
    "# create a dictionary of values to evaluate expression with\n",
    "subs = {delta: 3, sigma_u: 10}\n",
    "\n",
    "# solve for n\n",
    "solve(delta_eq.subs(subs), n, dict=True)"
   ]
  },
  {
   "cell_type": "code",
   "execution_count": 18,
   "metadata": {
    "colab": {
     "base_uri": "https://localhost:8080/",
     "height": 38
    },
    "executionInfo": {
     "elapsed": 9394,
     "status": "ok",
     "timestamp": 1616552262947,
     "user": {
      "displayName": "Maya Segal",
      "photoUrl": "",
      "userId": "03412661861498367168"
     },
     "user_tz": 420
    },
    "id": "GxLviPfEWqk0",
    "outputId": "8a86036b-4f2f-4e49-925b-91676829daf5"
   },
   "outputs": [
    {
     "data": {
      "image/png": "[encoded data removed]",
      "text/latex": [
       "$\\displaystyle \\left[ \\left\\{ n : 400.0\\right\\}\\right]$"
      ],
      "text/plain": [
       "[{n: 400.0}]"
      ]
     },
     "execution_count": 18,
     "metadata": {},
     "output_type": "execute_result"
    }
   ],
   "source": [
    "# create a dictionary of values to evaluate expression with\n",
    "subs = {delta: 0.5, sigma_u: 10}\n",
    "\n",
    "# solve for n\n",
    "solve(delta_eq.subs(subs), n, dict=True)"
   ]
  },
  {
   "cell_type": "markdown",
   "metadata": {
    "id": "R2LWphoWbERy"
   },
   "source": [
    "---\n",
    "## Problem 9\n",
    "The uncertainty in  digital measurements can be taken to the last digit. \n",
    "Report the uncertainty of the measurements below:\n",
    "- A digital voltmeter reads voltages to the nearest thousandth of a volt. \n",
    "What will be its percent uncertainty in measuring a voltage of approximately $3$ V?\n",
    "- A digital balance reads masses to the nearest hundredth of a gram. \n",
    "What will be its percent uncertainty in measuring a mass of approximately $6$ g? \n",
    "\n",
    "---"
   ]
  },
  {
   "cell_type": "markdown",
   "metadata": {
    "id": "awoSUCAHbEXU"
   },
   "source": [
    "## Solution 9\n",
    "\n",
    "- A measurement of $3.000 \\pm 0.001$ V would be expressed as $3.000 \u0006\\pm 0.03\\%$ V.\n",
    "- $6.00 \u0006\\pm 0.01$ g would be written as $6.00 \\pm 6\\%$ g.\n"
   ]
  },
  {
   "cell_type": "markdown",
   "metadata": {
    "id": "Bam6GnGP992i"
   },
   "source": [
    "---\n",
    "## Problem 10\n",
    "\n",
    "| h (m) all +\\- 0.05 | v^2 (m^2/s^2) |\n",
    "|--------------------|---------------|\n",
    "| 0.4                | 7  +/- 3        |\n",
    "| 0.8                | 17 +/- 3        |\n",
    "| 1.4                | 25 +/- 3        |\n",
    "| 2.0                | 38 +/- 4        |\n",
    "| 2.6                | 45 +/- 5        |\n",
    "| 3.4                | 62 +/- 5        |\n",
    "| 3.8                | 72 +/- 6        |\n",
    "\n",
    "Use the table to plot the following:\n",
    "\n",
    "- Make a plot of $v^2$ against $h$, including vertical and horizontal error bars. \n",
    "- Is your plot consistent\n",
    "with the prediction that $v^2 \\propto h$?\n",
    "- The slope of your graph should be $2 g$. Use `lmfit` to calculate the slope\n",
    "    - create a dictionary of the parameter results using `your_result.params.valuesdict()`\n",
    "    - print the slope and its error on the graph using `plt.text()` \n",
    "    >HINT: you can access these values with the syntax \n",
    "      `your_result.params['your_param'].value` and `your_result.params['your_param'].stderr`\n",
    "- plot the best fit line and fit uncertainty using `plt.errorbars()`\n",
    "    - make sure you adjust the `capsize` so that the errorbars are visible\n",
    "    >HINT: you can access the fit uncertainty with `your_result.eval_uncertainty()`\n",
    "- Are your results consistent with the accepted value $2g = 19.6~m^2/s^2$?\n",
    "---"
   ]
  },
  {
   "cell_type": "markdown",
   "metadata": {
    "id": "lCp0Q91t9-Ch"
   },
   "source": [
    "## Solution 10"
   ]
  },
  {
   "cell_type": "code",
   "execution_count": 19,
   "metadata": {
    "colab": {
     "base_uri": "https://localhost:8080/"
    },
    "executionInfo": {
     "elapsed": 14917,
     "status": "ok",
     "timestamp": 1616552268486,
     "user": {
      "displayName": "Maya Segal",
      "photoUrl": "",
      "userId": "03412661861498367168"
     },
     "user_tz": 420
    },
    "id": "fVnErMKcaxsz",
    "outputId": "2cb8a377-e9a1-4477-a66c-6422e48bb8bd"
   },
   "outputs": [
    {
     "data": {
      "text/plain": [
       "(array([0.4, 0.8, 1.4, 2. , 2.6, 3.4, 3.8]),\n",
       " array([ 7, 17, 25, 38, 45, 62, 72]),\n",
       " array([3, 3, 3, 4, 5, 5, 6]),\n",
       " array([0.5, 0.5, 0.5, 0.5, 0.5, 0.5, 0.5]))"
      ]
     },
     "execution_count": 19,
     "metadata": {},
     "output_type": "execute_result"
    }
   ],
   "source": [
    "# create data arrays\n",
    "h = np.array([0.4, 0.8, 1.4, 2.0, 2.6, 3.4, 3.8])\n",
    "a = np.array([7, 17, 25, 38, 45, 62, 72])\n",
    "yerr = np.array([3, 3, 3, 4, 5, 5, 6])\n",
    "xerr = np.ones(7)*0.5\n",
    "h, a, yerr, xerr"
   ]
  },
  {
   "cell_type": "code",
   "execution_count": 20,
   "metadata": {
    "colab": {
     "base_uri": "https://localhost:8080/",
     "height": 295
    },
    "executionInfo": {
     "elapsed": 14904,
     "status": "ok",
     "timestamp": 1616552268487,
     "user": {
      "displayName": "Maya Segal",
      "photoUrl": "",
      "userId": "03412661861498367168"
     },
     "user_tz": 420
    },
    "id": "SRsNrUjKaY2b",
    "outputId": "13816428-e987-4712-a252-2eac3342bdbe"
   },
   "outputs": [
    {
     "data": {
      "image/png": "[encoded data removed]",
      "text/plain": [
       "<Figure size 432x288 with 1 Axes>"
      ]
     },
     "metadata": {
      "image/png": {
       "height": 276,
       "width": 383
      }
     },
     "output_type": "display_data"
    }
   ],
   "source": [
    "# quickly plot data to see shape and behavior\n",
    "plt.errorbar(h, a, yerr=yerr, xerr=xerr, fmt='o', capsize=3, label = 'error')\n",
    "plt.plot(h, a, label='height')\n",
    "plt.xlabel('height [m]')\n",
    "plt.ylabel('$v^2~[m^2/s^2]$')\n",
    "plt.title('acceleration due to gravity')\n",
    "plt.legend();"
   ]
  },
  {
   "cell_type": "code",
   "execution_count": 21,
   "metadata": {
    "executionInfo": {
     "elapsed": 14902,
     "status": "ok",
     "timestamp": 1616552268487,
     "user": {
      "displayName": "Maya Segal",
      "photoUrl": "",
      "userId": "03412661861498367168"
     },
     "user_tz": 420
    },
    "id": "rtWAgMObaY5F"
   },
   "outputs": [],
   "source": [
    "# define a fit function\n",
    "\n",
    "def linear(x, m=1, b=0): # set initial (default) values if desired\n",
    "    return x*m + b "
   ]
  },
  {
   "cell_type": "code",
   "execution_count": 22,
   "metadata": {
    "colab": {
     "base_uri": "https://localhost:8080/"
    },
    "executionInfo": {
     "elapsed": 14898,
     "status": "ok",
     "timestamp": 1616552268488,
     "user": {
      "displayName": "Maya Segal",
      "photoUrl": "",
      "userId": "03412661861498367168"
     },
     "user_tz": 420
    },
    "id": "pIPnLruTaY7i",
    "outputId": "07b38ecd-7a71-42eb-e428-8bfa27ae3daf"
   },
   "outputs": [
    {
     "data": {
      "text/plain": [
       "array([0.4, 0.8, 1.4, 2. , 2.6, 3.4, 3.8])"
      ]
     },
     "execution_count": 22,
     "metadata": {},
     "output_type": "execute_result"
    }
   ],
   "source": [
    "linear(h)"
   ]
  },
  {
   "cell_type": "code",
   "execution_count": 23,
   "metadata": {
    "executionInfo": {
     "elapsed": 14896,
     "status": "ok",
     "timestamp": 1616552268489,
     "user": {
      "displayName": "Maya Segal",
      "photoUrl": "",
      "userId": "03412661861498367168"
     },
     "user_tz": 420
    },
    "id": "mTOJAewPaY-C"
   },
   "outputs": [
    {
     "data": {
      "text/html": [
       "<h2> Model</h2> Model(linear) <h2>Fit Statistics</h2><table><tr><td>fitting method</td><td>leastsq</td><td></td></tr><tr><td># function evals</td><td>7</td><td></td></tr><tr><td># data points</td><td>7</td><td></td></tr><tr><td># variables</td><td>2</td><td></td></tr><tr><td>chi-square</td><td> 19.8706697</td><td></td></tr><tr><td>reduced chi-square</td><td> 3.97413395</td><td></td></tr><tr><td>Akaike info crit.</td><td> 11.3033423</td><td></td></tr><tr><td>Bayesian info crit.</td><td> 11.1951626</td><td></td></tr></table><h2>Variables</h2><table><tr><th> name </th><th> value </th><th> standard error </th><th> relative error </th><th> initial value </th><th> min </th><th> max </th><th> vary </th></tr><tr><td> m </td><td>  18.3487291 </td><td>  0.63367429 </td><td> (3.45%) </td><td> 1 </td><td>        -inf </td><td>         inf </td><td> True </td></tr><tr><td> b </td><td>  0.25404256 </td><td>  1.50565613 </td><td> (592.68%) </td><td> 0 </td><td>        -inf </td><td>         inf </td><td> True </td></tr></table><h2>Correlations (unreported correlations are < 0.100)</h2><table><tr><td>m</td><td>b</td><td>-0.8658</td></tr></table>"
      ],
      "text/plain": [
       "<lmfit.model.ModelResult at 0x7fda889d2490>"
      ]
     },
     "execution_count": 23,
     "metadata": {},
     "output_type": "execute_result"
    }
   ],
   "source": [
    "# pass your model to lmfit module\n",
    "model = Model(linear)\n",
    "\n",
    "# calculate fit \n",
    "result = model.fit(a, x = h)\n",
    "result"
   ]
  },
  {
   "cell_type": "code",
   "execution_count": 24,
   "metadata": {
    "colab": {
     "base_uri": "https://localhost:8080/",
     "height": 404
    },
    "executionInfo": {
     "elapsed": 15549,
     "status": "ok",
     "timestamp": 1616552269172,
     "user": {
      "displayName": "Maya Segal",
      "photoUrl": "",
      "userId": "03412661861498367168"
     },
     "user_tz": 420
    },
    "id": "PHcRN1-rdZhy",
    "outputId": "657627f3-127a-41d9-d76e-f15e09c0fbe6"
   },
   "outputs": [
    {
     "data": {
      "image/png": "[encoded data removed]",
      "text/plain": [
       "<Figure size 432x432 with 2 Axes>"
      ]
     },
     "metadata": {
      "image/png": {
       "height": 385,
       "width": 383
      }
     },
     "output_type": "display_data"
    }
   ],
   "source": [
    "# lmfit provides a simple plot with residuals\n",
    "result.plot();"
   ]
  },
  {
   "cell_type": "code",
   "execution_count": 25,
   "metadata": {},
   "outputs": [
    {
     "data": {
      "text/plain": [
       "OrderedDict([('m', 18.348729054964352), ('b', 0.2540425552041056)])"
      ]
     },
     "execution_count": 25,
     "metadata": {},
     "output_type": "execute_result"
    }
   ],
   "source": [
    "result.params.valuesdict() "
   ]
  },
  {
   "cell_type": "code",
   "execution_count": 26,
   "metadata": {},
   "outputs": [
    {
     "data": {
      "text/plain": [
       "array([1.43527198, 1.21768298, 0.9560266 , 0.83771165, 0.91982263,\n",
       "       1.26218339, 1.48469396])"
      ]
     },
     "execution_count": 26,
     "metadata": {},
     "output_type": "execute_result"
    }
   ],
   "source": [
    "fit_uncertainty = result.eval_uncertainty()\n",
    "fit_uncertainty"
   ]
  },
  {
   "cell_type": "code",
   "execution_count": 27,
   "metadata": {},
   "outputs": [],
   "source": [
    "slope = result.params['m'].value\n",
    "err_slope = result.params['m'].stderr"
   ]
  },
  {
   "cell_type": "code",
   "execution_count": 28,
   "metadata": {
    "colab": {
     "base_uri": "https://localhost:8080/",
     "height": 295
    },
    "executionInfo": {
     "elapsed": 690,
     "status": "ok",
     "timestamp": 1616552393925,
     "user": {
      "displayName": "Maya Segal",
      "photoUrl": "",
      "userId": "03412661861498367168"
     },
     "user_tz": 420
    },
    "id": "dB5Z7IcZdoI9",
    "outputId": "fe76b28a-4403-49a4-b74d-9f55f834a068"
   },
   "outputs": [
    {
     "data": {
      "image/png": "[encoded data removed]",
      "text/plain": [
       "<Figure size 432x288 with 1 Axes>"
      ]
     },
     "metadata": {
      "image/png": {
       "height": 276,
       "width": 383
      }
     },
     "output_type": "display_data"
    }
   ],
   "source": [
    "# plot in matplotlib - optional lmfit plot is good as long\n",
    "# as labels are changed and error bars are included\n",
    "\n",
    "plt.errorbar(h, result.best_fit, yerr=fit_uncertainty, fmt='go', capsize=5, label='fit uncertainty')\n",
    "plt.plot(h, result.best_fit, label='linear fit')\n",
    "plt.xlabel('height [m]')\n",
    "plt.ylabel('$v^2~[m^2/s^2]$')\n",
    "plt.title('acceleration due to gravity')\n",
    "plt.text(0.35, 52, f'$m = {slope: .2f}\\pm {err_slope: .2f} m^2/s^2$', fontsize=16)\n",
    "plt.legend();"
   ]
  },
  {
   "cell_type": "code",
   "execution_count": 29,
   "metadata": {},
   "outputs": [],
   "source": [
    "res = result.residual"
   ]
  },
  {
   "cell_type": "code",
   "execution_count": 30,
   "metadata": {},
   "outputs": [],
   "source": [
    "from matplotlib import gridspec"
   ]
  },
  {
   "cell_type": "code",
   "execution_count": 31,
   "metadata": {},
   "outputs": [
    {
     "data": {
      "image/png": "[encoded data removed]",
      "text/plain": [
       "<Figure size 576x432 with 2 Axes>"
      ]
     },
     "metadata": {
      "image/png": {
       "height": 370,
       "width": 494
      }
     },
     "output_type": "display_data"
    }
   ],
   "source": [
    "fig, ax = plt.subplots(2, 1, figsize = (8, 6))\n",
    "\n",
    "ax[0].plot(h, res, 'o')\n",
    "ax[0].axhline(0)\n",
    "ax[0].set_ylabel('residuals')\n",
    "ax[1].errorbar(h, result.best_fit, yerr=fit_uncertainty, markersize='3', fmt='go', capsize=5, label='fit uncertainty')\n",
    "ax[1].plot(h, result.best_fit, label='linear fit')\n",
    "ax[1].set_xlabel('height [m]')\n",
    "ax[1].set_ylabel('$v^2~[m^2/s^2]$')\n",
    "ax[1].set_title('acceleration due to gravity')\n",
    "ax[1].text(0.35, 40, f'$m = {slope: .2f} \\pm {err_slope: .2f} m^2/s^2$', fontsize=16)\n",
    "ax[1].legend()\n",
    "fig.savefig('gravity', dpi=400);"
   ]
  },
  {
   "cell_type": "markdown",
   "metadata": {},
   "source": [
    "The calculated slope is not significantly accurate with $2g$:"
   ]
  },
  {
   "cell_type": "code",
   "execution_count": 32,
   "metadata": {},
   "outputs": [
    {
     "name": "stdout",
     "output_type": "stream",
     "text": [
      "m =  19.0 m^2/s^2\n"
     ]
    }
   ],
   "source": [
    "print(f'm = {slope + err_slope: .1f} m^2/s^2')"
   ]
  },
  {
   "cell_type": "markdown",
   "metadata": {},
   "source": [
    "---\n",
    "\n",
    "## Confidence interval\n",
    "\n",
    "Now we look at a problem where calculating the error from approximated \n",
    "covariance can lead to misleading results\n",
    "calculating the posterior probability distribution of parameters. \n",
    "In fact such a problem is particularly hard for the Levenberg-Marquardt method, \n",
    "so we first estimate the results using the slower but robust Nelder-Mead method. \n",
    "We can then compare the uncertainties computed with those estimated using \n",
    "Levenberg-Marquardt around the previously found solution. \n",
    "We can also compare to the results of using `Minimizer.emcee`."
   ]
  },
  {
   "cell_type": "code",
   "execution_count": 33,
   "metadata": {},
   "outputs": [
    {
     "data": {
      "image/png": "[encoded data removed]",
      "text/latex": [
       "$\\displaystyle 100$"
      ],
      "text/plain": [
       "100"
      ]
     },
     "execution_count": 33,
     "metadata": {},
     "output_type": "execute_result"
    }
   ],
   "source": [
    "x = np.linspace(0.3, 10, 100)\n",
    "x.size"
   ]
  },
  {
   "cell_type": "code",
   "execution_count": 42,
   "metadata": {},
   "outputs": [
    {
     "data": {
      "text/plain": [
       "array([35.50973857, 27.16691927, 22.26080659, 19.06082401, 16.63931054,\n",
       "       14.56211876, 13.35780748, 12.1283069 , 11.21614596, 10.50259831,\n",
       "        9.82813759,  9.40349187,  8.85228447,  8.36646789,  8.02625944,\n",
       "        7.68405236,  7.50365345,  7.06684286,  6.87712175,  6.54075865,\n",
       "        6.17027098,  6.3070071 ,  6.15884181,  5.84192274,  5.99840403,\n",
       "        5.49159503,  5.5164595 ,  5.37634334,  5.43903962,  5.33021562,\n",
       "        5.10249194,  5.03418429,  4.82212998,  4.63210903,  4.71903354,\n",
       "        4.69710835,  4.73585567,  4.66784478,  4.44683096,  4.39624031,\n",
       "        4.2652668 ,  4.17432951,  4.09430092,  4.41083403,  4.11770948,\n",
       "        4.07974469,  3.95498943,  4.11646403,  3.83739883,  3.93912201,\n",
       "        3.8339039 ,  3.9265621 ,  3.80250496,  3.70245903,  3.78579966,\n",
       "        3.80064569,  3.73470199,  3.72952628,  3.60801807,  3.60824416,\n",
       "        3.55119437,  3.55722138,  3.48737496,  3.37231556,  3.53964884,\n",
       "        3.4593675 ,  3.31481268,  3.50301748,  3.34550983,  3.42150355,\n",
       "        3.469833  ,  3.39096065,  3.47364341,  3.21834447,  3.36464888,\n",
       "        3.23896749,  3.20383175,  3.21690257,  3.22790617,  3.24933513,\n",
       "        3.11223021,  3.30421068,  3.24642081,  3.03228842,  3.32111652,\n",
       "        3.34856808,  3.26384393,  3.11524927,  3.01372175,  3.21406779,\n",
       "        3.05639218,  3.20729492,  3.09446376,  3.16012366,  3.08715018,\n",
       "        3.1114479 ,  3.03133411,  3.19857469,  3.02258614,  3.04019894])"
      ]
     },
     "execution_count": 42,
     "metadata": {},
     "output_type": "execute_result"
    }
   ],
   "source": [
    "np.random.seed(0)\n",
    "y = 1/(0.1*x) + 2 + 0.1*np.random.randn(x.size)\n",
    "y"
   ]
  },
  {
   "cell_type": "code",
   "execution_count": 35,
   "metadata": {},
   "outputs": [],
   "source": [
    "def residual(p, a=0.1, b=1):\n",
    "    return 1/(a*x) + b - y"
   ]
  },
  {
   "cell_type": "code",
   "execution_count": 38,
   "metadata": {},
   "outputs": [],
   "source": [
    "mini = lmfit.Minimizer(residual, 'a', 'b')"
   ]
  },
  {
   "cell_type": "code",
   "execution_count": 39,
   "metadata": {},
   "outputs": [
    {
     "ename": "AttributeError",
     "evalue": "'MinimizerResult' object has no attribute 'params'",
     "output_type": "error",
     "traceback": [
      "\u001b[0;31m---------------------------------------------------------------------------\u001b[0m",
      "\u001b[0;31mAttributeError\u001b[0m                            Traceback (most recent call last)",
      "\u001b[0;32m<ipython-input-39-6fac48a5640d>\u001b[0m in \u001b[0;36m<module>\u001b[0;34m\u001b[0m\n\u001b[0;32m----> 1\u001b[0;31m \u001b[0mresult\u001b[0m \u001b[0;34m=\u001b[0m \u001b[0mmini\u001b[0m\u001b[0;34m.\u001b[0m\u001b[0mminimize\u001b[0m\u001b[0;34m(\u001b[0m\u001b[0;34m)\u001b[0m\u001b[0;34m\u001b[0m\u001b[0;34m\u001b[0m\u001b[0m\n\u001b[0m\u001b[1;32m      2\u001b[0m \u001b[0mresult\u001b[0m\u001b[0;34m\u001b[0m\u001b[0;34m\u001b[0m\u001b[0m\n",
      "\u001b[0;32m~/anaconda3/envs/c114-py38/lib/python3.8/site-packages/lmfit/minimizer.py\u001b[0m in \u001b[0;36mminimize\u001b[0;34m(self, method, params, **kws)\u001b[0m\n\u001b[1;32m   2361\u001b[0m                         val.lower().startswith(user_method)):\n\u001b[1;32m   2362\u001b[0m                     \u001b[0mkwargs\u001b[0m\u001b[0;34m[\u001b[0m\u001b[0;34m'method'\u001b[0m\u001b[0;34m]\u001b[0m \u001b[0;34m=\u001b[0m \u001b[0mval\u001b[0m\u001b[0;34m\u001b[0m\u001b[0;34m\u001b[0m\u001b[0m\n\u001b[0;32m-> 2363\u001b[0;31m         \u001b[0;32mreturn\u001b[0m \u001b[0mfunction\u001b[0m\u001b[0;34m(\u001b[0m\u001b[0;34m**\u001b[0m\u001b[0mkwargs\u001b[0m\u001b[0;34m)\u001b[0m\u001b[0;34m\u001b[0m\u001b[0;34m\u001b[0m\u001b[0m\n\u001b[0m\u001b[1;32m   2364\u001b[0m \u001b[0;34m\u001b[0m\u001b[0m\n\u001b[1;32m   2365\u001b[0m \u001b[0;34m\u001b[0m\u001b[0m\n",
      "\u001b[0;32m~/anaconda3/envs/c114-py38/lib/python3.8/site-packages/lmfit/minimizer.py\u001b[0m in \u001b[0;36mleastsq\u001b[0;34m(self, params, max_nfev, **kws)\u001b[0m\n\u001b[1;32m   1669\u001b[0m \u001b[0;34m\u001b[0m\u001b[0m\n\u001b[1;32m   1670\u001b[0m         \"\"\"\n\u001b[0;32m-> 1671\u001b[0;31m         \u001b[0mresult\u001b[0m \u001b[0;34m=\u001b[0m \u001b[0mself\u001b[0m\u001b[0;34m.\u001b[0m\u001b[0mprepare_fit\u001b[0m\u001b[0;34m(\u001b[0m\u001b[0mparams\u001b[0m\u001b[0;34m=\u001b[0m\u001b[0mparams\u001b[0m\u001b[0;34m)\u001b[0m\u001b[0;34m\u001b[0m\u001b[0;34m\u001b[0m\u001b[0m\n\u001b[0m\u001b[1;32m   1672\u001b[0m         \u001b[0mresult\u001b[0m\u001b[0;34m.\u001b[0m\u001b[0mmethod\u001b[0m \u001b[0;34m=\u001b[0m \u001b[0;34m'leastsq'\u001b[0m\u001b[0;34m\u001b[0m\u001b[0;34m\u001b[0m\u001b[0m\n\u001b[1;32m   1673\u001b[0m         \u001b[0mresult\u001b[0m\u001b[0;34m.\u001b[0m\u001b[0mnfev\u001b[0m \u001b[0;34m-=\u001b[0m \u001b[0;36m2\u001b[0m  \u001b[0;31m# correct for \"pre-fit\" initialization/checks\u001b[0m\u001b[0;34m\u001b[0m\u001b[0;34m\u001b[0m\u001b[0m\n",
      "\u001b[0;32m~/anaconda3/envs/c114-py38/lib/python3.8/site-packages/lmfit/minimizer.py\u001b[0m in \u001b[0;36mprepare_fit\u001b[0;34m(self, params)\u001b[0m\n\u001b[1;32m    716\u001b[0m         \u001b[0mresult\u001b[0m\u001b[0;34m.\u001b[0m\u001b[0mvar_names\u001b[0m \u001b[0;34m=\u001b[0m \u001b[0;34m[\u001b[0m\u001b[0;34m]\u001b[0m  \u001b[0;31m# note that this *does* belong to self...\u001b[0m\u001b[0;34m\u001b[0m\u001b[0;34m\u001b[0m\u001b[0m\n\u001b[1;32m    717\u001b[0m         \u001b[0mresult\u001b[0m\u001b[0;34m.\u001b[0m\u001b[0minit_vals\u001b[0m \u001b[0;34m=\u001b[0m \u001b[0;34m[\u001b[0m\u001b[0;34m]\u001b[0m\u001b[0;34m\u001b[0m\u001b[0;34m\u001b[0m\u001b[0m\n\u001b[0;32m--> 718\u001b[0;31m         \u001b[0mresult\u001b[0m\u001b[0;34m.\u001b[0m\u001b[0mparams\u001b[0m\u001b[0;34m.\u001b[0m\u001b[0mupdate_constraints\u001b[0m\u001b[0;34m(\u001b[0m\u001b[0;34m)\u001b[0m\u001b[0;34m\u001b[0m\u001b[0;34m\u001b[0m\u001b[0m\n\u001b[0m\u001b[1;32m    719\u001b[0m         \u001b[0mresult\u001b[0m\u001b[0;34m.\u001b[0m\u001b[0mnfev\u001b[0m \u001b[0;34m=\u001b[0m \u001b[0;36m0\u001b[0m\u001b[0;34m\u001b[0m\u001b[0;34m\u001b[0m\u001b[0m\n\u001b[1;32m    720\u001b[0m         \u001b[0mresult\u001b[0m\u001b[0;34m.\u001b[0m\u001b[0mcall_kws\u001b[0m \u001b[0;34m=\u001b[0m \u001b[0;34m{\u001b[0m\u001b[0;34m}\u001b[0m\u001b[0;34m\u001b[0m\u001b[0;34m\u001b[0m\u001b[0m\n",
      "\u001b[0;31mAttributeError\u001b[0m: 'MinimizerResult' object has no attribute 'params'"
     ]
    }
   ],
   "source": [
    "result = mini.minimize()\n",
    "result"
   ]
  },
  {
   "cell_type": "code",
   "execution_count": null,
   "metadata": {},
   "outputs": [],
   "source": [
    "ci = lmfit.conf_interval(mini, result)\n",
    "ci"
   ]
  },
  {
   "cell_type": "code",
   "execution_count": null,
   "metadata": {},
   "outputs": [],
   "source": [
    "lmfit.printfuncs.report_ci(ci)"
   ]
  },
  {
   "cell_type": "code",
   "execution_count": null,
   "metadata": {},
   "outputs": [],
   "source": []
  },
  {
   "cell_type": "code",
   "execution_count": null,
   "metadata": {},
   "outputs": [],
   "source": []
  },
  {
   "cell_type": "code",
   "execution_count": null,
   "metadata": {},
   "outputs": [],
   "source": [
    "# define x-array\n",
    "\n",
    "x = np.linspace(1, 10, 250)\n",
    "x.size"
   ]
  },
  {
   "cell_type": "code",
   "execution_count": null,
   "metadata": {},
   "outputs": [],
   "source": [
    "# set the seed for the random number generator\n",
    "np.random.seed(0)\n",
    "\n",
    "# define a randomly distributed sum of exponentials \n",
    "y = 3.0*np.exp(-x/2) - 5.0*np.exp(-(x-0.1)/10.) + 0.1*np.random.randn(x.size)\n",
    "y"
   ]
  },
  {
   "cell_type": "code",
   "execution_count": null,
   "metadata": {},
   "outputs": [],
   "source": [
    "p = lmfit.Parameters()\n",
    "p.add_many(('a1', 4.), ('a2', 4.), ('t1', 3.), ('t2', 3.))\n",
    "p"
   ]
  },
  {
   "cell_type": "code",
   "execution_count": null,
   "metadata": {},
   "outputs": [],
   "source": [
    "# define a function for the residuals\n",
    "\n",
    "def residual(p):\n",
    "    return p['a1']*np.exp(-x/p['t1']) + p['a2']*np.exp(-(x-0.1)/p['t2']) - y"
   ]
  },
  {
   "cell_type": "code",
   "execution_count": null,
   "metadata": {},
   "outputs": [],
   "source": [
    "# create Minimizer\n",
    "mini = lmfit.Minimizer(residual, p, nan_policy='propagate')"
   ]
  },
  {
   "cell_type": "code",
   "execution_count": null,
   "metadata": {
    "tags": []
   },
   "outputs": [],
   "source": [
    "# first solve with Nelder-Mead algorithm\n",
    "out1 = mini.minimize(method='Nelder')\n",
    "out1"
   ]
  },
  {
   "cell_type": "code",
   "execution_count": null,
   "metadata": {
    "tags": []
   },
   "outputs": [],
   "source": [
    "# then solve with Levenberg-Marquardt using the\n",
    "# Nelder-Mead solution as a starting point\n",
    "out2 = mini.minimize(method='leastsq', params=out1.params)\n",
    "out2"
   ]
  },
  {
   "cell_type": "code",
   "execution_count": null,
   "metadata": {},
   "outputs": [],
   "source": [
    "lmfit.report_fit(out2.params, min_correl=0.5)"
   ]
  },
  {
   "cell_type": "code",
   "execution_count": null,
   "metadata": {},
   "outputs": [],
   "source": [
    "# calculate the confidence interval\n",
    "ci, trace = lmfit.conf_interval(mini, out2, sigmas=[1, 2], trace=True)\n",
    "lmfit.printfuncs.report_ci(ci)"
   ]
  },
  {
   "cell_type": "code",
   "execution_count": null,
   "metadata": {},
   "outputs": [],
   "source": [
    "# plot data and best fit\n",
    "\n",
    "plt.plot(x, y)\n",
    "plt.plot(x, residual(out2.params) + y, '-');"
   ]
  },
  {
   "cell_type": "code",
   "execution_count": null,
   "metadata": {},
   "outputs": [],
   "source": [
    "# plot confidence intervals (a1 vs t2 and a2 vs t2)\n",
    "fig, axes = plt.subplots(1, 2, figsize=(12.8, 4.8))\n",
    "cx, cy, grid = lmfit.conf_interval2d(mini, out2, 'a1', 't2', 30, 30)\n",
    "ctp = axes[0].contourf(cx, cy, grid, np.linspace(0, 1, 11))\n",
    "fig.colorbar(ctp, ax=axes[0])\n",
    "axes[0].set_xlabel('a1')\n",
    "axes[0].set_ylabel('t2')\n",
    "\n",
    "cx, cy, grid = lmfit.conf_interval2d(mini, out2, 'a2', 't2', 30, 30)\n",
    "ctp = axes[1].contourf(cx, cy, grid, np.linspace(0, 1, 11))\n",
    "fig.colorbar(ctp, ax=axes[1])\n",
    "axes[1].set_xlabel('a2')\n",
    "axes[1].set_ylabel('t2')\n",
    "\n",
    "# plot dependence between two parameters\n",
    "fig, axes = plt.subplots(1, 2, figsize=(12.8, 4.8))\n",
    "cx1, cy1, prob = trace['a1']['a1'], trace['a1']['t2'], trace['a1']['prob']\n",
    "cx2, cy2, prob2 = trace['t2']['t2'], trace['t2']['a1'], trace['t2']['prob']\n",
    "\n",
    "axes[0].scatter(cx1, cy1, c=prob, s=30)\n",
    "axes[0].set_xlabel('a1')\n",
    "axes[0].set_ylabel('t2')\n",
    "\n",
    "axes[1].scatter(cx2, cy2, c=prob2, s=30)\n",
    "axes[1].set_xlabel('t2')\n",
    "axes[1].set_ylabel('a1');"
   ]
  },
  {
   "cell_type": "code",
   "execution_count": null,
   "metadata": {},
   "outputs": [],
   "source": [
    "\n"
   ]
  },
  {
   "cell_type": "code",
   "execution_count": null,
   "metadata": {},
   "outputs": [],
   "source": []
  }
 ],
 "metadata": {
  "colab": {
   "authorship_tag": "ABX9TyNgFVHo+7JkQocCyaZSbkUT",
   "collapsed_sections": [],
   "name": "PS3_solutions.ipynb",
   "provenance": [],
   "toc_visible": true
  },
  "kernelspec": {
   "display_name": "Python 3",
   "language": "python",
   "name": "python3"
  },
  "language_info": {
   "codemirror_mode": {
    "name": "ipython",
    "version": 3
   },
   "file_extension": ".py",
   "mimetype": "text/x-python",
   "name": "python",
   "nbconvert_exporter": "python",
   "pygments_lexer": "ipython3",
   "version": "3.8.8"
  }
 },
 "nbformat": 4,
 "nbformat_minor": 4
}
