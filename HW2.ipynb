{
 "cells": [
  {
   "cell_type": "markdown",
   "metadata": {},
   "source": [
    "# HW2\n",
    "When collecting and analyzing data, sometimes you do not get a full set of data nor have all the tools readily at your disposal. This homework is to introduce being flexible and how to look up different functions in Python and implement them. In this case, we will be introducing pandas as a method to read the incomplete data."
   ]
  },
  {
   "cell_type": "code",
   "execution_count": 1,
   "metadata": {},
   "outputs": [],
   "source": [
    "import matplotlib.pyplot as plt\n",
    "import numpy as np\n",
    "import pandas as pd\n",
    "import seaborn as sns\n",
    "%config InlineBackend.figure_format = 'retina'  # use this for hi-dpi displays\n",
    "%matplotlib inline"
   ]
  },
  {
   "cell_type": "code",
   "execution_count": 2,
   "metadata": {},
   "outputs": [],
   "source": [
    "sns.set_style('whitegrid')  # set the plotting style"
   ]
  },
  {
   "cell_type": "markdown",
   "metadata": {},
   "source": [
    "# Dataset description\n",
    "\n",
    "> This experimental dataset has been acquired by **Yazan Alhadid** (yalhadid@ucla.edu).\n",
    "> For more information on the science behind this kind of measurement see:\n",
    "> - A Novel Initiation Pathway in Escherichia Coli Transcription, (2016), Lerner/Chung et al. \n",
    "> doi:[10.1101/042432](http://dx.doi.org/10.1101/042432) \n",
    "\n",
    "The dataset below contains two experimental kinetic curves representing DNA transcription by RNA polymerase\n",
    "starting from two different initial states ITC2 and ITC7 (meaning that the RNAP has transcribed\n",
    "2 or 7 nucleotides respectively). It is interesting to note that\n",
    "the ITC7 kinetics is slower than the ITC2.\n",
    "\n",
    "Each number in the table is the result of a smFRET measurements and represents \n",
    "a transcription efficiency measured after a certain amount of time.\n",
    "Note that, for some time points the measurement has been performed only in\n",
    "one configuration (either ITC2 or ITC7) so there are missing data points (NaN, not-a-number).\n",
    "\n",
    "When fitting this dataset we need to make sure we correctly handle the NaN.\n",
    "\n",
    "\n",
    "## Data format\n",
    "\n",
    "The data has been saved in CSV (comma separated values) in Excel. \n",
    "We will load this data in a pandas DataFrame, a special python object\n",
    "to hold tabular data.\n",
    "\n",
    "### Difference between DataFrame and array\n",
    "\n",
    "A numpy array is a contained for uniform type of data (for example integers, floats, etc.).\n",
    "A numpy array can be 1-D (a vector), 2-D or N-D.\n",
    "Conversely, a pandas DataFrame is a table (similar to a 2-D array)\n",
    "in which each column can be of different type. \n",
    "\n",
    "Taking a 2-D array, you can access the columns (and rows) with a \n",
    "with a numerical index (0, 1, ...). So you need to know the meaning of\n",
    "each row/column.\n",
    "\n",
    "Conversely, in pandas DataFrame each column has a name, and you can select\n",
    "a column by name. The first column of a DataFrame is a special column called the Index.\n",
    "The index is used to select rows in the table. In our example the index is the time axis\n",
    "that is common to the two columns representing the two set of measurements."
   ]
  },
  {
   "cell_type": "code",
   "execution_count": 3,
   "metadata": {},
   "outputs": [],
   "source": [
    "#Please read in the csv file provided and show the data table using pandas.\n",
    "#If you are having trouble, try googling the answer.\n",
    "\n",
    "\n"
   ]
  },
  {
   "cell_type": "markdown",
   "metadata": {},
   "source": [
    "## Making plots from DataFrames\n",
    "\n",
    "### Method1: use DataFrame.plot"
   ]
  },
  {
   "cell_type": "markdown",
   "metadata": {},
   "source": [
    "A nice feature of DataFrames is that they can be quickly plotted:"
   ]
  },
  {
   "cell_type": "code",
   "execution_count": 4,
   "metadata": {},
   "outputs": [],
   "source": [
    "#Try the [imported data file].plot function below. E.g. if \"d\" was my data I imported, simply put \"d.plot\""
   ]
  },
  {
   "cell_type": "markdown",
   "metadata": {},
   "source": [
    "Note that the data of the two columns are plotted against the time axis (the index)\n",
    "and the two columns are automatically labeled in the legend. Also the x-axis has\n",
    "been labeled with the name associated with the index column.\n",
    "\n",
    "\n",
    "> **Note for advanced users**\n",
    ">\n",
    ">In the command above, we used `df.plot`, meaning that the function `plot` comes from\n",
    ">the DataFrame itself. This kind of functions contained in an object (and doing some\n",
    ">operation on the object) are called methods. In other words, DataFrame has a plot method\n",
    ">so it knows how to plot itself."
   ]
  },
  {
   "cell_type": "markdown",
   "metadata": {},
   "source": [
    "# Fitting the data\n",
    "\n",
    "To fit the data we use the `lmfit` library."
   ]
  },
  {
   "cell_type": "code",
   "execution_count": 5,
   "metadata": {},
   "outputs": [
    {
     "name": "stdout",
     "output_type": "stream",
     "text": [
      "lmfit version: 0.9.5\n"
     ]
    }
   ],
   "source": [
    "import lmfit\n",
    "print('lmfit version:', lmfit.__version__)"
   ]
  },
  {
   "cell_type": "markdown",
   "metadata": {},
   "source": [
    "## Defining the model\n",
    "\n",
    "We want to fit the data with an exponential curve that start at 0 for $t=0$ and goes\n",
    "asymptotically to a value > 0 for $t=\\infty$.\n",
    "\n",
    "What kind of function satisfies this? Can you find one in the literature?"
   ]
  },
  {
   "cell_type": "code",
   "execution_count": 6,
   "metadata": {},
   "outputs": [],
   "source": [
    "#Define your fit funtion here and fit it to each of the data sets.\n",
    "#Plot the data, the fited function, and your residuals\n",
    "#Don't forget, you have some NaN values, how will you omit those?"
   ]
  },
  {
   "cell_type": "markdown",
   "metadata": {},
   "source": [
    "## Fit comparison\n",
    "\n",
    "As a last step we create a single plot which shows the two datasets and\n",
    "the fitted curves."
   ]
  },
  {
   "cell_type": "code",
   "execution_count": 7,
   "metadata": {},
   "outputs": [],
   "source": [
    "#Plot both data sets with their residuals"
   ]
  },
  {
   "cell_type": "markdown",
   "metadata": {
    "collapsed": true
   },
   "source": [
    "Voila! You have just done science!"
   ]
  },
  {
   "cell_type": "code",
   "execution_count": null,
   "metadata": {},
   "outputs": [],
   "source": []
  }
 ],
 "metadata": {
  "anaconda-cloud": {},
  "kernelspec": {
   "display_name": "Python [default]",
   "language": "python",
   "name": "python3"
  },
  "language_info": {
   "codemirror_mode": {
    "name": "ipython",
    "version": 3
   },
   "file_extension": ".py",
   "mimetype": "text/x-python",
   "name": "python",
   "nbconvert_exporter": "python",
   "pygments_lexer": "ipython3",
   "version": "3.5.2"
  },
  "toc": {
   "colors": {
    "hover_highlight": "#DAA520",
    "running_highlight": "#FF0000",
    "selected_highlight": "#FFD700"
   },
   "moveMenuLeft": true,
   "nav_menu": {
    "height": "194px",
    "width": "252px"
   },
   "navigate_menu": true,
   "number_sections": true,
   "sideBar": true,
   "threshold": 4,
   "toc_cell": false,
   "toc_section_display": "block",
   "toc_window_display": false
  }
 },
 "nbformat": 4,
 "nbformat_minor": 1
}
