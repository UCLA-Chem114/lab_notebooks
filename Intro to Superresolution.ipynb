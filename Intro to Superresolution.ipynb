{
 "cells": [
  {
   "cell_type": "markdown",
   "metadata": {},
   "source": [
    "# Intro to Superresolution"
   ]
  },
  {
   "cell_type": "markdown",
   "metadata": {},
   "source": [
    "##Stuff to be written"
   ]
  },
  {
   "cell_type": "code",
   "execution_count": 16,
   "metadata": {
    "collapsed": false
   },
   "outputs": [],
   "source": [
    "%matplotlib inline\n",
    "from pylab import *\n",
    "import numpy as np\n",
    "import matplotlib.pyplot as plt\n",
    "import matplotlib\n",
    "import matplotlib.lines\n",
    "from astropy.table import Table, Column\n",
    "from scipy.optimize import curve_fit\n",
    "from IPython.display import display, Math, Latex\n",
    "import scipy.special"
   ]
  },
  {
   "cell_type": "code",
   "execution_count": 17,
   "metadata": {
    "collapsed": false
   },
   "outputs": [
    {
     "data": {
      "text/plain": [
       "(3.141592653589793, 3.141592653589793)"
      ]
     },
     "execution_count": 17,
     "metadata": {},
     "output_type": "execute_result"
    }
   ],
   "source": [
    "pi, np.pi"
   ]
  },
  {
   "cell_type": "code",
   "execution_count": 18,
   "metadata": {
    "collapsed": false
   },
   "outputs": [
    {
     "ename": "ImportError",
     "evalue": "No module named seaborn",
     "output_type": "error",
     "traceback": [
      "\u001b[0;31m---------------------------------------------------------------------------\u001b[0m",
      "\u001b[0;31mImportError\u001b[0m                               Traceback (most recent call last)",
      "\u001b[0;32m<ipython-input-18-58aa1e79290a>\u001b[0m in \u001b[0;36m<module>\u001b[0;34m()\u001b[0m\n\u001b[0;32m----> 1\u001b[0;31m \u001b[0;32mimport\u001b[0m \u001b[0mseaborn\u001b[0m \u001b[0;32mas\u001b[0m \u001b[0msns\u001b[0m\u001b[0;34m\u001b[0m\u001b[0m\n\u001b[0m\u001b[1;32m      2\u001b[0m \u001b[0msns\u001b[0m\u001b[0;34m.\u001b[0m\u001b[0mset_style\u001b[0m\u001b[0;34m(\u001b[0m\u001b[0;34m'darkgrid'\u001b[0m\u001b[0;34m)\u001b[0m\u001b[0;34m\u001b[0m\u001b[0m\n\u001b[1;32m      3\u001b[0m \u001b[0msns\u001b[0m\u001b[0;34m.\u001b[0m\u001b[0mset_context\u001b[0m\u001b[0;34m(\u001b[0m\u001b[0;34m'notebook'\u001b[0m\u001b[0;34m,\u001b[0m \u001b[0mfont_scale\u001b[0m\u001b[0;34m=\u001b[0m\u001b[0;36m1.5\u001b[0m\u001b[0;34m)\u001b[0m\u001b[0;34m\u001b[0m\u001b[0m\n",
      "\u001b[0;31mImportError\u001b[0m: No module named seaborn"
     ]
    }
   ],
   "source": [
    "import seaborn as sns\n",
    "sns.set_style('darkgrid')\n",
    "sns.set_context('notebook', font_scale=1.5)"
   ]
  },
  {
   "cell_type": "code",
   "execution_count": 19,
   "metadata": {
    "collapsed": true
   },
   "outputs": [],
   "source": [
    "#sns.set_context()"
   ]
  },
  {
   "cell_type": "markdown",
   "metadata": {},
   "source": [
    "Imports for the interactive widgets:"
   ]
  },
  {
   "cell_type": "code",
   "execution_count": 20,
   "metadata": {
    "collapsed": false
   },
   "outputs": [],
   "source": [
    "from IPython.html.widgets import interact, interactive, fixed\n",
    "from IPython.html import widgets\n",
    "from IPython.display import display, display_png, display_svg, clear_output\n",
    "from IPython.core.pylabtools import print_figure"
   ]
  },
  {
   "cell_type": "code",
   "execution_count": 21,
   "metadata": {
    "collapsed": true
   },
   "outputs": [],
   "source": [
    "#Define points for later\n",
    "xdist = arange(-80,80,0.1)\n",
    "ydist = xdist"
   ]
  },
  {
   "cell_type": "markdown",
   "metadata": {},
   "source": [
    "##Equation that dictates the ideal point spread function emmitted from a point dipole source\n",
    "\n",
    "Here the equation:\n",
    "\n",
    "$$\n",
    "I(x,y) = \\frac{\\pi^4}{\\epsilon_0^2 n n^\\prime} \\frac{\\mu^2}{\\lambda^6} \\frac{NA^4}{M^2} \\left[ \\frac{J_1(2 \\pi \\tilde{\\rho})}{2 \\pi \\tilde{\\rho}} \\right]^2, \\space \\space \\tilde{\\rho}= \\frac{NA (x^2+y^2)}{M \\lambda}\n",
    "$$\n",
    "\n",
    "Something inline $X$."
   ]
  },
  {
   "cell_type": "code",
   "execution_count": 22,
   "metadata": {
    "collapsed": false
   },
   "outputs": [
    {
     "data": {
      "text/latex": [
       "\\begin{aligned}\n",
       "I(x,y) = \\frac{\\pi^4}{\\epsilon_0^2 n n^\\prime} \\frac{\\mu^2}{\\lambda^6} \\frac{NA^4}{M^2} \\left[ \\frac{J_1(2 \\pi \\tilde{\\rho})}{2 \\pi \\tilde{\\rho}} \\right]^2, \\space \\space \\tilde{\\rho}= \\frac{NA (x^2+y^2)}{M \\lambda}\n",
       "\\end{aligned}"
      ],
      "text/plain": [
       "<IPython.core.display.Latex object>"
      ]
     },
     "metadata": {},
     "output_type": "display_data"
    }
   ],
   "source": [
    "%%latex\n",
    "\\begin{aligned}\n",
    "I(x,y) = \\frac{\\pi^4}{\\epsilon_0^2 n n^\\prime} \\frac{\\mu^2}{\\lambda^6} \\frac{NA^4}{M^2} \\left[ \\frac{J_1(2 \\pi \\tilde{\\rho})}{2 \\pi \\tilde{\\rho}} \\right]^2, \\space \\space \\tilde{\\rho}= \\frac{NA (x^2+y^2)}{M \\lambda}\n",
    "\\end{aligned}"
   ]
  },
  {
   "cell_type": "code",
   "execution_count": 23,
   "metadata": {
    "collapsed": true
   },
   "outputs": [],
   "source": [
    "xdata = arange(0,5,0.1)\n",
    "\n",
    "def fexp(x,a,b,c):\n",
    "    return a*exp(-b*x)+c\n",
    "\n",
    "def fgau(x,a,b,c):\n",
    "    return a*exp(-(x-b)**2/(2*c**2))\n",
    "\n",
    "def ddata(x,ns):\n",
    "    noise = ns*randn(len(x))\n",
    "    return fexp(x,2.5,1.3,0.5) + noise\n",
    "\n",
    "ydata = ddata(xdata,0.2)"
   ]
  },
  {
   "cell_type": "markdown",
   "metadata": {},
   "source": [
    "###This is known as the Airy Function with J being a Bessel function of the first kind"
   ]
  },
  {
   "cell_type": "code",
   "execution_count": 45,
   "metadata": {
    "collapsed": false
   },
   "outputs": [
    {
     "data": {
      "image/png": "[encoded data removed]",
      "text/plain": [
       "<matplotlib.figure.Figure at 0x1006dbf90>"
      ]
     },
     "metadata": {},
     "output_type": "display_data"
    }
   ],
   "source": [
    "@interact(x_0 =(-80,80,0.1), y_0 = (-80,80,1), l = (200, 900, 1), M = (10,100,10), NA = (0.5, 2.0, 0.1))\n",
    "def plot_airy(x_0=0, y_0=0, l = 600, M = 60, NA = 1.4):\n",
    "\n",
    "    # Define a few parameters for the Airy Function\n",
    "    \n",
    "    # Universal Constants\n",
    "    epsilon_0 = 1 # Permitivity of Free Space (assuming atomic units)\n",
    "    \n",
    "    # Experimental Constants\n",
    "    mu = 1        # Dipole Moment (dependent on which dye is used)\n",
    "    #NA = 1.4      # Numerical Aperature\n",
    "    #l  = 600      # Wavelength in nm\n",
    "    n  = 1.518    #index of refraction of material surrounding emmitter\n",
    "    n_prime = 1.518 #index of refraction of objective\n",
    "    #M  = 60       # Magnification (60x)\n",
    "    \n",
    "    # Function\n",
    "    xx, yy = meshgrid(xdist, ydist, sparse=True) # Prepares Grid Points\n",
    "    rho = np.sqrt((xx-x_0)**2+(yy-y_0)**2) # Distance from center\n",
    "    rho_tilde = 500*rho*NA/(M*l) # The 500 is just a scaling factor\n",
    "    \n",
    "    #I_0 = (math.pi**4/(epsilon_0*n*n_prime))*(mu**2/l**6)*(NA**4/M**2)  # Represents the number of photons we recieve\n",
    "    \n",
    "    I = (2*scipy.special.jv(1,2*math.pi*rho_tilde)/(2*math.pi*rho_tilde))**2 #Represents where we recieve the photons spatially\n",
    "    \n",
    "    #I = (2*scipy.special.jv(1,2*math.pi*rho_tilde)/(2*math.pi*rho_tilde))**2 #Represents where we recieve the photons spatially\n",
    "    \n",
    "    #h = plt.contourf(xdist,ydist,I)\n",
    "    imshow(I, cmap='YlGnBu_r', interpolation='nearest');"
   ]
  },
  {
   "cell_type": "markdown",
   "metadata": {},
   "source": [
    "Check colormaps here: http://matplotlib.org/users/colormaps.html"
   ]
  },
  {
   "cell_type": "markdown",
   "metadata": {},
   "source": [
    "##It is easier to visualize on a single axis. Let's choose the x-axis"
   ]
  },
  {
   "cell_type": "code",
   "execution_count": 48,
   "metadata": {
    "collapsed": false
   },
   "outputs": [
    {
     "data": {
      "image/png": "[encoded data removed]",
      "text/plain": [
       "<matplotlib.figure.Figure at 0x11ed86790>"
      ]
     },
     "metadata": {},
     "output_type": "display_data"
    }
   ],
   "source": [
    "@interact(x_0 =(-80,80,0.1), l = (200, 900, 1), M = (10,100,10), NA = (0.5, 2.0, 0.1))\n",
    "def plot_airy2d(x_0=0, l = 600, M = 60, NA = 1.4):\n",
    "\n",
    "    # Define a few parameters for the Airy Function\n",
    "    \n",
    "    # Universal Constants\n",
    "    epsilon_0 = 1 # Permitivity of Free Space (assuming atomic units)\n",
    "    \n",
    "    # Experimental Constants\n",
    "    mu = 1        # Dipole Moment (dependent on which dye is used)\n",
    "    #NA = 1.4      # Numerical Aperature\n",
    "    #l  = 600      # Wavelength in nm\n",
    "    n  = 1.518    #index of refraction of material surrounding emmitter\n",
    "    n_prime = 1.518 #index of refraction of objective\n",
    "    #M  = 60       # Magnification (60x)\n",
    "    \n",
    "    # Function\n",
    "    xx, yy = meshgrid(xdist, ydist, sparse=True) # Prepares Grid Points\n",
    "    rho = np.sqrt((xx-x_0)**2+(yy)**2) # Distance from center\n",
    "    rho_tilde = 500*rho*NA/(M*l) # The 500 is just a scaling factor\n",
    "    \n",
    "    #I_0 = (math.pi**4/(epsilon_0*n*n_prime))*(mu**2/l**6)*(NA**4/M**2)  # Represents the number of photons we recieve\n",
    "    \n",
    "    I = (2*scipy.special.jv(1,2*math.pi*rho_tilde)/(2*math.pi*rho_tilde))**2 #Represents where we recieve the photons spatially\n",
    "    \n",
    "\n",
    "    plot(xdist,I[I.shape[1]/2,:])"
   ]
  },
  {
   "cell_type": "markdown",
   "metadata": {},
   "source": [
    "##Fit Gaussian to our Airy Function"
   ]
  },
  {
   "cell_type": "code",
   "execution_count": 49,
   "metadata": {
    "collapsed": false
   },
   "outputs": [
    {
     "name": "stdout",
     "output_type": "stream",
     "text": [
      "\n",
      "Normalization      FWHM         Center   \n",
      "------------- ------------- -------------\n",
      " 1.0172837386 46.4296303844 25.8999999718\n",
      "\n",
      "  Norm std dev     FWHM std dev   Center std dev\n",
      "---------------- --------------- ---------------\n",
      "0.00108524495553 0.0133259719689 0.0133259720614\n",
      "\n",
      "Gau fit parameters      1.017 25.900 10.818\n",
      "Gau fit std dev         0.001  0.013  0.013\n"
     ]
    },
    {
     "data": {
      "image/png": "[encoded data removed]",
      "text/plain": [
       "<matplotlib.figure.Figure at 0x123e32f90>"
      ]
     },
     "metadata": {},
     "output_type": "display_data"
    }
   ],
   "source": [
    "@interact(x_0 =(-80,80,0.1), l = (200, 900, 1), M = (10,100,10), NA = (0.5, 2.0, 0.1))\n",
    "def plot_airy2d(x_0=0, l = 600, M = 60, NA = 1.4):\n",
    "\n",
    "    # Define a few parameters for the Airy Function\n",
    "    \n",
    "    # Universal Constants\n",
    "    epsilon_0 = 1 # Permitivity of Free Space (assuming atomic units)\n",
    "    \n",
    "    # Experimental Constants\n",
    "    mu = 1        # Dipole Moment (dependent on which dye is used)\n",
    "    #NA = 1.4      # Numerical Aperature\n",
    "    #l  = 600      # Wavelength in nm\n",
    "    n  = 1.518    #index of refraction of material surrounding emmitter\n",
    "    n_prime = 1.518 #index of refraction of objective\n",
    "    #M  = 60       # Magnification (60x)\n",
    "    \n",
    "    # Function\n",
    "    xx, yy = meshgrid(xdist, ydist, sparse=True) # Prepares Grid Points\n",
    "    rho = np.sqrt((xx-x_0)**2+(yy)**2) # Distance from center\n",
    "    rho_tilde = 500*rho*NA/(M*l) # The 500 is just a scaling factor\n",
    "    \n",
    "    #I_0 = (math.pi**4/(epsilon_0*n*n_prime))*(mu**2/l**6)*(NA**4/M**2)  # Represents the number of photons we recieve\n",
    "    \n",
    "    I = (2*scipy.special.jv(1,2*math.pi*rho_tilde)/(2*math.pi*rho_tilde))**2 #Represents where we recieve the photons spatially\n",
    "    \n",
    "\n",
    "\n",
    "    pg,cg = curve_fit(fgau,xdist,I[I.shape[1]/2,:])\n",
    "    \n",
    "    ygau = fgau(xdist,*pg)\n",
    "    \n",
    "    plot(xdist,I[I.shape[1]/2,:],'b-',label='Data')\n",
    "\n",
    "    plot(xdist,ygau,'g-',label='Gau fit')\n",
    "    legend()\n",
    "    print ''\n",
    "    t = Table()\n",
    "    t['Normalization'] = [pg[0]]\n",
    "    t['FWHM'] = [2.0*math.sqrt(2.0*math.log(10.0))*pg[2]]\n",
    "    t['Center'] = [pg[1]]\n",
    "    print t\n",
    "    \n",
    "    print ''\n",
    "\n",
    "    tstddev = Table()\n",
    "    tstddev['Norm std dev'] = [sqrt(diag(cg))[0]]\n",
    "    tstddev['FWHM std dev'] = [sqrt(diag(cg))[2]]\n",
    "    tstddev['Center std dev'] = [sqrt(diag(cg))[1]]\n",
    "    print tstddev\n",
    "    \n",
    "    print ''\n",
    "    \n",
    "    print 'Gau fit parameters     {0:6.3f} {1:6.3f} {2:6.3f}'.format(*pg)\n",
    "    print 'Gau fit std dev        {0:6.3f} {1:6.3f} {2:6.3f}'.format(*sqrt(diag(cg)))"
   ]
  },
  {
   "cell_type": "markdown",
   "metadata": {
    "collapsed": true
   },
   "source": [
    "But real life experiments cannot obtain infinite resolution. We are limited by the tools that we have. In our case of a collecting photons from a point dipole source, we a limited in our spatial resolution by our pixels."
   ]
  },
  {
   "cell_type": "code",
   "execution_count": 51,
   "metadata": {
    "collapsed": false
   },
   "outputs": [
    {
     "data": {
      "image/png": "[encoded data removed]",
      "text/plain": [
       "<matplotlib.figure.Figure at 0x12b815190>"
      ]
     },
     "metadata": {},
     "output_type": "display_data"
    }
   ],
   "source": [
    "@interact(x_0 =(-80,80,0.1), y_0 = (-80,80,1), l = (200, 900, 1), M = (10,100,10), NA = (0.5, 2.0, 0.1))\n",
    "def plot_airy(x_0=0, y_0=0, l = 600, M = 60, NA = 1.4):\n",
    "\n",
    "    # Define a few parameters for the Airy Function\n",
    "    \n",
    "    # Universal Constants\n",
    "    epsilon_0 = 1 # Permitivity of Free Space (assuming atomic units)\n",
    "    \n",
    "    # Experimental Constants\n",
    "    mu = 1        # Dipole Moment (dependent on which dye is used)\n",
    "    #NA = 1.4      # Numerical Aperature\n",
    "    #l  = 600      # Wavelength in nm\n",
    "    n  = 1.518    #index of refraction of material surrounding emmitter\n",
    "    n_prime = 1.518 #index of refraction of objective\n",
    "    #M  = 60       # Magnification (60x)\n",
    "    \n",
    "    # Function\n",
    "    xx, yy = meshgrid(xdist, ydist, sparse=True) # Prepares Grid Points\n",
    "    rho = np.sqrt((xx-x_0)**2+(yy-y_0)**2) # Distance from center\n",
    "    rho_tilde = 500*rho*NA/(M*l) # The 500 is just a scaling factor\n",
    "    \n",
    "    #I_0 = (math.pi**4/(epsilon_0*n*n_prime))*(mu**2/l**6)*(NA**4/M**2)  # Represents the number of photons we recieve\n",
    "    \n",
    "    I = (2*scipy.special.jv(1,2*math.pi*rho_tilde)/(2*math.pi*rho_tilde))**2 #Represents where we recieve the photons spatially\n",
    "    \n",
    "    pixel = I.reshape(16,100,16,100)\n",
    "    pixel = pixel.sum(axis=3).sum(axis=1)\n",
    "    xpixel = linspace(-80,80,16)\n",
    "    ypixel = xpixel\n",
    "    imshow(pixel,cmap='YlGnBu_r',interpolation = 'nearest')"
   ]
  },
  {
   "cell_type": "code",
   "execution_count": 52,
   "metadata": {
    "collapsed": false
   },
   "outputs": [
    {
     "data": {
      "image/png": "[encoded data removed]",
      "text/plain": [
       "<matplotlib.figure.Figure at 0x12f491910>"
      ]
     },
     "metadata": {},
     "output_type": "display_data"
    }
   ],
   "source": [
    "@interact(x_0 =(-80,80,0.1), l = (200, 900, 1), M = (10,100,10), NA = (0.5, 2.0, 0.1))\n",
    "def plot_airy2d(x_0=0, l = 600, M = 60, NA = 1.4):\n",
    "\n",
    "    # Define a few parameters for the Airy Function\n",
    "    \n",
    "    # Universal Constants\n",
    "    epsilon_0 = 1 # Permitivity of Free Space (assuming atomic units)\n",
    "    \n",
    "    # Experimental Constants\n",
    "    mu = 1        # Dipole Moment (dependent on which dye is used)\n",
    "    #NA = 1.4      # Numerical Aperature\n",
    "    #l  = 600      # Wavelength in nm\n",
    "    n  = 1.518    #index of refraction of material surrounding emmitter\n",
    "    n_prime = 1.518 #index of refraction of objective\n",
    "    #M  = 60       # Magnification (60x)\n",
    "    \n",
    "    # Function\n",
    "    xx, yy = meshgrid(xdist, ydist, sparse=True) # Prepares Grid Points\n",
    "    rho = np.sqrt((xx-x_0)**2+(yy)**2) # Distance from center\n",
    "    rho_tilde = 500*rho*NA/(M*l) # The 500 is just a scaling factor\n",
    "    \n",
    "    #I_0 = (math.pi**4/(epsilon_0*n*n_prime))*(mu**2/l**6)*(NA**4/M**2)  # Represents the number of photons we recieve\n",
    "    \n",
    "    I = (2*scipy.special.jv(1,2*math.pi*rho_tilde)/(2*math.pi*rho_tilde))**2 #Represents where we recieve the photons spatially\n",
    "    \n",
    "    pixel = I.reshape(16,100,16,100)\n",
    "    pixel = pixel.sum(axis=3).sum(axis=1)\n",
    "    xpixel = linspace(-80,80,16)\n",
    "    ypixel = xpixel\n",
    "    centerpixel = xpixel-5\n",
    "    bar(centerpixel,pixel[pixel.shape[1]/2,:],width=9)"
   ]
  },
  {
   "cell_type": "code",
   "execution_count": 54,
   "metadata": {
    "collapsed": false
   },
   "outputs": [
    {
     "name": "stdout",
     "output_type": "stream",
     "text": [
      "\n",
      "Normalization      FWHM         Center   \n",
      "------------- ------------- -------------\n",
      " 8738.6037538 50.5672643596 22.6660443715\n",
      "\n",
      "Norm std dev  FWHM std dev  Center std dev\n",
      "------------ -------------- --------------\n",
      "91.991576015 0.143302159192 0.143143187296\n",
      "\n",
      "Gau fit parameters     8738.604 22.666 11.782\n",
      "Gau fit std dev        91.992  0.143  0.143\n"
     ]
    },
    {
     "data": {
      "image/png": "[encoded data removed]",
      "text/plain": [
       "<matplotlib.figure.Figure at 0x10a5e5950>"
      ]
     },
     "metadata": {},
     "output_type": "display_data"
    }
   ],
   "source": [
    "@interact(x_0 =(-80,80,0.1), l = (200, 900, 1), M = (10,100,10), NA = (0.5, 2.0, 0.1))\n",
    "def plot_airy2d(x_0=0, l = 600, M = 60, NA = 1.4):\n",
    "\n",
    "    # Define a few parameters for the Airy Function\n",
    "    \n",
    "    # Universal Constants\n",
    "    epsilon_0 = 1 # Permitivity of Free Space (assuming atomic units)\n",
    "    \n",
    "    # Experimental Constants\n",
    "    mu = 1        # Dipole Moment (dependent on which dye is used)\n",
    "    #NA = 1.4      # Numerical Aperature\n",
    "    #l  = 600      # Wavelength in nm\n",
    "    n  = 1.518    #index of refraction of material surrounding emmitter\n",
    "    n_prime = 1.518 #index of refraction of objective\n",
    "    #M  = 60       # Magnification (60x)\n",
    "    \n",
    "    # Function\n",
    "    xx, yy = meshgrid(xdist, ydist, sparse=True) # Prepares Grid Points\n",
    "    rho = np.sqrt((xx-x_0)**2+(yy)**2) # Distance from center\n",
    "    rho_tilde = 500*rho*NA/(M*l) # The 500 is just a scaling factor\n",
    "    \n",
    "    #I_0 = (math.pi**4/(epsilon_0*n*n_prime))*(mu**2/l**6)*(NA**4/M**2)  # Represents the number of photons we recieve\n",
    "    \n",
    "    I = (2*scipy.special.jv(1,2*math.pi*rho_tilde)/(2*math.pi*rho_tilde))**2 #Represents where we recieve the photons spatially\n",
    "    \n",
    "    pixel = I.reshape(16,100,16,100)\n",
    "    pixel = pixel.sum(axis=3).sum(axis=1)\n",
    "    xpixel = linspace(-80,80,16)\n",
    "    centerpixel = xpixel-5\n",
    "    \n",
    "    pg,cg = curve_fit(fgau,xpixel,pixel[pixel.shape[1]/2,:])\n",
    "    \n",
    "    ygau = fgau(xdist,*pg)\n",
    "    \n",
    "    \n",
    "    bar(centerpixel,pixel[pixel.shape[1]/2,:],width=9)\n",
    "    plot(xdist,I[I.shape[1]/2,:],'b-',label='Data')\n",
    "    \n",
    "    plot(xdist,ygau,'g-',label='Gau fit')\n",
    "    legend()\n",
    "    \n",
    "    print ''\n",
    "    t = Table()\n",
    "    t['Normalization'] = [pg[0]]\n",
    "    t['FWHM'] = [2.0*math.sqrt(2.0*math.log(10.0))*pg[2]]\n",
    "    t['Center'] = [pg[1]]\n",
    "    print t\n",
    "    \n",
    "    print ''\n",
    "    \n",
    "    tstddev = Table()\n",
    "    tstddev['Norm std dev'] = [sqrt(diag(cg))[0]]\n",
    "    tstddev['FWHM std dev'] = [sqrt(diag(cg))[2]]\n",
    "    tstddev['Center std dev'] = [sqrt(diag(cg))[1]]\n",
    "    print tstddev\n",
    "    \n",
    "    print ''\n",
    "    \n",
    "    print 'Gau fit parameters     {0:6.3f} {1:6.3f} {2:6.3f}'.format(*pg)\n",
    "    print 'Gau fit std dev        {0:6.3f} {1:6.3f} {2:6.3f}'.format(*sqrt(diag(cg)))"
   ]
  },
  {
   "cell_type": "markdown",
   "metadata": {},
   "source": [
    "##Noise"
   ]
  },
  {
   "cell_type": "markdown",
   "metadata": {},
   "source": [
    "Unfortunately, this is still very ideal. There can be noise in our system from other sources (autoflourecense, scattering, or  photons from a nearby lightsource leaking into our sample box. For now, we will simply the problem by looking at a single image in a movie."
   ]
  },
  {
   "cell_type": "code",
   "execution_count": 56,
   "metadata": {
    "collapsed": false
   },
   "outputs": [
    {
     "data": {
      "image/png": "[encoded data removed]",
      "text/plain": [
       "<matplotlib.figure.Figure at 0x10b0c85d0>"
      ]
     },
     "metadata": {},
     "output_type": "display_data"
    }
   ],
   "source": [
    "@interact(x_0 =(-80,80,0.1), l = (200, 900, 1), M = (10,100,10), NA = (0.5, 2.0, 0.1), NoiseCenter = (100, 500, 10), NoiseWidth = (10, 200, 10))\n",
    "def plot_airy2d(x_0=0, l = 600, M = 60, NA = 1.4, NoiseCenter = 500, NoiseWidth = 200):\n",
    "\n",
    "    # Define a few parameters for the Airy Function\n",
    "    \n",
    "    # Universal Constants\n",
    "    epsilon_0 = 1 # Permitivity of Free Space (assuming atomic units)\n",
    "    \n",
    "    # Experimental Constants\n",
    "    mu = 1        # Dipole Moment (dependent on which dye is used)\n",
    "    #NA = 1.4      # Numerical Aperature\n",
    "    #l  = 600      # Wavelength in nm\n",
    "    n  = 1.518    #index of refraction of material surrounding emmitter\n",
    "    n_prime = 1.518 #index of refraction of objective\n",
    "    #M  = 60       # Magnification (60x)\n",
    "    \n",
    "    # Function\n",
    "    xx, yy = meshgrid(xdist, ydist, sparse=True) # Prepares Grid Points\n",
    "    rho = np.sqrt((xx-x_0)**2+(yy)**2) # Distance from center\n",
    "    rho_tilde = 500*rho*NA/(M*l) # The 500 is just a scaling factor\n",
    "    \n",
    "    #I_0 = (math.pi**4/(epsilon_0*n*n_prime))*(mu**2/l**6)*(NA**4/M**2)  # Represents the number of photons we recieve\n",
    "    \n",
    "    I = (2*scipy.special.jv(1,2*math.pi*rho_tilde)/(2*math.pi*rho_tilde))**2 #Represents where we recieve the photons spatially\n",
    "    \n",
    "    pixel = I.reshape(16,100,16,100)\n",
    "    pixel = pixel.sum(axis=3).sum(axis=1)\n",
    "    xpixel = linspace(-80,80,16)\n",
    "    centerpixel = xpixel-5\n",
    "\n",
    "    noise = np.random.normal(loc=500.0,scale=500.0,size=(16,16))\n",
    "    pixelnoise = pixel + abs(noise)\n",
    "    bar(centerpixel,pixelnoise[pixelnoise.shape[1]/2,:],width=9)"
   ]
  },
  {
   "cell_type": "code",
   "execution_count": 57,
   "metadata": {
    "collapsed": false
   },
   "outputs": [
    {
     "name": "stdout",
     "output_type": "stream",
     "text": [
      "\n",
      "Normalization      FWHM         Center   \n",
      "------------- ------------- -------------\n",
      "8759.62034685 57.2463651586 19.7387735865\n",
      "\n",
      " Norm std dev  FWHM std dev Center std dev\n",
      "------------- ------------- --------------\n",
      "384.254939705 0.67563704495  0.67560177543\n",
      "\n"
     ]
    },
    {
     "data": {
      "image/png": "[encoded data removed]",
      "text/plain": [
       "<matplotlib.figure.Figure at 0x128ecd710>"
      ]
     },
     "metadata": {},
     "output_type": "display_data"
    }
   ],
   "source": [
    "@interact(x_0 =(-80,80,0.1), l = (200, 900, 1), M = (10,100,10), NA = (0.5, 2.0, 0.1), NoiseCenter = (100, 500, 10), NoiseWidth = (10, 200, 10))\n",
    "def plot_airy2d(x_0=0, l = 600, M = 60, NA = 1.4, NoiseCenter = 500, NoiseWidth = 200):\n",
    "\n",
    "    # Define a few parameters for the Airy Function\n",
    "    \n",
    "    # Universal Constants\n",
    "    epsilon_0 = 1 # Permitivity of Free Space (assuming atomic units)\n",
    "    \n",
    "    # Experimental Constants\n",
    "    mu = 1        # Dipole Moment (dependent on which dye is used)\n",
    "    #NA = 1.4      # Numerical Aperature\n",
    "    #l  = 600      # Wavelength in nm\n",
    "    n  = 1.518    #index of refraction of material surrounding emmitter\n",
    "    n_prime = 1.518 #index of refraction of objective\n",
    "    #M  = 60       # Magnification (60x)\n",
    "    \n",
    "    # Function\n",
    "    xx, yy = meshgrid(xdist, ydist, sparse=True) # Prepares Grid Points\n",
    "    rho = np.sqrt((xx-x_0)**2+(yy)**2) # Distance from center\n",
    "    rho_tilde = 500*rho*NA/(M*l) # The 500 is just a scaling factor\n",
    "    \n",
    "    #I_0 = (math.pi**4/(epsilon_0*n*n_prime))*(mu**2/l**6)*(NA**4/M**2)  # Represents the number of photons we recieve\n",
    "    \n",
    "    I = (2*scipy.special.jv(1,2*math.pi*rho_tilde)/(2*math.pi*rho_tilde))**2 #Represents where we recieve the photons spatially\n",
    "    \n",
    "    pixel = I.reshape(16,100,16,100)\n",
    "    pixel = pixel.sum(axis=3).sum(axis=1)\n",
    "    xpixel = linspace(-80,80,16)\n",
    "    centerpixel = xpixel-5\n",
    "\n",
    "    noise = np.random.normal(loc=500.0,scale=500.0,size=(16,16))\n",
    "    pixelnoise = pixel + abs(noise)\n",
    "    bar(centerpixel,pixelnoise[pixelnoise.shape[1]/2,:],width=9)\n",
    "    \n",
    "    pg,cg = curve_fit(fgau,xpixel,pixelnoise[pixelnoise.shape[1]/2,:])\n",
    "    \n",
    "    ygau = fgau(xdist,*pg)\n",
    "    \n",
    "    \n",
    "    bar(centerpixel,pixelnoise[pixelnoise.shape[1]/2,:],width=9)\n",
    "    plot(xdist,ygau,'g-',label='Gau fit')\n",
    "    legend()\n",
    "    \n",
    "    print ''\n",
    "    t = Table()\n",
    "    t['Normalization'] = [pg[0]]\n",
    "    t['FWHM'] = [2.0*math.sqrt(2.0*math.log(10.0))*pg[2]]\n",
    "    t['Center'] = [pg[1]]\n",
    "    print t\n",
    "    \n",
    "    print ''\n",
    "    \n",
    "    tstddev = Table()\n",
    "    tstddev['Norm std dev'] = [sqrt(diag(cg))[0]]\n",
    "    tstddev['FWHM std dev'] = [sqrt(diag(cg))[2]]\n",
    "    tstddev['Center std dev'] = [sqrt(diag(cg))[1]]\n",
    "    print tstddev\n",
    "    \n",
    "    print ''\n",
    "    "
   ]
  },
  {
   "cell_type": "markdown",
   "metadata": {},
   "source": [
    "#Finding Standard Deviation of Center"
   ]
  },
  {
   "cell_type": "code",
   "execution_count": null,
   "metadata": {
    "collapsed": true
   },
   "outputs": [],
   "source": []
  },
  {
   "cell_type": "code",
   "execution_count": 60,
   "metadata": {
    "collapsed": false
   },
   "outputs": [
    {
     "data": {
      "image/png": "[encoded data removed]",
      "text/plain": [
       "<matplotlib.figure.Figure at 0x11d9b3e50>"
      ]
     },
     "metadata": {},
     "output_type": "display_data"
    }
   ],
   "source": [
    "@interact(x_0 =(-80,80,0.1), l = (200, 900, 1), M = (10,100,10), NA = (0.5, 2.0, 0.1), NoiseCenter = (100, 500, 10), NoiseWidth = (10, 200, 10))\n",
    "def plot_noise(x_0 = 0, l = 600, M = 60, NA = 1.4, NoiseCenter=500.0, NoiseWidth=200.0):\n",
    "    \n",
    "    \n",
    "    # Define a few parameters for the Airy Function\n",
    "    \n",
    "    # Universal Constants\n",
    "    epsilon_0 = 1 # Permitivity of Free Space (assuming atomic units)\n",
    "    \n",
    "    # Experimental Constants\n",
    "    mu = 1        # Dipole Moment (dependent on which dye is used)\n",
    "    #NA = 1.4      # Numerical Aperature\n",
    "    #l  = 600      # Wavelength in nm\n",
    "    n  = 1.518    #index of refraction of material surrounding emmitter\n",
    "    n_prime = 1.518 #index of refraction of objective\n",
    "    #M  = 60       # Magnification (60x)\n",
    "    \n",
    "    # Function\n",
    "    xx, yy = meshgrid(xdist, ydist, sparse=True) # Prepares Grid Points\n",
    "    rho = np.sqrt((xx-x_0)**2+(yy)**2) # Distance from center\n",
    "    rho_tilde = 500*rho*NA/(M*l) # The 500 is just a scaling factor\n",
    "    \n",
    "    #I_0 = (math.pi**4/(epsilon_0*n*n_prime))*(mu**2/l**6)*(NA**4/M**2)  # Represents the number of photons we recieve\n",
    "    \n",
    "    I = (2*scipy.special.jv(1,2*math.pi*rho_tilde)/(2*math.pi*rho_tilde))**2 #Represents where we recieve the photons spatially\n",
    "    \n",
    "    pixel = I.reshape(16,100,16,100)\n",
    "    pixel = pixel.sum(axis=3).sum(axis=1)\n",
    "    xpixel = linspace(-80,80,16)\n",
    "    centerpixel = xpixel-5\n",
    "    \n",
    "    sample = 400\n",
    "    Average = 1\n",
    "    \n",
    "    noise_all = np.random.normal(loc=NoiseCenter, scale=NoiseWidth, size=(sample, 16, 16))\n",
    "    pos = np.zeros(shape=(sample))\n",
    "    for n in range(0, sample):\n",
    "        noise = noise_all[n]\n",
    "        pixelnoise = pixel + abs(noise)\n",
    "        pg,cg = curve_fit(fgau,xpixel,pixelnoise[pixelnoise.shape[1]/2,:])\n",
    "        pos[n]=pg[1]\n",
    "\n",
    "    poshist, posedge = histogram(pos,20)\n",
    "\n",
    "    plt.figure(1,figsize=(8, 10))\n",
    "    plt.subplot(211)\n",
    "    plt.plot(pos,range(0,sample))\n",
    "\n",
    "    plt.subplot(212)\n",
    "    plt.hist(pos,20)\n",
    "    plt.title('NoiseCenter = %d  NoiseWidth = %d' % (NoiseCenter, NoiseWidth))\n",
    "    \n",
    "    # Hack that may not be needed anymore\n",
    "    #fig = gcf()\n",
    "    #plt.close()\n",
    "    #display(fig)"
   ]
  },
  {
   "cell_type": "markdown",
   "metadata": {},
   "source": [
    "See also: http://stackoverflow.com/questions/24961674/ipython-notebook-widgets-for-matplotlib-interactivity"
   ]
  },
  {
   "cell_type": "code",
   "execution_count": 62,
   "metadata": {
    "collapsed": false
   },
   "outputs": [],
   "source": [
    "#%load_ext line_profiler"
   ]
  },
  {
   "cell_type": "code",
   "execution_count": 63,
   "metadata": {
    "collapsed": false
   },
   "outputs": [],
   "source": [
    "#%lprun -f plot_noise plot_noise()"
   ]
  },
  {
   "cell_type": "code",
   "execution_count": 36,
   "metadata": {
    "collapsed": false
   },
   "outputs": [
    {
     "ename": "NameError",
     "evalue": "name 'pixel' is not defined",
     "output_type": "error",
     "traceback": [
      "\u001b[0;31m---------------------------------------------------------------------------\u001b[0m",
      "\u001b[0;31mNameError\u001b[0m                                 Traceback (most recent call last)",
      "\u001b[0;32m<ipython-input-36-0220ef5da914>\u001b[0m in \u001b[0;36m<module>\u001b[0;34m()\u001b[0m\n\u001b[1;32m      7\u001b[0m \u001b[0;32mfor\u001b[0m \u001b[0mn\u001b[0m \u001b[0;32min\u001b[0m \u001b[0mrange\u001b[0m\u001b[0;34m(\u001b[0m\u001b[0;36m0\u001b[0m\u001b[0;34m,\u001b[0m\u001b[0msample\u001b[0m\u001b[0;34m)\u001b[0m\u001b[0;34m:\u001b[0m\u001b[0;34m\u001b[0m\u001b[0m\n\u001b[1;32m      8\u001b[0m     \u001b[0mnoise\u001b[0m \u001b[0;34m=\u001b[0m \u001b[0mnp\u001b[0m\u001b[0;34m.\u001b[0m\u001b[0mrandom\u001b[0m\u001b[0;34m.\u001b[0m\u001b[0mnormal\u001b[0m\u001b[0;34m(\u001b[0m\u001b[0mloc\u001b[0m\u001b[0;34m=\u001b[0m\u001b[0mNoiseCenter\u001b[0m\u001b[0;34m,\u001b[0m\u001b[0mscale\u001b[0m\u001b[0;34m=\u001b[0m\u001b[0mNoiseWidth\u001b[0m\u001b[0;34m,\u001b[0m\u001b[0msize\u001b[0m\u001b[0;34m=\u001b[0m\u001b[0;34m(\u001b[0m\u001b[0;36m16\u001b[0m\u001b[0;34m,\u001b[0m\u001b[0;36m16\u001b[0m\u001b[0;34m)\u001b[0m\u001b[0;34m)\u001b[0m\u001b[0;34m\u001b[0m\u001b[0m\n\u001b[0;32m----> 9\u001b[0;31m     \u001b[0mpixelnoise\u001b[0m \u001b[0;34m=\u001b[0m \u001b[0mpixel\u001b[0m \u001b[0;34m+\u001b[0m \u001b[0mabs\u001b[0m\u001b[0;34m(\u001b[0m\u001b[0mnoise\u001b[0m\u001b[0;34m)\u001b[0m\u001b[0;34m\u001b[0m\u001b[0m\n\u001b[0m\u001b[1;32m     10\u001b[0m     \u001b[0mpg\u001b[0m\u001b[0;34m,\u001b[0m\u001b[0mcg\u001b[0m \u001b[0;34m=\u001b[0m \u001b[0mcurve_fit\u001b[0m\u001b[0;34m(\u001b[0m\u001b[0mfgau\u001b[0m\u001b[0;34m,\u001b[0m\u001b[0mxpixel\u001b[0m\u001b[0;34m,\u001b[0m\u001b[0mpixelnoise\u001b[0m\u001b[0;34m[\u001b[0m\u001b[0mpixelnoise\u001b[0m\u001b[0;34m.\u001b[0m\u001b[0mshape\u001b[0m\u001b[0;34m[\u001b[0m\u001b[0;36m1\u001b[0m\u001b[0;34m]\u001b[0m\u001b[0;34m/\u001b[0m\u001b[0;36m2\u001b[0m\u001b[0;34m,\u001b[0m\u001b[0;34m:\u001b[0m\u001b[0;34m]\u001b[0m\u001b[0;34m)\u001b[0m\u001b[0;34m\u001b[0m\u001b[0m\n\u001b[1;32m     11\u001b[0m     \u001b[0mpos\u001b[0m\u001b[0;34m[\u001b[0m\u001b[0mn\u001b[0m\u001b[0;34m]\u001b[0m\u001b[0;34m=\u001b[0m\u001b[0mpg\u001b[0m\u001b[0;34m[\u001b[0m\u001b[0;36m1\u001b[0m\u001b[0;34m]\u001b[0m\u001b[0;34m\u001b[0m\u001b[0m\n",
      "\u001b[0;31mNameError\u001b[0m: name 'pixel' is not defined"
     ]
    }
   ],
   "source": [
    "sample = 10000\n",
    "Average = 1\n",
    "NoiseCenter = 500.0\n",
    "NoiseWidth = 200.0\n",
    "\n",
    "pos = np.zeros(shape=(sample))\n",
    "for n in range(0,sample):\n",
    "    noise = np.random.normal(loc=NoiseCenter,scale=NoiseWidth,size=(16,16))\n",
    "    pixelnoise = pixel + abs(noise)\n",
    "    pg,cg = curve_fit(fgau,xpixel,pixelnoise[pixelnoise.shape[1]/2,:])\n",
    "    pos[n]=pg[1]\n",
    "\n",
    "\n",
    "poshist, posedge = histogram(pos,20)\n",
    "# TO FINISH AVERAGING LATER\n",
    "#pixel = I.reshape(16,100,16,100)\n",
    "#pixel = pixel.sum(axis=3).sum(axis=1)\n",
    "#xpixel = linspace(-80,80,16)"
   ]
  },
  {
   "cell_type": "code",
   "execution_count": 65,
   "metadata": {
    "collapsed": false
   },
   "outputs": [],
   "source": [
    "#plt.figure(1,figsize=(8, 20))\n",
    "#plt.subplot(211)\n",
    "#plt.plot(pos,range(0,sample))\n",
    "#\n",
    "#plt.subplot(212)\n",
    "#plt.hist(pos,20)\n",
    "#plt.show()"
   ]
  },
  {
   "cell_type": "code",
   "execution_count": null,
   "metadata": {
    "collapsed": true
   },
   "outputs": [],
   "source": []
  },
  {
   "cell_type": "code",
   "execution_count": null,
   "metadata": {
    "collapsed": true
   },
   "outputs": [],
   "source": []
  },
  {
   "cell_type": "code",
   "execution_count": 38,
   "metadata": {
    "collapsed": false
   },
   "outputs": [
    {
     "data": {
      "text/plain": [
       "[<matplotlib.lines.Line2D at 0x10af84110>]"
      ]
     },
     "execution_count": 38,
     "metadata": {},
     "output_type": "execute_result"
    },
    {
     "data": {
      "image/png": "[encoded data removed]",
      "text/plain": [
       "<matplotlib.figure.Figure at 0x106b74810>"
      ]
     },
     "metadata": {},
     "output_type": "display_data"
    }
   ],
   "source": [
    "plot(xdata,ydata)"
   ]
  },
  {
   "cell_type": "markdown",
   "metadata": {},
   "source": [
    "Fit data to exp and gau curves"
   ]
  },
  {
   "cell_type": "code",
   "execution_count": 66,
   "metadata": {
    "collapsed": false
   },
   "outputs": [
    {
     "ename": "RuntimeError",
     "evalue": "Optimal parameters not found: Number of calls to function has reached maxfev = 800.",
     "output_type": "error",
     "traceback": [
      "\u001b[0;31m---------------------------------------------------------------------------\u001b[0m",
      "\u001b[0;31mRuntimeError\u001b[0m                              Traceback (most recent call last)",
      "\u001b[0;32m<ipython-input-66-9f5e8bb79005>\u001b[0m in \u001b[0;36m<module>\u001b[0;34m()\u001b[0m\n\u001b[1;32m      1\u001b[0m \u001b[0mpe\u001b[0m\u001b[0;34m,\u001b[0m\u001b[0mce\u001b[0m \u001b[0;34m=\u001b[0m \u001b[0mcurve_fit\u001b[0m\u001b[0;34m(\u001b[0m\u001b[0mfexp\u001b[0m\u001b[0;34m,\u001b[0m\u001b[0mxdata\u001b[0m\u001b[0;34m,\u001b[0m\u001b[0mydata\u001b[0m\u001b[0;34m)\u001b[0m\u001b[0;34m\u001b[0m\u001b[0m\n\u001b[0;32m----> 2\u001b[0;31m \u001b[0mpg\u001b[0m\u001b[0;34m,\u001b[0m\u001b[0mcg\u001b[0m \u001b[0;34m=\u001b[0m \u001b[0mcurve_fit\u001b[0m\u001b[0;34m(\u001b[0m\u001b[0mfgau\u001b[0m\u001b[0;34m,\u001b[0m\u001b[0mxdata\u001b[0m\u001b[0;34m,\u001b[0m\u001b[0mydata\u001b[0m\u001b[0;34m)\u001b[0m\u001b[0;34m\u001b[0m\u001b[0m\n\u001b[0m\u001b[1;32m      3\u001b[0m \u001b[0myexp\u001b[0m \u001b[0;34m=\u001b[0m \u001b[0mfexp\u001b[0m\u001b[0;34m(\u001b[0m\u001b[0mxdata\u001b[0m\u001b[0;34m,\u001b[0m\u001b[0;34m*\u001b[0m\u001b[0mpe\u001b[0m\u001b[0;34m)\u001b[0m\u001b[0;34m\u001b[0m\u001b[0m\n\u001b[1;32m      4\u001b[0m \u001b[0mygau\u001b[0m \u001b[0;34m=\u001b[0m \u001b[0mfgau\u001b[0m\u001b[0;34m(\u001b[0m\u001b[0mxdata\u001b[0m\u001b[0;34m,\u001b[0m\u001b[0;34m*\u001b[0m\u001b[0mpg\u001b[0m\u001b[0;34m)\u001b[0m\u001b[0;34m\u001b[0m\u001b[0m\n\u001b[1;32m      5\u001b[0m \u001b[0;34m\u001b[0m\u001b[0m\n",
      "\u001b[0;32m//anaconda/lib/python2.7/site-packages/scipy/optimize/minpack.pyc\u001b[0m in \u001b[0;36mcurve_fit\u001b[0;34m(f, xdata, ydata, p0, sigma, absolute_sigma, check_finite, **kw)\u001b[0m\n\u001b[1;32m    584\u001b[0m     \u001b[0;32mif\u001b[0m \u001b[0mier\u001b[0m \u001b[0;32mnot\u001b[0m \u001b[0;32min\u001b[0m \u001b[0;34m[\u001b[0m\u001b[0;36m1\u001b[0m\u001b[0;34m,\u001b[0m \u001b[0;36m2\u001b[0m\u001b[0;34m,\u001b[0m \u001b[0;36m3\u001b[0m\u001b[0;34m,\u001b[0m \u001b[0;36m4\u001b[0m\u001b[0;34m]\u001b[0m\u001b[0;34m:\u001b[0m\u001b[0;34m\u001b[0m\u001b[0m\n\u001b[1;32m    585\u001b[0m         \u001b[0mmsg\u001b[0m \u001b[0;34m=\u001b[0m \u001b[0;34m\"Optimal parameters not found: \"\u001b[0m \u001b[0;34m+\u001b[0m \u001b[0merrmsg\u001b[0m\u001b[0;34m\u001b[0m\u001b[0m\n\u001b[0;32m--> 586\u001b[0;31m         \u001b[0;32mraise\u001b[0m \u001b[0mRuntimeError\u001b[0m\u001b[0;34m(\u001b[0m\u001b[0mmsg\u001b[0m\u001b[0;34m)\u001b[0m\u001b[0;34m\u001b[0m\u001b[0m\n\u001b[0m\u001b[1;32m    587\u001b[0m \u001b[0;34m\u001b[0m\u001b[0m\n\u001b[1;32m    588\u001b[0m     \u001b[0mwarn_cov\u001b[0m \u001b[0;34m=\u001b[0m \u001b[0mFalse\u001b[0m\u001b[0;34m\u001b[0m\u001b[0m\n",
      "\u001b[0;31mRuntimeError\u001b[0m: Optimal parameters not found: Number of calls to function has reached maxfev = 800."
     ]
    }
   ],
   "source": [
    "pe,ce = curve_fit(fexp,xdata,ydata)\n",
    "pg,cg = curve_fit(fgau,xdata,ydata)\n",
    "yexp = fexp(xdata,*pe)\n",
    "ygau = fgau(xdata,*pg)\n",
    "    \n",
    "plot(xdata,ydata,'-sb',ls=':',label='Data')\n",
    "\n",
    "plot(xdata,yexp,'r-',label='Exp fit')\n",
    "plot(xdata,ygau,'g-',label='Gau fit')\n",
    "legend()"
   ]
  },
  {
   "cell_type": "markdown",
   "metadata": {},
   "source": [
    "Print Fit Parameters"
   ]
  },
  {
   "cell_type": "code",
   "execution_count": 40,
   "metadata": {
    "collapsed": false
   },
   "outputs": [
    {
     "name": "stdout",
     "output_type": "stream",
     "text": [
      "Exp fit params          2.751  1.460  0.478\n",
      "Exp fit std dev         0.128  0.129  0.040\n"
     ]
    },
    {
     "ename": "NameError",
     "evalue": "name 'pg' is not defined",
     "output_type": "error",
     "traceback": [
      "\u001b[0;31m---------------------------------------------------------------------------\u001b[0m",
      "\u001b[0;31mNameError\u001b[0m                                 Traceback (most recent call last)",
      "\u001b[0;32m<ipython-input-40-dddd674d6112>\u001b[0m in \u001b[0;36m<module>\u001b[0;34m()\u001b[0m\n\u001b[1;32m      1\u001b[0m \u001b[0;32mprint\u001b[0m \u001b[0;34m'Exp fit params         {0:6.3f} {1:6.3f} {2:6.3f}'\u001b[0m\u001b[0;34m.\u001b[0m\u001b[0mformat\u001b[0m\u001b[0;34m(\u001b[0m\u001b[0;34m*\u001b[0m\u001b[0mpe\u001b[0m\u001b[0;34m)\u001b[0m\u001b[0;34m\u001b[0m\u001b[0m\n\u001b[1;32m      2\u001b[0m \u001b[0;32mprint\u001b[0m \u001b[0;34m'Exp fit std dev        {0:6.3f} {1:6.3f} {2:6.3f}'\u001b[0m\u001b[0;34m.\u001b[0m\u001b[0mformat\u001b[0m\u001b[0;34m(\u001b[0m\u001b[0;34m*\u001b[0m\u001b[0msqrt\u001b[0m\u001b[0;34m(\u001b[0m\u001b[0mdiag\u001b[0m\u001b[0;34m(\u001b[0m\u001b[0mce\u001b[0m\u001b[0;34m)\u001b[0m\u001b[0;34m)\u001b[0m\u001b[0;34m)\u001b[0m\u001b[0;34m\u001b[0m\u001b[0m\n\u001b[0;32m----> 3\u001b[0;31m \u001b[0;32mprint\u001b[0m \u001b[0;34m'Gau fit parameters     {0:6.3f} {1:6.3f} {2:6.3f}'\u001b[0m\u001b[0;34m.\u001b[0m\u001b[0mformat\u001b[0m\u001b[0;34m(\u001b[0m\u001b[0;34m*\u001b[0m\u001b[0mpg\u001b[0m\u001b[0;34m)\u001b[0m\u001b[0;34m\u001b[0m\u001b[0m\n\u001b[0m\u001b[1;32m      4\u001b[0m \u001b[0;32mprint\u001b[0m \u001b[0;34m'Gau fit std dev        {0:6.3f} {1:6.3f} {2:6.3f}'\u001b[0m\u001b[0;34m.\u001b[0m\u001b[0mformat\u001b[0m\u001b[0;34m(\u001b[0m\u001b[0;34m*\u001b[0m\u001b[0msqrt\u001b[0m\u001b[0;34m(\u001b[0m\u001b[0mdiag\u001b[0m\u001b[0;34m(\u001b[0m\u001b[0mcg\u001b[0m\u001b[0;34m)\u001b[0m\u001b[0;34m)\u001b[0m\u001b[0;34m)\u001b[0m\u001b[0;34m\u001b[0m\u001b[0m\n",
      "\u001b[0;31mNameError\u001b[0m: name 'pg' is not defined"
     ]
    }
   ],
   "source": [
    "print 'Exp fit params         {0:6.3f} {1:6.3f} {2:6.3f}'.format(*pe)\n",
    "print 'Exp fit std dev        {0:6.3f} {1:6.3f} {2:6.3f}'.format(*sqrt(diag(ce)))\n",
    "print 'Gau fit parameters     {0:6.3f} {1:6.3f} {2:6.3f}'.format(*pg)\n",
    "print 'Gau fit std dev        {0:6.3f} {1:6.3f} {2:6.3f}'.format(*sqrt(diag(cg)))"
   ]
  },
  {
   "cell_type": "code",
   "execution_count": null,
   "metadata": {
    "collapsed": true
   },
   "outputs": [],
   "source": []
  },
  {
   "cell_type": "code",
   "execution_count": null,
   "metadata": {
    "collapsed": true
   },
   "outputs": [],
   "source": []
  }
 ],
 "metadata": {
  "kernelspec": {
   "display_name": "Python 2",
   "language": "python",
   "name": "python2"
  },
  "language_info": {
   "codemirror_mode": {
    "name": "ipython",
    "version": 2
   },
   "file_extension": ".py",
   "mimetype": "text/x-python",
   "name": "python",
   "nbconvert_exporter": "python",
   "pygments_lexer": "ipython2",
   "version": "2.7.10"
  }
 },
 "nbformat": 4,
 "nbformat_minor": 0
}
