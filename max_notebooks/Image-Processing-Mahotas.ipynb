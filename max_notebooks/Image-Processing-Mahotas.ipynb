{
 "cells": [
  {
   "cell_type": "markdown",
   "metadata": {},
   "source": [
    "## Simple Image Processing Demo\n",
    "Using *mahotas* module to count nuclei on a stock image"
   ]
  },
  {
   "cell_type": "code",
   "execution_count": null,
   "metadata": {},
   "outputs": [],
   "source": [
    "%matplotlib inline"
   ]
  },
  {
   "cell_type": "code",
   "execution_count": null,
   "metadata": {},
   "outputs": [],
   "source": [
    "import mahotas as mh\n",
    "import mahotas.demos\n",
    "import numpy as np\n",
    "import matplotlib.pyplot as plt\n",
    "from pylab import imshow, imread\n",
    "\n",
    "plt.rcParams['figure.figsize'] = 10,6"
   ]
  },
  {
   "cell_type": "code",
   "execution_count": null,
   "metadata": {},
   "outputs": [],
   "source": [
    "f = mh.demos.nuclear_image()\n",
    "f = f[:,:,0]\n",
    "imshow(f)"
   ]
  },
  {
   "cell_type": "code",
   "execution_count": null,
   "metadata": {},
   "outputs": [],
   "source": [
    "f = mh.gaussian_filter(f, 4)\n",
    "f = (f> f.mean())\n",
    "imshow(f)"
   ]
  },
  {
   "cell_type": "code",
   "execution_count": null,
   "metadata": {},
   "outputs": [],
   "source": [
    "labeled, n_nucleus  = mh.label(f)\n",
    "print('Found {} nuclei.'.format(n_nucleus))\n",
    "imshow(labeled)"
   ]
  },
  {
   "cell_type": "code",
   "execution_count": null,
   "metadata": {},
   "outputs": [],
   "source": [
    "sizes = mh.labeled.labeled_size(labeled)\n",
    "too_big = np.where(sizes > 10000)\n",
    "labeled = mh.labeled.remove_regions(labeled, too_big)\n",
    "imshow(labeled)"
   ]
  },
  {
   "cell_type": "code",
   "execution_count": null,
   "metadata": {},
   "outputs": [],
   "source": [
    "whole = mh.segmentation.gvoronoi(labeled)\n",
    "imshow(whole)"
   ]
  },
  {
   "cell_type": "code",
   "execution_count": null,
   "metadata": {},
   "outputs": [],
   "source": []
  }
 ],
 "metadata": {
  "kernelspec": {
   "display_name": "Python 3",
   "language": "python",
   "name": "python3"
  },
  "language_info": {
   "codemirror_mode": {
    "name": "ipython",
    "version": 3
   },
   "file_extension": ".py",
   "mimetype": "text/x-python",
   "name": "python",
   "nbconvert_exporter": "python",
   "pygments_lexer": "ipython3",
   "version": "3.7.6"
  }
 },
 "nbformat": 4,
 "nbformat_minor": 4
}
