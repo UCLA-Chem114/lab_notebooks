{
 "cells": [
  {
   "cell_type": "markdown",
   "metadata": {},
   "source": [
    "\n",
    "## C125 Notebook\n",
    "Here we will practice basics of Jupyter notebooks - markdown and code cells, simple Python.  \n",
    "\n",
    "There usually is some dependence on the order of execution of cells in notebooks.  Initialize graphics and import modules/libraries need to be run before you try to plot anything.  Also, defining functions or variables should be done before you use them.  So, run cells sequentially from top to bottom.  Rerun cells after you open a notebook that was shutdown before.  One keyboard shortcut to run a cell is **Shift-Enter**.\n",
    "\n",
    "A great way to learn more about Scientific Python Environment is by working through [SciPy Lecture Notes](http://scipy-lectures.org/) .  You can also practice Python at [W3Schools Python](https://w3schools.com/python/) .\n",
    "\n",
    "In markdown cells, we can also include HTML - <img src=\"fmoc-ala.png\" style=\"width:200px;\">\n",
    "\n",
    "If you want to embed math into markdown or code cells - $\\sum_{x=0}^{\\infty}e^{-ix}$  -  you will need some LaTeX knowledge, here is a useful [Matplotlib Math page](https://matplotlib.org/tutorials/text/mathtext.html) ."
   ]
  },
  {
   "cell_type": "markdown",
   "metadata": {},
   "source": [
    "### Basic Python data types and operations and commands\n",
    "These are all built into Python and don't need  **numpy** or **matplotlib**"
   ]
  },
  {
   "cell_type": "code",
   "execution_count": 1,
   "metadata": {},
   "outputs": [],
   "source": [
    "# assign numbers, stings, and boolians to variables\n",
    "a = 1  # assign integer 1 to variable a\n",
    "b = 7  # assign integer 7 to variable b\n",
    "c = \"Hello\"  # assign a string to variable c\n",
    "d = \"Chem 125\"   # assign another string to variable d\n",
    "f = 3.14    # assign a floating point number to variable f\n",
    "e = 5.3e-3  # assign another float using exponent notation to e\n",
    "q = True  # assign boolian True value to variable q"
   ]
  },
  {
   "cell_type": "code",
   "execution_count": 2,
   "metadata": {},
   "outputs": [
    {
     "name": "stdout",
     "output_type": "stream",
     "text": [
      "Hello\n",
      "e =  0.0053\n",
      "q is:  True\n"
     ]
    }
   ],
   "source": [
    "# try printing assigned variables\n",
    "# for example:\n",
    "print(c)\n",
    "# or add a descriptive string to your print\n",
    "print('e = ', e)\n",
    "print('q is: ', q)"
   ]
  },
  {
   "cell_type": "code",
   "execution_count": null,
   "metadata": {},
   "outputs": [],
   "source": [
    "# perform arithmetic operations on variables\n",
    "print(a+b) # print sum of a and b numbers\n",
    "print(c+d) # print combined c and d strings\n",
    "\n",
    "# assign new variable to combination of existing variables\n",
    "p = f*e  # multiply f with e and store product in p\n",
    "print('p = ', p)\n",
    "r = c*3  # multiply string by integer 3 repeats the sting three times\n",
    "print('c*3 is: ', r)\n",
    "\n",
    "# increment operator, shows up in loops\n",
    "print('old a: ', a)  # first print old a\n",
    "a += 2   # same as a = a + 2 , add a and 2 together and assign new value to a\n",
    "print('new a: ', a)  # now print new a\n",
    "\n",
    "# you can check the data type of Python variables as follows:\n",
    "print('type of e is: ', type(e) )\n",
    "\n",
    "# for more ADVANCED print, it is possible to format a string and insert variables\n",
    "# simple example is below:\n",
    "pstr = \"This string includes an integer {var1} and a float {var2:.2f} that we'll print with only 2 decimals\"\n",
    "print( pstr.format(var1=8,var2=2.2222) )  # print pstr with interpolated variables\n",
    "print( pstr.format(var1=99,var2=3.1415) ) # print with another set of variables\n",
    "\n",
    "# try printing strings, variables and their other combinations; some combinations may not make sense like c * e, but others like q + e work\n"
   ]
  },
  {
   "cell_type": "code",
   "execution_count": null,
   "metadata": {},
   "outputs": [],
   "source": [
    "# comparison, logical, and bitwise operations\n",
    "print('is b>a : ', b>a)        # b greater than a ?\n",
    "print('is f equal e: ', f==e)  # notice == is testing equivalence, not assigning like =\n",
    "print('logical a<5 and b>2 :', a<5 and b>2)    # logical AND - non-zero numbers are True\n",
    "print('bitwise a & b :', a & b)        # bitwise AND \n",
    "print('a+b*2 = ', a+b*2)   # operator precedence, like argebra\n",
    "\n",
    "# try a few other operations on variables or constants\n"
   ]
  },
  {
   "cell_type": "code",
   "execution_count": null,
   "metadata": {},
   "outputs": [],
   "source": [
    "# Common code structures - conditionals and loops\n",
    "\n",
    "# First conditional or branching\n",
    "if ( a > b ):   # notice condition then :\n",
    "    print('a is greater than b')  # some action MUST BE TABBED IN\n",
    "elif ( b > a):  # another codition and :\n",
    "    print('b is greater than a')  # another action MUST BE TABBED IN\n",
    "else:\n",
    "    print('a and b must be equal') # the remaining action MUST BE TABBED IN\n",
    "    \n",
    "# Now we examine for and while loop structures\n",
    "print('starting for loop')\n",
    "for i in range(5):                   # condition and : again; range generates [0,1,2,3,4] loop runs for all values of i\n",
    "    print(' -inside loop, step ',i)  # action inside a loop to be repeated MUST BE TABBED IN\n",
    "print('done with for loop')          # do something after the loop\n",
    "\n",
    "print('starting while loop')\n",
    "sum=0  # init sum variable to 0\n",
    "n=0    # init count variable to 0\n",
    "while (n<=3):                        # condition and : again; loop runs as long as n is less or equal to 3\n",
    "    print(' -inside loop, step ',n)  # action inside a loop to be repeated MUST BE TABBED IN\n",
    "    sum+=n                           # increment sum by n; action inside a loop to be repeated MUST BE TABBED IN\n",
    "    n+=1                             # increment count by 1; action inside a loop to be repeated MUST BE TABBED IN\n",
    "print('done with while loop')\n",
    "print('sum = ', sum)  # after loop is done, print accumulated sum\n",
    "\n",
    "# write a for loop to compute the sum of i^2\n"
   ]
  },
  {
   "cell_type": "code",
   "execution_count": null,
   "metadata": {},
   "outputs": [],
   "source": [
    "# modularity and abstraction with functions\n",
    "# we always first define a function and then use it; note mutiline comment in triple quotes\n",
    "# 1. functions that return data\n",
    "def cube(x):   # like in conditionals and loops : and TABBED IN actions\n",
    "    '''cube function computes the input number cubed,\n",
    "       will generate errors on non-number input or empty input'''\n",
    "    return x**3  # exit the function returning cubed value of input\n",
    "\n",
    "# 2. function without return, side effect only - print or plot something\n",
    "def perror(n=None):   # like in conditionals and loops : and TABBED IN actions \n",
    "    '''print out a message that includes input argument,\n",
    "        default input is None'''\n",
    "    print('Error message: ', n)   # print, but no return\n",
    "\n",
    "# write a function that computes x^3 - b*x with inputs x and b, make defaults x=1,b=0\n",
    "\n",
    "# write another function that uses the for loop you built in the cell above to compute the sum of i^2;\n",
    "# this function should take a positive integer as argument, say Top, and return the sum of 1^2 + 2^2 + ... + Top^2\n"
   ]
  },
  {
   "cell_type": "code",
   "execution_count": null,
   "metadata": {},
   "outputs": [],
   "source": [
    "# now run the functions defined above\n",
    "result = cube(a)  # run cube on variable a and store return in the result variable\n",
    "print( result )   # result holding the computer cube of a\n",
    "\n",
    "print( cube(0.2)) # compute cube of 0.2, note not exactly 0.008\n",
    "\n",
    "perror(404)              # print something\n",
    "perror('no file found')  # print something else\n",
    "perror()                 # no argument, using default\n",
    "\n",
    "noresult = perror('return what?')  # this function returns None\n",
    "print(noresult)\n",
    "\n",
    "# run your functions from the cell above with several inputs, \n",
    "# have your functions' return values assigned to a variable and print that variable\n"
   ]
  },
  {
   "cell_type": "code",
   "execution_count": null,
   "metadata": {},
   "outputs": [],
   "source": []
  }
 ],
 "metadata": {
  "kernelspec": {
   "display_name": "Python 3",
   "language": "python",
   "name": "python3"
  },
  "language_info": {
   "codemirror_mode": {
    "name": "ipython",
    "version": 3
   },
   "file_extension": ".py",
   "mimetype": "text/x-python",
   "name": "python",
   "nbconvert_exporter": "python",
   "pygments_lexer": "ipython3",
   "version": "3.7.6"
  }
 },
 "nbformat": 4,
 "nbformat_minor": 4
}
