{
 "cells": [
  {
   "cell_type": "markdown",
   "metadata": {},
   "source": [
    "# HW1: Data Manipulation\n",
    "This HW is designed to have you practice the basics of Python data manipulation. We will try to walk you through most of the assignment, but you will have to enter and execute your own code.\n",
    "\n",
    "By the end of this assignment you should be able to manipulate and probe datasets that you upload into Python"
   ]
  },
  {
   "cell_type": "markdown",
   "metadata": {},
   "source": [
    "In this markdown cell, provide your name and UCLA ID\n",
    "\n",
    "Name:\n",
    "\n",
    "UCLA ID: "
   ]
  },
  {
   "cell_type": "markdown",
   "metadata": {},
   "source": [
    "# Initialize your code\n",
    "\n",
    "- Here, import the dependancies you will need to begin your analysis. \n",
    "> In computer programming, this is called the 'boilerplate'.\n",
    "  The boilerplate is a section of code that must be included with little or no alteration.\n",
    "  It is often used when referring to languages that are considered verbose,\n",
    "  i.e. the programmer must write a lot of code to do minimal jobs. \n",
    "  Python is considered a verbose language. \n",
    "  In this case, our boilerplate is composed of the libraries that we import.\n",
    "\n",
    "- If you are confused as to what to put in this section, look at other example code we have provided.\n",
    "  Remember, `SHIFT+ENTER` to execute the code in a cell!"
   ]
  },
  {
   "cell_type": "code",
   "execution_count": 1,
   "metadata": {},
   "outputs": [],
   "source": []
  },
  {
   "cell_type": "markdown",
   "metadata": {},
   "source": [
    "# Load data"
   ]
  },
  {
   "cell_type": "markdown",
   "metadata": {},
   "source": [
    "- Now we will practice loading data. Use the numpy `loadtxt` function to load the data file, \"ProvidedData.csv\".\n",
    "  This will load your data from a .csv into a numpy array. When you load your data this way, you will need to specify\n",
    "  the type of delimiter. \n",
    "  \n",
    "> HINT: csv stands for **c**omma **s**eparated **v**alue. Knowing this, can you guess the delimiter?\n",
    "> If you can't remember how this is done, refer to the example done in class.\n",
    "\n",
    "- Remember to give loaded data a name e.g. ProvidedData.\n",
    "\n",
    "- Preview your data so that you know it is loaded properly.\n",
    "\n",
    "- Check how many rows and column there are by finding the shape of your array, `ProvidedData`.\n",
    "\n",
    "> Verify that you have 10000 rows and 6 columns.  "
   ]
  },
  {
   "cell_type": "code",
   "execution_count": 2,
   "metadata": {},
   "outputs": [
    {
     "data": {
      "text/plain": [
       "(10000, 6)"
      ]
     },
     "execution_count": 2,
     "metadata": {},
     "output_type": "execute_result"
    }
   ],
   "source": []
  },
  {
   "cell_type": "markdown",
   "metadata": {},
   "source": [
    "Now that you have loaded the data, it is easier to manipulate the data if you reassign the data into X-variables, Y-variables, Z-varibles, etc.\n",
    "\n",
    "> An example is provided below to help you manipulate your loaded data."
   ]
  },
  {
   "cell_type": "markdown",
   "metadata": {},
   "source": [
    "Note that jupyter notebook will always print the last thing written in a cell \n",
    "when executed with `SHIFT + ENTER`. This is a very useful debugging technique; \n",
    "try it for yourself with the example data:"
   ]
  },
  {
   "cell_type": "code",
   "execution_count": 3,
   "metadata": {},
   "outputs": [
    {
     "data": {
      "text/plain": [
       "array([[ 1,  2,  3,  4],\n",
       "       [ 5,  6,  7,  8],\n",
       "       [ 9, 10, 11, 12],\n",
       "       [13, 14, 15, 16]])"
      ]
     },
     "execution_count": 3,
     "metadata": {},
     "output_type": "execute_result"
    }
   ],
   "source": []
  },
  {
   "cell_type": "markdown",
   "metadata": {},
   "source": [
    "# Indexing and slicing\n",
    "\n",
    "Notice that when you print the variable `ExampleData` in this way, you also learn that it is an object of type 'array'. \n",
    "\n",
    "> What is the shape of the `ExampleData` array?"
   ]
  },
  {
   "cell_type": "markdown",
   "metadata": {},
   "source": [
    "Use [indexing and slicing](https://www.pythoncentral.io/how-to-slice-listsarrays-and-tuples-in-python/) to retrieve rows and columns from your data file. Remember, python starts counting from 0, and -1 is a shortcut for the last element of an array.\n",
    "\n",
    "> Square brackets we designate `[rows, cols]`.\n",
    "\n",
    "> Note that `:` selects all the elements in the array for a given dimention (rows or columns).\n",
    "\n",
    "> Challenge question: what does the slice `[::-1]` do for a one-dimentional array? Try it yourself!\n",
    "\n",
    "Check that the variable `ExampleColumnA` contains the data you selected by printing it with `SHIFT+ENTER`."
   ]
  },
  {
   "cell_type": "code",
   "execution_count": 4,
   "metadata": {},
   "outputs": [
    {
     "data": {
      "text/plain": [
       "array([ 1,  5,  9, 13])"
      ]
     },
     "execution_count": 4,
     "metadata": {},
     "output_type": "execute_result"
    }
   ],
   "source": []
  },
  {
   "cell_type": "markdown",
   "metadata": {},
   "source": [
    "Checking the shape and/or length of an array is often an important debugging step!\n",
    "\n",
    "To check the length of your array, try:\n",
    "\n",
    "`len(ExampleColumnA)`\n",
    "\n",
    "Remember that you can also learn the shape of your array, \n",
    "and thus the length, by using the `.shape` attribute in numpy."
   ]
  },
  {
   "cell_type": "code",
   "execution_count": 5,
   "metadata": {},
   "outputs": [
    {
     "data": {
      "text/plain": [
       "4"
      ]
     },
     "execution_count": 5,
     "metadata": {},
     "output_type": "execute_result"
    }
   ],
   "source": []
  },
  {
   "cell_type": "code",
   "execution_count": 6,
   "metadata": {},
   "outputs": [
    {
     "data": {
      "text/plain": [
       "(4,)"
      ]
     },
     "execution_count": 6,
     "metadata": {},
     "output_type": "execute_result"
    }
   ],
   "source": []
  },
  {
   "cell_type": "markdown",
   "metadata": {},
   "source": [
    "Repeat this for each selection to ensure you have sliced the arrays appropriately."
   ]
  },
  {
   "cell_type": "code",
   "execution_count": 7,
   "metadata": {},
   "outputs": [
    {
     "data": {
      "text/plain": [
       "array([1, 2, 3, 4])"
      ]
     },
     "execution_count": 7,
     "metadata": {},
     "output_type": "execute_result"
    }
   ],
   "source": []
  },
  {
   "cell_type": "code",
   "execution_count": 8,
   "metadata": {},
   "outputs": [
    {
     "data": {
      "text/plain": [
       "array([ 3,  7, 11, 15])"
      ]
     },
     "execution_count": 8,
     "metadata": {},
     "output_type": "execute_result"
    }
   ],
   "source": []
  },
  {
   "cell_type": "code",
   "execution_count": 9,
   "metadata": {},
   "outputs": [
    {
     "data": {
      "text/plain": [
       "array([13, 14, 15, 16])"
      ]
     },
     "execution_count": 9,
     "metadata": {},
     "output_type": "execute_result"
    }
   ],
   "source": []
  },
  {
   "cell_type": "markdown",
   "metadata": {},
   "source": [
    "## Now try it yourself with a larger data file\n",
    "\n",
    "- From your loaded data, split up the six columns into individual arrays. \n",
    "- Be sure to use different array names than the example and your other arrays\n",
    "  otherwise there could be a conflict in the code.\n",
    "> Do not worry about being creative, a **descriptive** name is better.\n",
    "  For example:  \n",
    "    - `RandomDistribution1`\n",
    "    - `RandomDistribution2`\n",
    "    - `RandomDistribution3`\n",
    "    - `RandomDistribution4`\n",
    "    - `ProvidedXData`\n",
    "    - `ProvidedYData`"
   ]
  },
  {
   "cell_type": "code",
   "execution_count": 10,
   "metadata": {},
   "outputs": [
    {
     "data": {
      "text/plain": [
       "array([ 35.136,  44.878,  28.805, ...,  16.703,  39.595,  20.668])"
      ]
     },
     "execution_count": 10,
     "metadata": {},
     "output_type": "execute_result"
    }
   ],
   "source": []
  },
  {
   "cell_type": "code",
   "execution_count": 11,
   "metadata": {},
   "outputs": [
    {
     "data": {
      "text/plain": [
       "array([ 3.,  4.,  4., ...,  4.,  0.,  3.])"
      ]
     },
     "execution_count": 11,
     "metadata": {},
     "output_type": "execute_result"
    }
   ],
   "source": []
  },
  {
   "cell_type": "code",
   "execution_count": 12,
   "metadata": {},
   "outputs": [
    {
     "data": {
      "text/plain": [
       "array([ 0.97399,  0.87947,  0.53172, ...,  0.74682,  0.95972,  0.95377])"
      ]
     },
     "execution_count": 12,
     "metadata": {},
     "output_type": "execute_result"
    }
   ],
   "source": []
  },
  {
   "cell_type": "code",
   "execution_count": 13,
   "metadata": {},
   "outputs": [
    {
     "data": {
      "text/plain": [
       "array([ 5.4378,  3.3751,  5.5909, ...,  2.867 ,  5.11  ,  4.2306])"
      ]
     },
     "execution_count": 13,
     "metadata": {},
     "output_type": "execute_result"
    }
   ],
   "source": []
  },
  {
   "cell_type": "code",
   "execution_count": 14,
   "metadata": {},
   "outputs": [
    {
     "data": {
      "text/plain": [
       "array([   1.    ,    1.0099,    1.0198, ...,   99.98  ,   99.99  ,  100.    ])"
      ]
     },
     "execution_count": 14,
     "metadata": {},
     "output_type": "execute_result"
    }
   ],
   "source": []
  },
  {
   "cell_type": "code",
   "execution_count": 15,
   "metadata": {},
   "outputs": [
    {
     "data": {
      "text/plain": [
       "array([ 2.7673  ,  2.862   ,  2.6986  , ..., -0.13141 ,  0.097506, -0.09176 ])"
      ]
     },
     "execution_count": 15,
     "metadata": {},
     "output_type": "execute_result"
    }
   ],
   "source": []
  },
  {
   "cell_type": "markdown",
   "metadata": {},
   "source": [
    "# Statistics\n",
    "\n",
    "Now that the data is in a format that is easily manipulated, \n",
    "let's calculate the min, max, and standard deviation.\n",
    "    - Hint: each calculation should be done in a separate cell and printed as a check. \n",
    "      This is an important debugging step.\n",
    "\n",
    "An example is shown below using `ExampleData`:"
   ]
  },
  {
   "cell_type": "code",
   "execution_count": 16,
   "metadata": {},
   "outputs": [
    {
     "data": {
      "text/plain": [
       "7.0"
      ]
     },
     "execution_count": 16,
     "metadata": {},
     "output_type": "execute_result"
    }
   ],
   "source": []
  },
  {
   "cell_type": "markdown",
   "metadata": {},
   "source": [
    "The output is 7.0, but it is not obvious what the number 7.0 corresponds to without writing it explicitly.\n",
    "\n",
    "In this case, it is useful to use the `print()` function so that the output is given a meaning and is *easy to read*.\n",
    "For example:"
   ]
  },
  {
   "cell_type": "code",
   "execution_count": 17,
   "metadata": {},
   "outputs": [
    {
     "name": "stdout",
     "output_type": "stream",
     "text": [
      "Mean = 7.0\n"
     ]
    }
   ],
   "source": []
  },
  {
   "cell_type": "markdown",
   "metadata": {},
   "source": [
    "Another (better) way to print is with f-strings. \n",
    "In this case the variable is replaced inside the string at the location of the curly brackets, `{}`. \n",
    "\n",
    "Implement the f-string by adding the letter 'f' to the begining of the string:"
   ]
  },
  {
   "cell_type": "code",
   "execution_count": 18,
   "metadata": {},
   "outputs": [
    {
     "name": "stdout",
     "output_type": "stream",
     "text": [
      "Mean = 7.0\n"
     ]
    }
   ],
   "source": []
  },
  {
   "cell_type": "code",
   "execution_count": 19,
   "metadata": {},
   "outputs": [
    {
     "name": "stdout",
     "output_type": "stream",
     "text": [
      "Min = 1\n"
     ]
    }
   ],
   "source": []
  },
  {
   "cell_type": "code",
   "execution_count": 20,
   "metadata": {},
   "outputs": [
    {
     "name": "stdout",
     "output_type": "stream",
     "text": [
      "Max = 13\n"
     ]
    }
   ],
   "source": []
  },
  {
   "cell_type": "code",
   "execution_count": 21,
   "metadata": {},
   "outputs": [
    {
     "name": "stdout",
     "output_type": "stream",
     "text": [
      "Standard deviation = 4.47213595499958\n"
     ]
    }
   ],
   "source": []
  },
  {
   "cell_type": "markdown",
   "metadata": {},
   "source": [
    "## Calculate the statistics for your data\n",
    "\n",
    "Find out a little information about the kind of data that was given to you\n",
    "print the Mean, Min, Max, STD, of each column of the provided data\n",
    "\n"
   ]
  },
  {
   "cell_type": "code",
   "execution_count": 22,
   "metadata": {},
   "outputs": [
    {
     "name": "stdout",
     "output_type": "stream",
     "text": [
      "Mean = 29.857620095\n"
     ]
    }
   ],
   "source": []
  },
  {
   "cell_type": "code",
   "execution_count": 23,
   "metadata": {},
   "outputs": [
    {
     "name": "stdout",
     "output_type": "stream",
     "text": [
      "Min = -5.8388\n"
     ]
    }
   ],
   "source": []
  },
  {
   "cell_type": "markdown",
   "metadata": {},
   "source": [
    "# Plotting\n",
    "\n",
    "Let us now try to probe a little more information about the provided data by plotting the distribution with a histogram.\n",
    "\n",
    "First, let's generate some random data:"
   ]
  },
  {
   "cell_type": "code",
   "execution_count": 24,
   "metadata": {
    "scrolled": true
   },
   "outputs": [
    {
     "data": {
      "text/plain": [
       "(200,)"
      ]
     },
     "execution_count": 24,
     "metadata": {},
     "output_type": "execute_result"
    }
   ],
   "source": []
  },
  {
   "cell_type": "markdown",
   "metadata": {},
   "source": [
    "## Affect of bin size\n",
    "\n",
    "Explore your histogram by trying different bin numbers. \n",
    "\n",
    ">How does the bin number affect the noise of your distribution? \n",
    "\n",
    ">Similarly, how does the bin number affect the resolution of your histogram? In other words, do you gain or loose information with increasing bin number?\n",
    "\n",
    "Plot your data as a histogram with matplotlib and specify the number of bins (`bins=10` is the default value):\n",
    "    - For example try `bins=100`, `bins=20`, `bins=10` etc.\n",
    "- always label your axes including units if applicable\n",
    "- be sure to title your graph with a description of the data"
   ]
  },
  {
   "cell_type": "code",
   "execution_count": 25,
   "metadata": {},
   "outputs": [
    {
     "data": {
      "image/png": "[encoded data removed]",
      "text/plain": [
       "<matplotlib.figure.Figure at 0x116169630>"
      ]
     },
     "metadata": {},
     "output_type": "display_data"
    }
   ],
   "source": []
  },
  {
   "cell_type": "code",
   "execution_count": 26,
   "metadata": {},
   "outputs": [
    {
     "data": {
      "image/png": "[encoded data removed]",
      "text/plain": [
       "<matplotlib.figure.Figure at 0x115f31748>"
      ]
     },
     "metadata": {},
     "output_type": "display_data"
    }
   ],
   "source": []
  },
  {
   "cell_type": "code",
   "execution_count": 27,
   "metadata": {},
   "outputs": [
    {
     "data": {
      "image/png": "[encoded data removed]",
      "text/plain": [
       "<matplotlib.figure.Figure at 0x1160f9898>"
      ]
     },
     "metadata": {},
     "output_type": "display_data"
    }
   ],
   "source": []
  },
  {
   "cell_type": "markdown",
   "metadata": {},
   "source": [
    "## Find the mean, median, and standard deviation of our randomly generated distribution\n",
    "\n",
    "Plot your histogram then plot a verticle line at the mean to see where it falls in the distribution."
   ]
  },
  {
   "cell_type": "code",
   "execution_count": 28,
   "metadata": {
    "scrolled": true
   },
   "outputs": [
    {
     "data": {
      "image/png": "[encoded data removed]",
      "text/plain": [
       "<matplotlib.figure.Figure at 0x118b6a908>"
      ]
     },
     "metadata": {},
     "output_type": "display_data"
    }
   ],
   "source": []
  },
  {
   "cell_type": "markdown",
   "metadata": {},
   "source": [
    "Now, try it on your own for the median."
   ]
  },
  {
   "cell_type": "code",
   "execution_count": 29,
   "metadata": {
    "scrolled": true
   },
   "outputs": [
    {
     "data": {
      "image/png": "[encoded data removed]",
      "text/plain": [
       "<matplotlib.figure.Figure at 0x118adb390>"
      ]
     },
     "metadata": {},
     "output_type": "display_data"
    }
   ],
   "source": []
  },
  {
   "cell_type": "markdown",
   "metadata": {},
   "source": [
    "## Plot histograms of your data\n",
    "\n",
    "Create a histogram for each of the first four columns of the provided data. For each column, identify a) the type of random distribution, b) the ditribution center, and c) the distribution width.\n",
    "> Refer to page 32 in your textbook if you need help identifying the distributions."
   ]
  },
  {
   "cell_type": "code",
   "execution_count": 30,
   "metadata": {
    "scrolled": true
   },
   "outputs": [
    {
     "data": {
      "image/png": "[encoded data removed]",
      "text/plain": [
       "<matplotlib.figure.Figure at 0x1161ec940>"
      ]
     },
     "metadata": {},
     "output_type": "display_data"
    }
   ],
   "source": []
  },
  {
   "cell_type": "code",
   "execution_count": 31,
   "metadata": {},
   "outputs": [
    {
     "data": {
      "image/png": "[encoded data removed]",
      "text/plain": [
       "<matplotlib.figure.Figure at 0x118977b38>"
      ]
     },
     "metadata": {},
     "output_type": "display_data"
    }
   ],
   "source": []
  },
  {
   "cell_type": "code",
   "execution_count": 32,
   "metadata": {
    "scrolled": true
   },
   "outputs": [
    {
     "data": {
      "image/png": "[encoded data removed]",
      "text/plain": [
       "<matplotlib.figure.Figure at 0x11899fc88>"
      ]
     },
     "metadata": {},
     "output_type": "display_data"
    }
   ],
   "source": []
  },
  {
   "cell_type": "code",
   "execution_count": 33,
   "metadata": {},
   "outputs": [
    {
     "data": {
      "image/png": "[encoded data removed]",
      "text/plain": [
       "<matplotlib.figure.Figure at 0x116140160>"
      ]
     },
     "metadata": {},
     "output_type": "display_data"
    }
   ],
   "source": []
  },
  {
   "cell_type": "markdown",
   "metadata": {},
   "source": [
    "# Fitting with `curve_fit`\n",
    "\n",
    "In the following section you will practice plotting and fitting your data. First we will do this with the `ExampleData`. Later you will use Column 5, your X-Data, and Column 6, your Y-Data, of your provided data for fitting practice."
   ]
  },
  {
   "cell_type": "code",
   "execution_count": 34,
   "metadata": {},
   "outputs": [
    {
     "data": {
      "text/plain": [
       "array([1, 2, 3, 4])"
      ]
     },
     "execution_count": 34,
     "metadata": {},
     "output_type": "execute_result"
    }
   ],
   "source": []
  },
  {
   "cell_type": "markdown",
   "metadata": {},
   "source": [
    "Remember the two stars, `**`, indicate a power, for example, x^2 is `x**2` in python. This opperation will square each element of the array."
   ]
  },
  {
   "cell_type": "code",
   "execution_count": 35,
   "metadata": {},
   "outputs": [
    {
     "data": {
      "text/plain": [
       "array([  1,  25,  81, 169])"
      ]
     },
     "execution_count": 35,
     "metadata": {},
     "output_type": "execute_result"
    }
   ],
   "source": []
  },
  {
   "cell_type": "markdown",
   "metadata": {},
   "source": [
    "Now, plot your data:"
   ]
  },
  {
   "cell_type": "code",
   "execution_count": 36,
   "metadata": {
    "scrolled": true
   },
   "outputs": [
    {
     "data": {
      "image/png": "[encoded data removed]",
      "text/plain": [
       "<matplotlib.figure.Figure at 0x118d54e10>"
      ]
     },
     "metadata": {},
     "output_type": "display_data"
    }
   ],
   "source": []
  },
  {
   "cell_type": "markdown",
   "metadata": {},
   "source": [
    "Now we will fit the data to by defining a function that the data will fit to.\n",
    "In the above case, we will define a function with variables `a` and `b`, of the form Y=X^a+b that we will use to fit our data. \n",
    "> Note that syntax matters here. The colon is required, as well as the indent for `return`. Any deviations from the accepted syntax will give errors.\n",
    "> the function should take all necessary parameters, however you can also choose to pass default values. For example, `a=1` and `b=1` when you create the function.\n"
   ]
  },
  {
   "cell_type": "code",
   "execution_count": 37,
   "metadata": {},
   "outputs": [],
   "source": []
  },
  {
   "cell_type": "markdown",
   "metadata": {},
   "source": [
    "The line below will use the above function called ffit to fit our example data. It returns a [tuple](http://thomas-cokelaer.info/tutorials/python/tuples.html) of arrays, where the first array, `ExampleFittedVariables`, contains the fitted variables a and b. \n",
    "> Challenge question: what is contained in the array, `ExampleOtherInformation`? Hint: you will need to read the scipy [documentation](https://docs.scipy.org/doc/scipy/reference/generated/scipy.optimize.curve_fit.html) for the `curve_fit` function. \n"
   ]
  },
  {
   "cell_type": "code",
   "execution_count": 38,
   "metadata": {},
   "outputs": [],
   "source": []
  },
  {
   "cell_type": "markdown",
   "metadata": {},
   "source": [
    "Now that we have the best fit parameters a and b for the equation Y = X^a+b we can create\n",
    "the best fit line.\n",
    "\n",
    "First we need to define the range for x. In this case we us `np.linespace()` to get 50 evenly spaced X-Values from 1.0 to 4.0\n",
    "> numpy uses the convention (start, stop, step)"
   ]
  },
  {
   "cell_type": "code",
   "execution_count": 39,
   "metadata": {
    "scrolled": true
   },
   "outputs": [
    {
     "data": {
      "text/plain": [
       "array([ 1.        ,  1.06122449,  1.12244898,  1.18367347,  1.24489796,\n",
       "        1.30612245,  1.36734694,  1.42857143,  1.48979592,  1.55102041,\n",
       "        1.6122449 ,  1.67346939,  1.73469388,  1.79591837,  1.85714286,\n",
       "        1.91836735,  1.97959184,  2.04081633,  2.10204082,  2.16326531,\n",
       "        2.2244898 ,  2.28571429,  2.34693878,  2.40816327,  2.46938776,\n",
       "        2.53061224,  2.59183673,  2.65306122,  2.71428571,  2.7755102 ,\n",
       "        2.83673469,  2.89795918,  2.95918367,  3.02040816,  3.08163265,\n",
       "        3.14285714,  3.20408163,  3.26530612,  3.32653061,  3.3877551 ,\n",
       "        3.44897959,  3.51020408,  3.57142857,  3.63265306,  3.69387755,\n",
       "        3.75510204,  3.81632653,  3.87755102,  3.93877551,  4.        ])"
      ]
     },
     "execution_count": 39,
     "metadata": {},
     "output_type": "execute_result"
    }
   ],
   "source": []
  },
  {
   "cell_type": "markdown",
   "metadata": {},
   "source": [
    "Now generate the y-values for your fit by passing the `ExampleXFit` array into our ffit function.\n",
    "\n"
   ]
  },
  {
   "cell_type": "code",
   "execution_count": 40,
   "metadata": {
    "scrolled": true
   },
   "outputs": [
    {
     "data": {
      "text/plain": [
       "array([  12.05803497,   12.30163983,   12.58578627,   12.91445095,\n",
       "         13.29175834,   13.72197818,   14.20952304,   14.75894608,\n",
       "         15.37493891,   16.06232963,   16.8260809 ,   17.6712882 ,\n",
       "         18.60317811,   19.62710671,   20.74855803,   21.97314263,\n",
       "         23.30659614,   24.754778  ,   26.32367009,   28.01937559,\n",
       "         29.84811772,   31.81623867,   33.93019844,   36.19657385,\n",
       "         38.62205746,   41.21345664,   43.97769259,   46.92179942,\n",
       "         50.05292328,   53.37832146,   56.90536159,   60.64152082,\n",
       "         64.59438501,   68.77164798,   73.18111078,   77.83068094,\n",
       "         82.72837175,   87.88230163,   93.30069341,   98.99187371,\n",
       "        104.96427225,  111.22642131,  117.78695506,  124.65460898,\n",
       "        131.83821931,  139.34672244,  147.18915439,  155.37465027,\n",
       "        163.91244374,  172.81186647])"
      ]
     },
     "execution_count": 40,
     "metadata": {},
     "output_type": "execute_result"
    }
   ],
   "source": []
  },
  {
   "cell_type": "markdown",
   "metadata": {},
   "source": [
    "The `*` symbol is a special syntax of the function ffit and is required to elements in the array.\n",
    "\n",
    "Now, plot your data and print the values for `a` and `b`."
   ]
  },
  {
   "cell_type": "code",
   "execution_count": 41,
   "metadata": {},
   "outputs": [
    {
     "name": "stdout",
     "output_type": "stream",
     "text": [
      "Variable a = 3.6688280379282863\n",
      "Variable b = 11.05803496825811\n"
     ]
    },
    {
     "data": {
      "image/png": "[encoded data removed]",
      "text/plain": [
       "<matplotlib.figure.Figure at 0x116028748>"
      ]
     },
     "metadata": {},
     "output_type": "display_data"
    }
   ],
   "source": []
  },
  {
   "cell_type": "markdown",
   "metadata": {},
   "source": [
    "## In the area below, plot and fit the data provided in column 5 (XData) and column 6 (YData)\n",
    "\n",
    "Here quickly plot your data to see what it looks like. What does your data look like? This is very important! "
   ]
  },
  {
   "cell_type": "code",
   "execution_count": 42,
   "metadata": {
    "scrolled": false
   },
   "outputs": [
    {
     "data": {
      "image/png": "[encoded data removed]",
      "text/plain": [
       "<matplotlib.figure.Figure at 0x1161e74e0>"
      ]
     },
     "metadata": {},
     "output_type": "display_data"
    }
   ],
   "source": []
  },
  {
   "cell_type": "markdown",
   "metadata": {},
   "source": [
    "What type of function do you need to fit this data?\n",
    "\n",
    "Here you define a function that will be used to fit your data. \n",
    "> Hint: you are fitting an exponential DECAY! "
   ]
  },
  {
   "cell_type": "code",
   "execution_count": 43,
   "metadata": {},
   "outputs": [],
   "source": []
  },
  {
   "cell_type": "markdown",
   "metadata": {},
   "source": [
    "It's always a good idea to test your function. Does your function return the output you expect? It better!"
   ]
  },
  {
   "cell_type": "code",
   "execution_count": 44,
   "metadata": {},
   "outputs": [
    {
     "data": {
      "text/plain": [
       "2.0"
      ]
     },
     "execution_count": 44,
     "metadata": {},
     "output_type": "execute_result"
    }
   ],
   "source": []
  },
  {
   "cell_type": "markdown",
   "metadata": {},
   "source": [
    "Fit the data and print the values for `a`, `b`, and `c`.\n",
    "\n",
    "Check the contents of `curve_fit` by printing the output if you forget that it is a tuple of two arrays. \n",
    "\n",
    "Print `ExampleFittedVariables` and `ExampleOtherInformation` to see the contents of each array.\n",
    " "
   ]
  },
  {
   "cell_type": "code",
   "execution_count": 45,
   "metadata": {
    "scrolled": true
   },
   "outputs": [
    {
     "name": "stdout",
     "output_type": "stream",
     "text": [
      "Fitted variables a = 3.0032972278233325 \n",
      "\t\t b = 0.09993498517292466 \n",
      "\t\t c = -0.0004977137634771056\n"
     ]
    },
    {
     "name": "stderr",
     "output_type": "stream",
     "text": [
      "/Users/maya/anaconda3/envs/py36/lib/python3.6/site-packages/ipykernel/__main__.py:2: RuntimeWarning: overflow encountered in exp\n",
      "  from ipykernel import kernelapp as app\n",
      "/Users/maya/anaconda3/envs/py36/lib/python3.6/site-packages/ipykernel/__main__.py:2: RuntimeWarning: overflow encountered in multiply\n",
      "  from ipykernel import kernelapp as app\n"
     ]
    }
   ],
   "source": [
    "\n"
   ]
  },
  {
   "cell_type": "markdown",
   "metadata": {},
   "source": [
    "What do the values in this array represent?"
   ]
  },
  {
   "cell_type": "code",
   "execution_count": 46,
   "metadata": {
    "scrolled": true
   },
   "outputs": [
    {
     "data": {
      "text/plain": [
       "array([[  5.77248548e-05,   1.98436786e-06,   7.14652235e-07],\n",
       "       [  1.98436786e-06,   1.39623732e-07,   2.40341570e-07],\n",
       "       [  7.14652235e-07,   2.40341570e-07,   1.63651290e-06]])"
      ]
     },
     "execution_count": 46,
     "metadata": {},
     "output_type": "execute_result"
    }
   ],
   "source": []
  },
  {
   "cell_type": "markdown",
   "metadata": {},
   "source": [
    "Again, define your range for the x axis. \n",
    "> Hint: what is the range of your experimental data?"
   ]
  },
  {
   "cell_type": "code",
   "execution_count": 47,
   "metadata": {},
   "outputs": [
    {
     "data": {
      "text/plain": [
       "(200,)"
      ]
     },
     "execution_count": 47,
     "metadata": {},
     "output_type": "execute_result"
    }
   ],
   "source": []
  },
  {
   "cell_type": "markdown",
   "metadata": {},
   "source": [
    "Calculate the fit for each element in the array `ExampleXFit` and pass \n",
    "`*ExampleFittedVariables` containing the parameters a, b, and c.\n",
    "\n",
    "> Note: the `*` unwraps the elements of the object. \n",
    "  Without it you would need to specify the element by slicing. \n",
    "\n"
   ]
  },
  {
   "cell_type": "code",
   "execution_count": 48,
   "metadata": {},
   "outputs": [
    {
     "data": {
      "text/plain": [
       "(200,)"
      ]
     },
     "execution_count": 48,
     "metadata": {},
     "output_type": "execute_result"
    }
   ],
   "source": []
  },
  {
   "cell_type": "code",
   "execution_count": 49,
   "metadata": {
    "scrolled": true
   },
   "outputs": [
    {
     "name": "stdout",
     "output_type": "stream",
     "text": [
      "Fitted variables a = 3.0032972278233325 \n",
      "\t\t b = 0.09993498517292466 \n",
      "\t\t c = -0.0004977137634771056\n"
     ]
    },
    {
     "data": {
      "image/png": "[encoded data removed]",
      "text/plain": [
       "<matplotlib.figure.Figure at 0x118d7ab00>"
      ]
     },
     "metadata": {},
     "output_type": "display_data"
    }
   ],
   "source": []
  },
  {
   "cell_type": "markdown",
   "metadata": {},
   "source": [
    "Finally, prove to yourself that this is an exponential function by plotting it on a [semilog](https://en.wikipedia.org/wiki/Semi-log_plot) scale.\n",
    ">If this is truly a exponential function, then the log of the YData should be linear.\n",
    "\n",
    "Plot the log of column 6 with respect to column 5."
   ]
  },
  {
   "cell_type": "code",
   "execution_count": 50,
   "metadata": {},
   "outputs": [
    {
     "name": "stderr",
     "output_type": "stream",
     "text": [
      "/Users/maya/anaconda3/envs/py36/lib/python3.6/site-packages/ipykernel/__main__.py:1: RuntimeWarning: invalid value encountered in log\n",
      "  if __name__ == '__main__':\n"
     ]
    },
    {
     "data": {
      "image/png": "[encoded data removed]",
      "text/plain": [
       "<matplotlib.figure.Figure at 0x118881b00>"
      ]
     },
     "metadata": {},
     "output_type": "display_data"
    }
   ],
   "source": []
  },
  {
   "cell_type": "markdown",
   "metadata": {},
   "source": [
    "You may have noticed that when you plot the log of Column 6 with respect to Column 5, you will notice a Linear Regime before X-Axis = 40 and a Flat Regime after X-Axis = 40. What is going on? Is it truly an exponential? Why does the graph deviate from linear after X-Axis = 40? (Remember, there is extra noise added in).\n",
    "\n",
    "\n",
    "\n"
   ]
  },
  {
   "cell_type": "markdown",
   "metadata": {},
   "source": [
    "# Fitting using `lmfit`\n",
    "\n",
    "See the `lmfit` [documentation](http://cars9.uchicago.edu/software/python/lmfit/model.html) for help using this package."
   ]
  },
  {
   "cell_type": "code",
   "execution_count": 51,
   "metadata": {
    "scrolled": true
   },
   "outputs": [],
   "source": []
  },
  {
   "cell_type": "markdown",
   "metadata": {},
   "source": [
    "## Define the model\n",
    "LMFit documentation, [Modeling Data and Curve Fitting](http://cars9.uchicago.edu/software/python/lmfit/model.html)"
   ]
  },
  {
   "cell_type": "code",
   "execution_count": 52,
   "metadata": {},
   "outputs": [],
   "source": []
  },
  {
   "cell_type": "markdown",
   "metadata": {},
   "source": [
    "As a check, we print the resulting parameters:"
   ]
  },
  {
   "cell_type": "code",
   "execution_count": 53,
   "metadata": {},
   "outputs": [
    {
     "name": "stdout",
     "output_type": "stream",
     "text": [
      "Name     Value      Min      Max   Stderr     Vary     Expr Brute_Step\n",
      "a         1     -inf      inf     None     True     None     None\n",
      "b         1     -inf      inf     None     True     None     None\n",
      "c         1     -inf      inf     None     True     None     None\n"
     ]
    }
   ],
   "source": []
  },
  {
   "cell_type": "markdown",
   "metadata": {},
   "source": [
    "**Note:**\n",
    "\n",
    "- `Model` uses default values as initial values for fitting"
   ]
  },
  {
   "cell_type": "markdown",
   "metadata": {},
   "source": [
    "Model parameters can have constrains (i.e. boundaries: `min` and/or `max`):"
   ]
  },
  {
   "cell_type": "raw",
   "metadata": {},
   "source": []
  },
  {
   "cell_type": "markdown",
   "metadata": {},
   "source": [
    "## Fitting model to data\n",
    "\n",
    "We can use the `exponential_fit` function to model the data:"
   ]
  },
  {
   "cell_type": "code",
   "execution_count": 54,
   "metadata": {},
   "outputs": [],
   "source": []
  },
  {
   "cell_type": "markdown",
   "metadata": {},
   "source": [
    "> **NOTE** You can optionally pass initial values for the fitted parameters \n",
    "> (e.g. `model.fit(y, x=x, mean=2)`). When no inital values are speciefied\n",
    "> they are taken from the defaults values in the function definition (e.g. `exponential_fit`)."
   ]
  },
  {
   "cell_type": "code",
   "execution_count": 55,
   "metadata": {},
   "outputs": [
    {
     "name": "stdout",
     "output_type": "stream",
     "text": [
      "[[Fit Statistics]]\n",
      "    # function evals   = 32\n",
      "    # data points      = 200\n",
      "    # variables        = 3\n",
      "    chi-square         = 0.000\n",
      "    reduced chi-square = 0.000\n",
      "    Akaike info crit   = -13288.848\n",
      "    Bayesian info crit = -13278.953\n",
      "[[Variables]]\n",
      "    c:  -0.00049771 +/- 3.39e-16 (0.00%) (init= 1)\n",
      "    b:   0.09993498 +/- 9.69e-17 (0.00%) (init= 1)\n",
      "    a:   3.00329722 +/- 1.92e-15 (0.00%) (init= 1)\n",
      "[[Correlations]] (unreported correlations are <  0.100)\n",
      "    C(b, a)                      =  0.681 \n",
      "    C(c, b)                      =  0.501 \n"
     ]
    }
   ],
   "source": []
  },
  {
   "cell_type": "markdown",
   "metadata": {},
   "source": [
    "The reduced $\\chi^2$ can be found with:"
   ]
  },
  {
   "cell_type": "code",
   "execution_count": 57,
   "metadata": {},
   "outputs": [
    {
     "data": {
      "text/plain": [
       "1.3714105746459072e-29"
      ]
     },
     "execution_count": 57,
     "metadata": {},
     "output_type": "execute_result"
    }
   ],
   "source": []
  },
  {
   "cell_type": "code",
   "execution_count": 58,
   "metadata": {},
   "outputs": [
    {
     "data": {
      "image/png": "[encoded data removed]",
      "text/plain": [
       "<matplotlib.figure.Figure at 0x11b845e48>"
      ]
     },
     "metadata": {},
     "output_type": "display_data"
    }
   ],
   "source": []
  },
  {
   "cell_type": "code",
   "execution_count": null,
   "metadata": {},
   "outputs": [],
   "source": []
  }
 ],
 "metadata": {
  "anaconda-cloud": {},
  "kernelspec": {
   "display_name": "Python 3",
   "language": "python",
   "name": "python3"
  },
  "language_info": {
   "codemirror_mode": {
    "name": "ipython",
    "version": 3
   },
   "file_extension": ".py",
   "mimetype": "text/x-python",
   "name": "python",
   "nbconvert_exporter": "python",
   "pygments_lexer": "ipython3",
   "version": "3.6.4"
  },
  "toc": {
   "colors": {
    "hover_highlight": "#DAA520",
    "running_highlight": "#FF0000",
    "selected_highlight": "#FFD700"
   },
   "moveMenuLeft": true,
   "nav_menu": {
    "height": "343px",
    "width": "252px"
   },
   "navigate_menu": true,
   "number_sections": true,
   "sideBar": true,
   "threshold": 4,
   "toc_cell": false,
   "toc_section_display": "block",
   "toc_window_display": true
  }
 },
 "nbformat": 4,
 "nbformat_minor": 2
}
