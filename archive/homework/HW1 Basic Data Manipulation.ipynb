{
 "cells": [
  {
   "cell_type": "markdown",
   "metadata": {},
   "source": [
    "# HW1: Data Manipulation\n",
    "**This HW is designed to have you practice the basics of Python data manipulation. We will try to walk you through most of the assignment, but you will have to enter and execute your own code.**\n",
    "\n",
    "**By the end of this assignment you should be able to manipulate and probe datasets that you upload into Python**"
   ]
  },
  {
   "cell_type": "markdown",
   "metadata": {},
   "source": [
    "In this markdown cell, provide your name and UCLA ID\n",
    "\n",
    "Name:\n",
    "\n",
    "UCLA ID:"
   ]
  },
  {
   "cell_type": "code",
   "execution_count": 1,
   "metadata": {
    "collapsed": true
   },
   "outputs": [],
   "source": [
    "#Here would be a good place to initialize your code. AKA Insert \"boilerplate\" here!\n",
    "#\n",
    "#Boilerplate: In computer programming, boilerplate code or boilerplate is the sections of code\n",
    "#that have to be included in many places with little or no alteration.\n",
    "#It is often used when referring to languages that are considered verbose,\n",
    "#i.e. the programmer must write a lot of code to do minimal jobs.\n",
    "#\n",
    "#In this case, our boilerplate is the libraries that we import.\n",
    "#\n",
    "#If you are confused as to what to put in this section, look at other example code we provided.\n",
    "#Remember, SHIFT+ENTER to execute the code in a cell!\n",
    "\n",
    "\n"
   ]
  },
  {
   "cell_type": "markdown",
   "metadata": {},
   "source": [
    "**Now we will practice loading data. Use the loadtxt function to load the provided data: \"ProvidedData.csv\"**"
   ]
  },
  {
   "cell_type": "code",
   "execution_count": 3,
   "metadata": {
    "collapsed": true
   },
   "outputs": [],
   "source": [
    "#If you can't remember how this is done, refer to the example done in class\n",
    "#Remember to give loaded data a name i.e. ProvidedData\n",
    "#It may also be good to check out what the data looks like ahead of time so that you know how many columns\n",
    "#and how large the dataset is. Verify (by opening the file) that you have 6 columns and MANY MANY rows of data\n",
    "#(10000 to be exact).\n",
    "\n",
    "\n",
    "\n"
   ]
  },
  {
   "cell_type": "markdown",
   "metadata": {},
   "source": [
    "**Now that you have loaded the data, it is easier to manipulate the data if you reassign the data into X-Variables, Y-Variables, Z-Varibles, etc...**\n",
    "\n",
    "**An example is provided below, but in a blank cell try to manipulate your loaded data**"
   ]
  },
  {
   "cell_type": "code",
   "execution_count": 5,
   "metadata": {},
   "outputs": [
    {
     "name": "stdout",
     "output_type": "stream",
     "text": [
      "Column A\n",
      "[ 1  5  9 13]\n",
      "\n",
      "Row AA\n",
      "[1 2 3 4]\n",
      "\n",
      "Column C\n",
      "[ 3  7 11 15]\n",
      "\n",
      "Row DD\n",
      "[13 14 15 16]\n"
     ]
    }
   ],
   "source": [
    "#Don't forget to run this example code! (SHIFT + ENTER)\n",
    "\n",
    "#Creating a 4x4 Matrix of data as an example\n",
    "#The matrix ExampleData (below) will look like:\n",
    "#                     A   B   C   D\n",
    "#               AA    1,  2,  3,  4\n",
    "#               BB    5,  6,  7,  8\n",
    "#               CC    9, 10, 11, 12\n",
    "#               DD   13, 14, 15, 16\n",
    "#\n",
    "# Where A,  B,  C,  D are the Columns\n",
    "# and  AA, BB, CC, DD are the Rows\n",
    "\n",
    "ExampleData = array([[1,2,3,4],[5,6,7,8],[9,10,11,12],[13,14,15,16]])\n",
    "\n",
    "#Remember, python starts counting from 0!\n",
    "#In the square brackets we designate [rows,cols] and the symbol \":\" means \"all\"\n",
    "ExampleColumnA = ExampleData[:,0]\n",
    "ExampleRowAA   = ExampleData[0,:]\n",
    "ExampleColumnC = ExampleData[:,2]\n",
    "ExampleRowDD   = ExampleData[3,:]\n",
    "\n",
    "print('Column A')\n",
    "print(ExampleColumnA)\n",
    "print('')\n",
    "print('Row AA')\n",
    "print(ExampleRowAA)\n",
    "print('')\n",
    "print('Column C')\n",
    "print(ExampleColumnC)\n",
    "print('')\n",
    "print('Row DD')\n",
    "print(ExampleRowDD)\n"
   ]
  },
  {
   "cell_type": "markdown",
   "metadata": {},
   "source": [
    "**Now try it yourself!**"
   ]
  },
  {
   "cell_type": "code",
   "execution_count": 6,
   "metadata": {
    "collapsed": true
   },
   "outputs": [],
   "source": [
    "#From your loaded data, split up the six columns into their own arrays (like the example above)\n",
    "#Be sure to use different array names than the example and your other arrays\n",
    "#or else there might be a conflict in the code.\n",
    "#Do not worry about being creative, descriptive is better than creative so that you will remember what they say\n",
    "#Here are some example array names:\n",
    "#                                  RandomDistribution1, RandomDistribution2,\n",
    "#                                  RandomDistribution3, RandomDistribution4,\n",
    "#                                  ProvidedXData, ProvidedYData\n",
    "\n",
    "\n",
    "\n",
    "\n"
   ]
  },
  {
   "cell_type": "markdown",
   "metadata": {},
   "source": [
    "**Now that the data is in a format that is easily manipulated, let's find out a few things: min, max, and Standard Deviation.**\n",
    "\n",
    "**An example is shown below using the ExampleData**"
   ]
  },
  {
   "cell_type": "code",
   "execution_count": 7,
   "metadata": {},
   "outputs": [
    {
     "name": "stdout",
     "output_type": "stream",
     "text": [
      "Column Values\n",
      "[ 1  5  9 13]\n",
      "\n",
      "Mean\n",
      "7.0\n",
      "\n",
      "Min\n",
      "1\n",
      "\n",
      "Max\n",
      "13\n",
      "\n",
      "STD\n",
      "4.472135955\n"
     ]
    }
   ],
   "source": [
    "#Example of Mean\n",
    "ExampleMean = ExampleColumnA.mean()\n",
    "#Example of Min\n",
    "ExampleMinimum = ExampleColumnA.min()\n",
    "#Example Max\n",
    "ExampleMaximum = ExampleColumnA.max()\n",
    "#Example Standard Deviation\n",
    "ExampleSTD = ExampleColumnA.std()\n",
    "\n",
    "#If you noticed, the .mean, .min, .max, and .std are the functions that\n",
    "#are probing the data (in this case ExampleColumnA)\n",
    "\n",
    "print('Column Values')\n",
    "print(ExampleColumnA)\n",
    "print('')\n",
    "print('Mean')\n",
    "print(ExampleMean)\n",
    "print('')\n",
    "print('Min')\n",
    "print(ExampleMinimum)\n",
    "print('')\n",
    "print('Max')\n",
    "print(ExampleMaximum)\n",
    "print('')\n",
    "print('STD')\n",
    "print(ExampleSTD)"
   ]
  },
  {
   "cell_type": "code",
   "execution_count": 8,
   "metadata": {},
   "outputs": [],
   "source": [
    "#Now try it yourself on the provided data! Find out a little information about the kind of data that was given to you\n",
    "#print the Mean, Min, Max, STD, of each column of the provided data\n",
    "\n",
    "\n",
    "\n",
    "\n"
   ]
  },
  {
   "cell_type": "markdown",
   "metadata": {},
   "source": [
    "**Let us now try to probe a little more information about the provided data in the form of a histogram. An example of how to do a histogram is shown below.**"
   ]
  },
  {
   "cell_type": "code",
   "execution_count": 17,
   "metadata": {},
   "outputs": [
    {
     "data": {
      "text/plain": [
       "<matplotlib.text.Text at 0x10ac9eac8>"
      ]
     },
     "execution_count": 17,
     "metadata": {},
     "output_type": "execute_result"
    },
    {
     "data": {
      "image/png": "[encoded data removed]",
      "text/plain": [
       "<matplotlib.figure.Figure at 0x10aac59e8>"
      ]
     },
     "metadata": {},
     "output_type": "display_data"
    }
   ],
   "source": [
    "#Generate random data:\n",
    "ExampleHistogramData = randn(10000);\n",
    "hist(ExampleHistogramData);\n",
    "title('Example Histogram')\n",
    "xlabel('Bin Center')\n",
    "ylabel('Counts')"
   ]
  },
  {
   "cell_type": "markdown",
   "metadata": {},
   "source": [
    "## For each of the first four columns, create a histogram of the provided data. Try to figure out what kind of random distribution is in each column\n",
    "## What kind of random distribution is the array and what is the distribution center and width?\n",
    "### Refer to page 32 in your text if you need help identifying the distributions"
   ]
  },
  {
   "cell_type": "code",
   "execution_count": null,
   "metadata": {
    "collapsed": true
   },
   "outputs": [],
   "source": [
    "#Histogram your data in column 1\n",
    "#What kind of random distribution is in column 1\n",
    "\n",
    "\n"
   ]
  },
  {
   "cell_type": "code",
   "execution_count": null,
   "metadata": {
    "collapsed": true
   },
   "outputs": [],
   "source": [
    "#Histogram your data in column 2\n",
    "#What kind of random distribution is in column 2\n",
    "\n",
    "\n"
   ]
  },
  {
   "cell_type": "code",
   "execution_count": null,
   "metadata": {
    "collapsed": true
   },
   "outputs": [],
   "source": [
    "#Histogram your data in column 3\n",
    "#What kind of random distribution is in column 3\n",
    "\n",
    "\n"
   ]
  },
  {
   "cell_type": "code",
   "execution_count": null,
   "metadata": {
    "collapsed": true
   },
   "outputs": [],
   "source": [
    "#Histogram your data in column 4\n",
    "#What kind of random distribution is in column 4\n",
    "\n",
    "\n"
   ]
  },
  {
   "cell_type": "markdown",
   "metadata": {},
   "source": [
    "**Finally, it is important to practice learning how to plot & fit your data. In the section below we will practice this!**\n",
    "\n",
    "**Below is an example and then you will try yourself!**"
   ]
  },
  {
   "cell_type": "code",
   "execution_count": 18,
   "metadata": {},
   "outputs": [
    {
     "data": {
      "text/plain": [
       "<matplotlib.text.Text at 0x10b0dfc18>"
      ]
     },
     "execution_count": 18,
     "metadata": {},
     "output_type": "execute_result"
    },
    {
     "data": {
      "image/png": "[encoded data removed]",
      "text/plain": [
       "<matplotlib.figure.Figure at 0x10b029a90>"
      ]
     },
     "metadata": {},
     "output_type": "display_data"
    }
   ],
   "source": [
    "#The Example will continue to use the ExampleData, but you will use Column 5 (X-Data) and Column 6 (Y-Data)\n",
    "#of your provided data.\n",
    "ExampleXData = ExampleRowAA\n",
    "ExampleYData = ExampleColumnA**2 #This is equivalent as X^2.\n",
    "plot(ExampleXData, ExampleYData)\n",
    "xlabel('Number of Icecream Scoops') #This is how you label your graphs axes\n",
    "ylabel('Unit of Happiness')\n",
    "title('Icecream and Happiness')"
   ]
  },
  {
   "cell_type": "code",
   "execution_count": 20,
   "metadata": {},
   "outputs": [
    {
     "name": "stdout",
     "output_type": "stream",
     "text": [
      "Variable a\n",
      "3.66882803793\n",
      "\n",
      "Variable b\n",
      "11.0580349683\n"
     ]
    },
    {
     "data": {
      "image/png": "[encoded data removed]",
      "text/plain": [
       "<matplotlib.figure.Figure at 0x10ae71898>"
      ]
     },
     "metadata": {},
     "output_type": "display_data"
    }
   ],
   "source": [
    "#Now we will fit the data to figure out what kind of function we have\n",
    "#I will be using the function curve_fit as it is easier to implement at first,\n",
    "#but feel free to use lmfit if you feel comfortable enough to use it as it\n",
    "#is more powerful and will be useful later.\n",
    "\n",
    "#Define our function that we think the data will fit to.\n",
    "def MyFunctionFit(x,a,b): #This will try to find a variable \"a\" that will fit the data best of Y = X^a+b\n",
    "    return x**a + b\n",
    "\n",
    "#This will define a function, with variables \"a\" and \"b\", of the form Y=X^a+b\n",
    "#that we will use to fit our data in the next lines.\n",
    "\n",
    "#The line below will use the above function called ffit to fit our example XY data and output our \n",
    "#fitted variables in an array called ExampleFittedVariables\n",
    "ExampleFittedVariables, ExampleOtherInformation = curve_fit(MyFunctionFit,ExampleXData,ExampleYData)\n",
    "\n",
    "#Now that we have the best fit parameters a and b for the equation Y = X^a+b we need to create\n",
    "#the best fit line from this .\n",
    "#So we provide artificial data to plug in. In this case 50 evenly spaced X-Values from 1.0 to 4.0\n",
    "ExampleXFit = linspace(1.0,4.0,50)\n",
    "\n",
    "#Now plug our X Values into our ffit function to get out Y values\n",
    "ExampleYFit = MyFunctionFit(ExampleXFit,*ExampleFittedVariables)\n",
    "#The \"*\" symbol is for syntax of the function ffit and is required.\n",
    "\n",
    "plot(ExampleXData,ExampleYData,label='Original Data') #the label is for the legend\n",
    "plot(ExampleXFit,ExampleYFit,label='Fitted Data')\n",
    "legend() #this actually prints the legend on the graph\n",
    "xlabel('Number of Icecream Scoops')\n",
    "ylabel('Units of Happiness')\n",
    "title('Happiness and Icecream')\n",
    "\n",
    "print('Variable a')\n",
    "print(ExampleFittedVariables[0])\n",
    "print('')\n",
    "print('Variable b')\n",
    "print(ExampleFittedVariables[1])\n",
    "\n",
    "#Clearly this is not a good fit, but it is to give you an idea as to how to look at and fit your data\n"
   ]
  },
  {
   "cell_type": "markdown",
   "metadata": {},
   "source": [
    "####In the area below, plot and fit the data provided in Column 5 (XData) and 6 (YData)"
   ]
  },
  {
   "cell_type": "code",
   "execution_count": null,
   "metadata": {
    "collapsed": true
   },
   "outputs": [],
   "source": [
    "#Here just plot your data to see what it looks like\n",
    "\n",
    "\n"
   ]
  },
  {
   "cell_type": "code",
   "execution_count": 21,
   "metadata": {
    "collapsed": true
   },
   "outputs": [],
   "source": [
    "#Here you can fit your data. I will give you a hint: it is an exponential of the form a*exp(-b*x)+c\n",
    "#with a little noise thrown in. Fit the data and print the values for a, b, and c\n",
    "#It may be important to put -b in your fitting function rather than b\n",
    "#while the function is capable of finding a negative value for b, it may fit incorrectly\n",
    "#as it checks the positive values of b first before the negative values.\n",
    "\n",
    "\n",
    "\n"
   ]
  },
  {
   "cell_type": "code",
   "execution_count": null,
   "metadata": {
    "collapsed": true
   },
   "outputs": [],
   "source": [
    "#Finally, prove to yourself that this is indeed an exponential function.\n",
    "#If this is truly a exponential function, then the log of the YData should be linear.\n",
    "#Plot the log Column 6 with respect to Column 5 or plot in a semilog-y fasion (whatever is most comfortable).\n",
    "\n",
    "\n",
    "\n",
    "\n"
   ]
  },
  {
   "cell_type": "code",
   "execution_count": null,
   "metadata": {
    "collapsed": true
   },
   "outputs": [],
   "source": []
  },
  {
   "cell_type": "markdown",
   "metadata": {},
   "source": [
    "###You may have noticed that when you plot the log of Column 6 with respect to Column 5, you will notice a Linear Regime before X-Axis = 40 and a Flat Regime after X-Axis = 40. What is going on? Is it truly an exponential? Why does the graph deviate from linear after X-Axis = 40? (Remember, there is extra noise added in).\n",
    "\n",
    "\n",
    "\n"
   ]
  },
  {
   "cell_type": "code",
   "execution_count": null,
   "metadata": {
    "collapsed": true
   },
   "outputs": [],
   "source": []
  }
 ],
 "metadata": {
  "anaconda-cloud": {},
  "kernelspec": {
   "display_name": "Python [default]",
   "language": "python",
   "name": "python3"
  },
  "language_info": {
   "codemirror_mode": {
    "name": "ipython",
    "version": 3
   },
   "file_extension": ".py",
   "mimetype": "text/x-python",
   "name": "python",
   "nbconvert_exporter": "python",
   "pygments_lexer": "ipython3",
   "version": "3.5.2"
  },
  "toc": {
   "colors": {
    "hover_highlight": "#DAA520",
    "running_highlight": "#FF0000",
    "selected_highlight": "#FFD700"
   },
   "moveMenuLeft": true,
   "nav_menu": {
    "height": "101px",
    "width": "252px"
   },
   "navigate_menu": true,
   "number_sections": true,
   "sideBar": true,
   "threshold": 4,
   "toc_cell": false,
   "toc_section_display": "block",
   "toc_window_display": false
  }
 },
 "nbformat": 4,
 "nbformat_minor": 1
}
