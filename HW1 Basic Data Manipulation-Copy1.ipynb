{
 "cells": [
  {
   "cell_type": "markdown",
   "metadata": {},
   "source": [
    "#HW1: Data Manipulation\n",
    "####This HW is designed to have you practice the basics of Python data manipulation. We will try to walk you through most of the assignment, but you will have to enter and execute your own code.\n",
    "####By the end of this assignment you should be able to manipulate and probe datasets that you upload into Python"
   ]
  },
  {
   "cell_type": "markdown",
   "metadata": {},
   "source": [
    "In this markdown cell, provide your name and UCLA ID\n",
    "\n",
    "Name:\n",
    "\n",
    "UCLA ID:"
   ]
  },
  {
   "cell_type": "code",
   "execution_count": 1,
   "metadata": {
    "collapsed": true
   },
   "outputs": [],
   "source": [
    "#Here would be a good place to initialize your code. AKA Insert \"boilerplate\" here!\n",
    "#\n",
    "#Boilerplate: In computer programming, boilerplate code or boilerplate is the sections of code\n",
    "#that have to be included in many places with little or no alteration.\n",
    "#It is often used when referring to languages that are considered verbose,\n",
    "#i.e. the programmer must write a lot of code to do minimal jobs.\n",
    "#\n",
    "#In this case, our boilerplate is the libraries that we import.\n",
    "#\n",
    "#If you are confused as to what to put in this section, look at other example code we provided.\n",
    "#Remember, SHIFT+ENTER to execute the code in a cell!\n",
    "\n",
    "\n"
   ]
  },
  {
   "cell_type": "code",
   "execution_count": 2,
   "metadata": {
    "collapsed": true
   },
   "outputs": [],
   "source": [
    "#to be removed\n",
    "%matplotlib inline\n",
    "from pylab import *\n",
    "import numpy as np\n",
    "import matplotlib.pyplot as plt\n",
    "import matplotlib\n",
    "import matplotlib.lines\n",
    "from astropy.table import Table, Column\n",
    "from scipy.optimize import curve_fit\n",
    "from IPython.display import display, Math, Latex\n",
    "import scipy.special\n",
    "from scipy.stats import chisquare\n",
    "from scipy.stats.mstats import chisquare as cstest"
   ]
  },
  {
   "cell_type": "markdown",
   "metadata": {},
   "source": [
    "####Now we will practice loading data. Use the loadtxt function to load the provided data: \"ProvidedData.csv\""
   ]
  },
  {
   "cell_type": "code",
   "execution_count": 3,
   "metadata": {
    "collapsed": true
   },
   "outputs": [],
   "source": [
    "#If you can't remember how this is done, refer to the example done in class\n",
    "#Remember to give loaded data a name i.e. ProvidedData\n",
    "#It may also be good to check out what the data looks like ahead of time so that you know how many columns\n",
    "#and how large the dataset is. Verify (by opening the file) that you have 6 columns and MANY MANY rows of data\n",
    "#(10000 to be exact).\n",
    "\n",
    "ProvidedData = loadtxt('ProvidedData.csv',delimiter=',')\n",
    "\n"
   ]
  },
  {
   "cell_type": "markdown",
   "metadata": {},
   "source": [
    "####Now that you have loaded the data, it is easier to manipulate the data if you reassign the data into X-Variables, Y-Variables, Z-Varibles, etc...\n",
    "####An example is provided below, but in a blank cell try to manipulate your loaded data"
   ]
  },
  {
   "cell_type": "code",
   "execution_count": 5,
   "metadata": {
    "collapsed": false
   },
   "outputs": [
    {
     "name": "stdout",
     "output_type": "stream",
     "text": [
      "Column A\n",
      "[ 1  5  9 13]\n",
      "\n",
      "Row AA\n",
      "[1 2 3 4]\n",
      "\n",
      "Column C\n",
      "[ 3  7 11 15]\n",
      "\n",
      "Row DD\n",
      "[13 14 15 16]\n"
     ]
    }
   ],
   "source": [
    "#Don't forget to run this example code! (SHIFT + ENTER)\n",
    "\n",
    "#Creating a 4x4 Matrix of data as an example\n",
    "#The matrix ExampleData (below) will look like:\n",
    "#                     A   B   C   D\n",
    "#               AA    1,  2,  3,  4\n",
    "#               BB    5,  6,  7,  8\n",
    "#               CC    9, 10, 11, 12\n",
    "#               DD   13, 14, 15, 16\n",
    "#\n",
    "# Where A,  B,  C,  D are the Columns\n",
    "# and  AA, BB, CC, DD are the Rows\n",
    "\n",
    "ExampleData = array([[1,2,3,4],[5,6,7,8],[9,10,11,12],[13,14,15,16]])\n",
    "\n",
    "#Remember, python starts counting from 0!\n",
    "#In the square brackets we designate [rows,cols] and the symbol \":\" means \"all\"\n",
    "ExampleColumnA = ExampleData[:,0]\n",
    "ExampleRowAA   = ExampleData[0,:]\n",
    "ExampleColumnC = ExampleData[:,2]\n",
    "ExampleRowDD   = ExampleData[3,:]\n",
    "\n",
    "print('Column A')\n",
    "print(ExampleColumnA)\n",
    "print('')\n",
    "print('Row AA')\n",
    "print(ExampleRowAA)\n",
    "print('')\n",
    "print('Column C')\n",
    "print(ExampleColumnC)\n",
    "print('')\n",
    "print('Row DD')\n",
    "print(ExampleRowDD)\n"
   ]
  },
  {
   "cell_type": "markdown",
   "metadata": {},
   "source": [
    "####Now try it yourself!"
   ]
  },
  {
   "cell_type": "code",
   "execution_count": 6,
   "metadata": {
    "collapsed": true
   },
   "outputs": [],
   "source": [
    "#From your loaded data, split up the six columns into their own arrays (like the example above)\n",
    "#Be sure to use different array names than the example and your other arrays\n",
    "#or else there might be a conflict in the code.\n",
    "#Do not worry about being creative, descriptive is better than creative so that you will remember what they say\n",
    "#Here are some example array names:\n",
    "#                                  RandomDistribution1, RandomDistribution2,\n",
    "#                                  RandomDistribution3, RandomDistribution4,\n",
    "#                                  ProvidedXData, ProvidedYData\n",
    "\n",
    "RandomDistribution1 = ProvidedData[:,0]\n",
    "RandomDistribution2 = ProvidedData[:,1]\n",
    "RandomDistribution3 = ProvidedData[:,2]\n",
    "RandomDistribution4 = ProvidedData[:,3]\n",
    "ProvidedXData = ProvidedData[:,4]\n",
    "ProvidedYData = ProvidedData[:,5]\n"
   ]
  },
  {
   "cell_type": "markdown",
   "metadata": {},
   "source": [
    "####Now that the data is in a format that is easily manipulated, let's find out a few things: min, max, and Standard Deviation.\n",
    "####An example is shown below using the ExampleData"
   ]
  },
  {
   "cell_type": "code",
   "execution_count": 39,
   "metadata": {
    "collapsed": false
   },
   "outputs": [
    {
     "name": "stdout",
     "output_type": "stream",
     "text": [
      "Column Values\n",
      "[ 1  5  9 13]\n",
      "\n",
      "Mean\n",
      "7.0\n",
      "\n",
      "Min\n",
      "1\n",
      "\n",
      "Max\n",
      "13\n",
      "\n",
      "STD\n",
      "4.472135955\n"
     ]
    }
   ],
   "source": [
    "#Example of Mean\n",
    "ExampleMean = ExampleColumnA.mean() #Explain what .mean and .min etc are\n",
    "#Example of Min\n",
    "ExampleMinimum = ExampleColumnA.min()\n",
    "#Example Max\n",
    "ExampleMaximum = ExampleColumnA.max()\n",
    "#Example Standard Deviation\n",
    "ExampleSTD = ExampleColumnA.std()\n",
    "\n",
    "print('Column Values')\n",
    "print(ExampleColumnA)\n",
    "print('')\n",
    "print('Mean')\n",
    "print(ExampleMean)\n",
    "print('')\n",
    "print('Min')\n",
    "print(ExampleMinimum)\n",
    "print('')\n",
    "print('Max')\n",
    "print(ExampleMaximum)\n",
    "print('')\n",
    "print('STD')\n",
    "print(ExampleSTD)"
   ]
  },
  {
   "cell_type": "code",
   "execution_count": 7,
   "metadata": {
    "collapsed": false
   },
   "outputs": [
    {
     "name": "stdout",
     "output_type": "stream",
     "text": [
      "-5.8388\n",
      "29.857620095\n"
     ]
    }
   ],
   "source": [
    "#Now try it yourself on the provided data! Find out a little information about the kind of data that was given to you\n",
    "#print the Mean, Min, Max, STD, of each column of the provided data\n",
    "\n",
    "\n",
    "RandMean = RandomDistribution1.mean()\n",
    "RandMin = RandomDistribution1.min()\n",
    "\n",
    "print(RandMin)\n",
    "print(RandMean)\n",
    "\n"
   ]
  },
  {
   "cell_type": "markdown",
   "metadata": {},
   "source": [
    "####Let us now try to probe a little more information about the provided data in the form of a histogram. An example of how to do a histogram is shown below."
   ]
  },
  {
   "cell_type": "code",
   "execution_count": 51,
   "metadata": {
    "collapsed": false
   },
   "outputs": [
    {
     "data": {
      "text/plain": [
       "<matplotlib.text.Text at 0x10af26438>"
      ]
     },
     "execution_count": 51,
     "metadata": {},
     "output_type": "execute_result"
    },
    {
     "data": {
      "image/png": "[encoded data removed]",
      "text/plain": [
       "<matplotlib.figure.Figure at 0x10af8bc18>"
      ]
     },
     "metadata": {},
     "output_type": "display_data"
    }
   ],
   "source": [
    "#Generate random data:\n",
    "ExampleHistogramData = np.random.randn(10000);\n",
    "hist(ExampleHistogramData);\n",
    "xlabel('Bin Center')\n",
    "ylabel('Counts')"
   ]
  },
  {
   "cell_type": "markdown",
   "metadata": {},
   "source": [
    "##For each of the first four columns, create a histogram of the provided data. Try to figure out what kind of random distribution is in each column\n",
    "##What kind of random distribution is the array and what is the distribution center and width?\n",
    "###Refer to page 32 in your textbook if you need help identifying the distributions"
   ]
  },
  {
   "cell_type": "code",
   "execution_count": 8,
   "metadata": {
    "collapsed": false
   },
   "outputs": [
    {
     "data": {
      "text/plain": [
       "<matplotlib.text.Text at 0x10aaea9b0>"
      ]
     },
     "execution_count": 8,
     "metadata": {},
     "output_type": "execute_result"
    },
    {
     "data": {
      "image/png": "[encoded data removed]",
      "text/plain": [
       "<matplotlib.figure.Figure at 0x109335198>"
      ]
     },
     "metadata": {},
     "output_type": "display_data"
    }
   ],
   "source": [
    "#Histogram your data in column 1\n",
    "#What kind of random distribution is in column 1\n",
    "\n",
    "hist(RandomDistribution1);\n",
    "xlabel('Bin Center')\n",
    "ylabel('Counts')\n"
   ]
  },
  {
   "cell_type": "code",
   "execution_count": 9,
   "metadata": {
    "collapsed": false
   },
   "outputs": [
    {
     "data": {
      "text/plain": [
       "<matplotlib.text.Text at 0x10a6d75f8>"
      ]
     },
     "execution_count": 9,
     "metadata": {},
     "output_type": "execute_result"
    },
    {
     "data": {
      "image/png": "[encoded data removed]",
      "text/plain": [
       "<matplotlib.figure.Figure at 0x10672e940>"
      ]
     },
     "metadata": {},
     "output_type": "display_data"
    }
   ],
   "source": [
    "#Histogram your data in column 2\n",
    "#What kind of random distribution is in column 2\n",
    "hist(RandomDistribution2);\n",
    "xlabel('Bin Center')\n",
    "ylabel('Counts')\n",
    "\n"
   ]
  },
  {
   "cell_type": "code",
   "execution_count": 10,
   "metadata": {
    "collapsed": false
   },
   "outputs": [
    {
     "data": {
      "text/plain": [
       "<matplotlib.text.Text at 0x10ab0a908>"
      ]
     },
     "execution_count": 10,
     "metadata": {},
     "output_type": "execute_result"
    },
    {
     "data": {
      "image/png": "[encoded data removed]",
      "text/plain": [
       "<matplotlib.figure.Figure at 0x10a6202b0>"
      ]
     },
     "metadata": {},
     "output_type": "display_data"
    }
   ],
   "source": [
    "#Histogram your data in column 3\n",
    "#What kind of random distribution is in column 3\n",
    "hist(RandomDistribution3);\n",
    "xlabel('Bin Center')\n",
    "ylabel('Counts')\n",
    "\n"
   ]
  },
  {
   "cell_type": "code",
   "execution_count": 11,
   "metadata": {
    "collapsed": false
   },
   "outputs": [
    {
     "data": {
      "text/plain": [
       "<matplotlib.text.Text at 0x10aa13940>"
      ]
     },
     "execution_count": 11,
     "metadata": {},
     "output_type": "execute_result"
    },
    {
     "data": {
      "image/png": "[encoded data removed]",
      "text/plain": [
       "<matplotlib.figure.Figure at 0x10672e710>"
      ]
     },
     "metadata": {},
     "output_type": "display_data"
    }
   ],
   "source": [
    "#Histogram your data in column 4\n",
    "#What kind of random distribution is in column 4\n",
    "\n",
    "hist(RandomDistribution4);\n",
    "xlabel('Bin Center')\n",
    "ylabel('Counts')\n"
   ]
  },
  {
   "cell_type": "markdown",
   "metadata": {},
   "source": [
    "####Finally, it is important to practice learning how to plot & fit your data. In the section below we will practice this!\n",
    "####Below is an example and then you will try yourself!"
   ]
  },
  {
   "cell_type": "code",
   "execution_count": 12,
   "metadata": {
    "collapsed": false
   },
   "outputs": [
    {
     "data": {
      "text/plain": [
       "[<matplotlib.lines.Line2D at 0x10aac0e80>]"
      ]
     },
     "execution_count": 12,
     "metadata": {},
     "output_type": "execute_result"
    },
    {
     "data": {
      "image/png": "[encoded data removed]",
      "text/plain": [
       "<matplotlib.figure.Figure at 0x10a697be0>"
      ]
     },
     "metadata": {},
     "output_type": "display_data"
    }
   ],
   "source": [
    "#The Example will continue to use the ExampleData, but you will use Column 5 (X-Data) and Column 6 (Y-Data)\n",
    "#of your provided data.\n",
    "ExampleXData = ExampleRowAA\n",
    "ExampleYData = ExampleColumnA**2 #This is equivalent as X^2.\n",
    "plot(ExampleXData, ExampleYData) #Show how to make labels"
   ]
  },
  {
   "cell_type": "code",
   "execution_count": 77,
   "metadata": {
    "collapsed": false
   },
   "outputs": [
    {
     "name": "stdout",
     "output_type": "stream",
     "text": [
      "Variable a\n",
      "3.66882803793\n",
      "\n",
      "Variable b\n",
      "11.0580349683\n"
     ]
    },
    {
     "data": {
      "image/png": "[encoded data removed]",
      "text/plain": [
       "<matplotlib.figure.Figure at 0x10c0182e8>"
      ]
     },
     "metadata": {},
     "output_type": "display_data"
    }
   ],
   "source": [
    "#Now we will fit the data to figure out what kind of function we have\n",
    "\n",
    "#Define our function that we think the data will fit to.\n",
    "def ffit(x,a,b): #This will try to find a variable \"a\" and \"b\" that will fit the data best of Y = X^a+b\n",
    "    return x**a + b\n",
    "\n",
    "#This will define a function, with variables \"a\" and \"b\", of the form Y=X^a+b\n",
    "#that we will use to fit our data in the next lines.\n",
    "\n",
    "#The line below will use the above function called ffit to fit our example XY data and output our \n",
    "#fitted variables in an array called ExampleFittedVariables\n",
    "ExampleFittedVariables, ExampleOtherInformation = curve_fit(ffit,ExampleXData,ExampleYData)\n",
    "\n",
    "#Now that we have the best fit parameters a and b for the equation Y = X^a+b we need to create\n",
    "#the best fit line from this .\n",
    "#So we provide artificial data to plug in. In this case 50 evenly spaced X-Values from 1.0 to 4.0\n",
    "ExampleXFit = np.linspace(1.0,4.0,50)\n",
    "\n",
    "#Now plug our X Values into our ffit function to get out Y values\n",
    "ExampleYFit = ffit(ExampleXFit,*ExampleFittedVariables)\n",
    "#The \"*\" symbol is for syntax of the function ffit and is required.\n",
    "\n",
    "plot(ExampleXData,ExampleYData,label='Original Data')\n",
    "plot(ExampleXFit,ExampleYFit,label='Fitted Data')\n",
    "legend() #this actually prints the legend on the graph\n",
    "print('Variable a')\n",
    "print(ExampleFittedVariables[0])\n",
    "print('')\n",
    "print('Variable b')\n",
    "print(ExampleFittedVariables[1])\n",
    "\n",
    "#Clearly this is not a good fit, but it is to give you an idea as to how to look at and fit your data\n"
   ]
  },
  {
   "cell_type": "markdown",
   "metadata": {},
   "source": [
    "####In the area below, plot and fit the data provided in Column 5 (XData) and 6 (YData)"
   ]
  },
  {
   "cell_type": "code",
   "execution_count": 13,
   "metadata": {
    "collapsed": false
   },
   "outputs": [
    {
     "data": {
      "text/plain": [
       "[<matplotlib.lines.Line2D at 0x10aae1a20>]"
      ]
     },
     "execution_count": 13,
     "metadata": {},
     "output_type": "execute_result"
    },
    {
     "data": {
      "image/png": "[encoded data removed]",
      "text/plain": [
       "<matplotlib.figure.Figure at 0x10aba07f0>"
      ]
     },
     "metadata": {},
     "output_type": "display_data"
    }
   ],
   "source": [
    "#Here just plot your data to see what it looks like\n",
    "\n",
    "plot(ProvidedXData,ProvidedYData)\n"
   ]
  },
  {
   "cell_type": "code",
   "execution_count": 15,
   "metadata": {
    "collapsed": false
   },
   "outputs": [
    {
     "name": "stdout",
     "output_type": "stream",
     "text": [
      "Variable a\n",
      "3.00329722782\n",
      "\n",
      "Variable b\n",
      "0.0999349851729\n",
      "\n",
      "Variabl c\n",
      "-0.000497713763477\n"
     ]
    },
    {
     "name": "stderr",
     "output_type": "stream",
     "text": [
      "/Users/Robert/anaconda/lib/python3.4/site-packages/IPython/kernel/__main__.py:5: RuntimeWarning: overflow encountered in exp\n",
      "/Users/Robert/anaconda/lib/python3.4/site-packages/IPython/kernel/__main__.py:5: RuntimeWarning: overflow encountered in multiply\n"
     ]
    },
    {
     "data": {
      "image/png": "[encoded data removed]",
      "text/plain": [
       "<matplotlib.figure.Figure at 0x10ac9f748>"
      ]
     },
     "metadata": {},
     "output_type": "display_data"
    }
   ],
   "source": [
    "#Here you can fit your data. I will give you a hint: it is an exponential of the form a*exp(-b*x)+c\n",
    "#with a little noise thrown in. Fit the data and print the values for a, b, and c\n",
    "\n",
    "def ffit(x,a,b,c): #This will try to find a variable \"a\" and \"b\" that will fit the data best of Y = X^a+b\n",
    "    return a*exp(-b*x) + c #comment about exponent sign (tends to go in positive direction first)\n",
    "\n",
    "ExampleFittedVariables, ExampleOtherInformation = curve_fit(ffit,ProvidedXData,ProvidedYData)\n",
    "\n",
    "ExampleXFit = np.linspace(1.0,100.0,200) #Need to explain the ranges for axis\n",
    "\n",
    "ExampleYFit = ffit(ExampleXFit,*ExampleFittedVariables)\n",
    "\n",
    "plot(ProvidedXData,ProvidedYData,label='Original Data')\n",
    "plot(ExampleXFit,ExampleYFit,label='Fitted Data')\n",
    "legend() #this actually prints the legend on the graph\n",
    "print('Variable a')\n",
    "print(ExampleFittedVariables[0])\n",
    "print('')\n",
    "print('Variable b')\n",
    "print(ExampleFittedVariables[1])\n",
    "print('')\n",
    "print('Variabl c')\n",
    "print(ExampleFittedVariables[2])\n",
    "\n"
   ]
  },
  {
   "cell_type": "code",
   "execution_count": 16,
   "metadata": {
    "collapsed": false
   },
   "outputs": [
    {
     "name": "stderr",
     "output_type": "stream",
     "text": [
      "/Users/Robert/anaconda/lib/python3.4/site-packages/IPython/kernel/__main__.py:5: RuntimeWarning: invalid value encountered in log\n"
     ]
    },
    {
     "data": {
      "text/plain": [
       "[<matplotlib.lines.Line2D at 0x10b15a518>]"
      ]
     },
     "execution_count": 16,
     "metadata": {},
     "output_type": "execute_result"
    },
    {
     "data": {
      "image/png": "[encoded data removed]",
      "text/plain": [
       "<matplotlib.figure.Figure at 0x10a94f518>"
      ]
     },
     "metadata": {},
     "output_type": "display_data"
    }
   ],
   "source": [
    "#Finally, prove to yourself that this is indeed an exponential function.\n",
    "#If this is truly a exponential function, then the log of the YData should be linear.\n",
    "#Plot the log Column 6 with respect to Column 5 or plot in a semilog-y fasion (whatever is most comfortable).\n",
    "\n",
    "plot(ProvidedXData,log(ProvidedYData))\n",
    "\n",
    "\n"
   ]
  },
  {
   "cell_type": "code",
   "execution_count": null,
   "metadata": {
    "collapsed": true
   },
   "outputs": [],
   "source": []
  },
  {
   "cell_type": "markdown",
   "metadata": {},
   "source": [
    "###You may have noticed that when you plot the log of Column 6 with respect to Column 5, you will notice a Linear Regime before X-Axis = 40 and a Flat Regime after X-Axis = 40. What is going on? Is it truly an exponential? Why does the graph deviate from linear after X-Axis = 40? (Remember, there is extra noise added in).\n",
    "\n",
    "\n",
    "\n"
   ]
  },
  {
   "cell_type": "markdown",
   "metadata": {
    "collapsed": true
   },
   "source": [
    "Due Thursday 11:00pm\n",
    "Print out\n",
    "Will be uploaded shortly to CCLE under HW (below the lab manuals folder)\n"
   ]
  }
 ],
 "metadata": {
  "kernelspec": {
   "display_name": "Python 3",
   "language": "python",
   "name": "python3"
  },
  "language_info": {
   "codemirror_mode": {
    "name": "ipython",
    "version": 3
   },
   "file_extension": ".py",
   "mimetype": "text/x-python",
   "name": "python",
   "nbconvert_exporter": "python",
   "pygments_lexer": "ipython3",
   "version": "3.4.3"
  }
 },
 "nbformat": 4,
 "nbformat_minor": 0
}
