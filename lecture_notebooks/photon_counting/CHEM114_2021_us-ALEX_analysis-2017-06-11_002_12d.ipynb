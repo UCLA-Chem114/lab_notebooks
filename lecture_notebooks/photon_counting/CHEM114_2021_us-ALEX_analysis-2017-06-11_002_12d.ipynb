{
 "cells": [
  {
   "cell_type": "markdown",
   "metadata": {
    "id": "NZxaVcWSFD6V"
   },
   "source": [
    "## Load data file"
   ]
  },
  {
   "cell_type": "code",
   "execution_count": 1,
   "metadata": {
    "id": "7h5RC2JF8lv4",
    "tags": []
   },
   "outputs": [],
   "source": [
    "fname = '/Users/maya/Documents/UCLA/teaching/114/lab_notebooks/lecture_notebooks/photon_counting/alex20170611_002_12d_tit2_D190uW_A80uW.hdf5'        "
   ]
  },
  {
   "cell_type": "code",
   "execution_count": 2,
   "metadata": {
    "id": "s6jHgjca8lv_",
    "tags": []
   },
   "outputs": [],
   "source": [
    "from pathlib import Path"
   ]
  },
  {
   "cell_type": "code",
   "execution_count": 3,
   "metadata": {
    "id": "w_RRP_ZA8lv_",
    "tags": []
   },
   "outputs": [],
   "source": [
    "fname = Path(fname)"
   ]
  },
  {
   "cell_type": "code",
   "execution_count": 4,
   "metadata": {
    "id": "rV4p7Ku58lwD",
    "tags": []
   },
   "outputs": [],
   "source": [
    "assert fname.is_file(), 'File not found.'"
   ]
  },
  {
   "cell_type": "code",
   "execution_count": 5,
   "metadata": {
    "colab": {
     "base_uri": "https://localhost:8080/",
     "height": 36
    },
    "executionInfo": {
     "elapsed": 313,
     "status": "ok",
     "timestamp": 1612661257265,
     "user": {
      "displayName": "Maya Segal",
      "photoUrl": "",
      "userId": "03412661861498367168"
     },
     "user_tz": 480
    },
    "id": "J0O96QFl8lwB",
    "outputId": "8179912b-6432-45fe-e81f-ce4a8e9cb9fc"
   },
   "outputs": [
    {
     "data": {
      "text/plain": [
       "'alex20170611_002_12d'"
      ]
     },
     "execution_count": 5,
     "metadata": {},
     "output_type": "execute_result"
    }
   ],
   "source": [
    "mlabel_alex = '_'.join(fname.stem.replace('pax-', '').replace('alex-', '').split('_')[:3])\n",
    "mlabel_alex"
   ]
  },
  {
   "cell_type": "markdown",
   "metadata": {
    "id": "s5w0hhzw8lwD"
   },
   "source": [
    "# Imports"
   ]
  },
  {
   "cell_type": "code",
   "execution_count": 6,
   "metadata": {
    "id": "GAjlmXhI8lwE",
    "tags": []
   },
   "outputs": [],
   "source": [
    "import os\n",
    "import numpy as np\n",
    "from IPython.display import display, HTML\n",
    "import pandas as pd\n",
    "import matplotlib as mpl\n",
    "import matplotlib.pyplot as plt"
   ]
  },
  {
   "cell_type": "code",
   "execution_count": 7,
   "metadata": {
    "colab": {
     "base_uri": "https://localhost:8080/",
     "height": 140
    },
    "executionInfo": {
     "elapsed": 3274,
     "status": "ok",
     "timestamp": 1612661271385,
     "user": {
      "displayName": "Maya Segal",
      "photoUrl": "",
      "userId": "03412661861498367168"
     },
     "user_tz": 480
    },
    "id": "lUHscA9v8lwF",
    "outputId": "a694def5-9147-475f-ac33-21cfca55bebd"
   },
   "outputs": [
    {
     "data": {
      "text/plain": [
       "'0.9.14'"
      ]
     },
     "execution_count": 7,
     "metadata": {},
     "output_type": "execute_result"
    }
   ],
   "source": [
    "import lmfit; lmfit.__version__"
   ]
  },
  {
   "cell_type": "code",
   "execution_count": 8,
   "metadata": {
    "colab": {
     "base_uri": "https://localhost:8080/",
     "height": 158
    },
    "executionInfo": {
     "elapsed": 3827,
     "status": "ok",
     "timestamp": 1612661283669,
     "user": {
      "displayName": "Maya Segal",
      "photoUrl": "",
      "userId": "03412661861498367168"
     },
     "user_tz": 480
    },
    "id": "nfbS2PKd8lwF",
    "outputId": "4d4a9df1-0651-4609-d7ed-f024d36a28d6"
   },
   "outputs": [
    {
     "data": {
      "text/plain": [
       "'0.9'"
      ]
     },
     "execution_count": 8,
     "metadata": {},
     "output_type": "execute_result"
    }
   ],
   "source": [
    "import phconvert; phconvert.__version__"
   ]
  },
  {
   "cell_type": "code",
   "execution_count": 9,
   "metadata": {
    "id": "8PkF60-28lwG",
    "tags": []
   },
   "outputs": [],
   "source": [
    "%matplotlib inline\n",
    "%config InlineBackend.figure_format = 'retina'\n",
    "mpl.rcParams['font.sans-serif'].insert(0, 'Arial')"
   ]
  },
  {
   "cell_type": "code",
   "execution_count": 10,
   "metadata": {
    "colab": {
     "base_uri": "https://localhost:8080/",
     "height": 869
    },
    "executionInfo": {
     "elapsed": 3033,
     "status": "error",
     "timestamp": 1612661642118,
     "user": {
      "displayName": "Maya Segal",
      "photoUrl": "",
      "userId": "03412661861498367168"
     },
     "user_tz": 480
    },
    "id": "-7qlvZKCGS3N",
    "outputId": "ada98cad-abf9-4cbb-a56a-5d27580187fb"
   },
   "outputs": [
    {
     "ename": "ModuleNotFoundError",
     "evalue": "No module named 'fretbursts'",
     "output_type": "error",
     "traceback": [
      "\u001b[0;31m---------------------------------------------------------------------------\u001b[0m",
      "\u001b[0;31mModuleNotFoundError\u001b[0m                       Traceback (most recent call last)",
      "\u001b[0;32m<ipython-input-10-e7d4478a60c7>\u001b[0m in \u001b[0;36m<module>\u001b[0;34m\u001b[0m\n\u001b[0;32m----> 1\u001b[0;31m \u001b[0;32mfrom\u001b[0m \u001b[0mfretbursts\u001b[0m \u001b[0;32mimport\u001b[0m \u001b[0;34m*\u001b[0m\u001b[0;34m\u001b[0m\u001b[0;34m\u001b[0m\u001b[0m\n\u001b[0m",
      "\u001b[0;31mModuleNotFoundError\u001b[0m: No module named 'fretbursts'"
     ]
    }
   ],
   "source": [
    "from fretbursts import *"
   ]
  },
  {
   "cell_type": "code",
   "execution_count": null,
   "metadata": {
    "id": "dBEhwuXP8lwI"
   },
   "outputs": [],
   "source": [
    "sns = init_notebook(apionly=True)"
   ]
  },
  {
   "cell_type": "code",
   "execution_count": null,
   "metadata": {
    "id": "sKSJLzpy8lwI"
   },
   "outputs": [],
   "source": [
    "# load utility function (not import) giving them access to globals (\"-i\" flag)\n",
    "# Defines: savefig, save_name, info_html, cal_phrate, make_df_spots, make_df_bursts\n",
    "#          cal_phrate_alex, make_df_bursts_alex\n",
    "%run -i utils.py  "
   ]
  },
  {
   "cell_type": "code",
   "execution_count": null,
   "metadata": {
    "id": "gx7vg_TK8lwJ"
   },
   "outputs": [],
   "source": [
    "save_figures = True\n",
    "savefigdir = 'figures'\n",
    "highres = True"
   ]
  },
  {
   "cell_type": "markdown",
   "metadata": {
    "id": "ee5H-GTr8lwJ"
   },
   "source": [
    "# Load the selected file"
   ]
  },
  {
   "cell_type": "markdown",
   "metadata": {
    "id": "x8XxHQiQ8lwK"
   },
   "source": [
    "We can finally load the data and store it in a variable called `d`:"
   ]
  },
  {
   "cell_type": "code",
   "execution_count": null,
   "metadata": {
    "id": "q4cH4j6x8lwK"
   },
   "outputs": [],
   "source": [
    "d = loader.photon_hdf5(fname)"
   ]
  },
  {
   "cell_type": "code",
   "execution_count": null,
   "metadata": {
    "id": "zRF4Su3V8lwK"
   },
   "outputs": [],
   "source": [
    "info_html(d)"
   ]
  },
  {
   "cell_type": "code",
   "execution_count": null,
   "metadata": {
    "id": "EFG_Kkhy8lwK"
   },
   "outputs": [],
   "source": [
    "fig, ax = plt.subplots(figsize=(12, 8))\n",
    "bpl.plot_alternation_hist_usalex(d, ax=ax, bins=np.arange(0, 4097, 16))"
   ]
  },
  {
   "cell_type": "markdown",
   "metadata": {
    "id": "muloXcyi8lwL"
   },
   "source": [
    "If the previous alternation histogram looks correct, \n",
    "the corresponding definitions of the excitation periods can be applied to the data using the following command:"
   ]
  },
  {
   "cell_type": "code",
   "execution_count": null,
   "metadata": {
    "id": "y8zsfxAe8lwL"
   },
   "outputs": [],
   "source": [
    "loader.alex_apply_period(d)"
   ]
  },
  {
   "cell_type": "code",
   "execution_count": null,
   "metadata": {
    "id": "laDwVnED8lwL"
   },
   "outputs": [],
   "source": [
    "num_time_points = 5\n",
    "window = 5\n",
    "\n",
    "# Timepoints equally distributed along the measurement\n",
    "time_points = np.round(np.linspace(d.time_min+1, d.time_max-window-1, num=num_time_points))\n",
    "\n",
    "for i in time_points:\n",
    "    dplot(d, timetrace, tmin=i, tmax=i+window, figsize=(32, 3.5));\n",
    "    plt.ylim(-100, 100)\n",
    "    plt.xlim(i, i+window)"
   ]
  },
  {
   "cell_type": "code",
   "execution_count": null,
   "metadata": {
    "id": "aJffy7018lwM"
   },
   "outputs": [],
   "source": [
    "d.calc_bg(bg.exp_fit, time_s=10, tail_min_us='auto', F_bg=1)"
   ]
  },
  {
   "cell_type": "code",
   "execution_count": null,
   "metadata": {
    "id": "PiyVg3Vh8lwM"
   },
   "outputs": [],
   "source": [
    "fig, ax = plt.subplots(figsize=(16, 4))\n",
    "dplot(d, timetrace_bg, ax=ax)"
   ]
  },
  {
   "cell_type": "markdown",
   "metadata": {
    "id": "lR0UmXDa8lwN"
   },
   "source": [
    "# Burst analysis"
   ]
  },
  {
   "cell_type": "code",
   "execution_count": null,
   "metadata": {
    "id": "xqM6Psrt8lwO"
   },
   "outputs": [],
   "source": [
    "d.burst_search(min_rate_cps=50e3)\n",
    "d = d.select_bursts(select_bursts.time, time_s1=200)\n",
    "d.num_bursts"
   ]
  },
  {
   "cell_type": "code",
   "execution_count": null,
   "metadata": {
    "id": "UsZ1p4OV8lwO"
   },
   "outputs": [],
   "source": [
    "dplot(d, hist_size)\n",
    "plt.xlim(None, 500)"
   ]
  },
  {
   "cell_type": "code",
   "execution_count": null,
   "metadata": {
    "id": "Fug8Vnst8lwP"
   },
   "outputs": [],
   "source": [
    "dplot(d, hist_width, bins=(0, 10, 0.05))\n",
    "plt.xlim(0, 10)"
   ]
  },
  {
   "cell_type": "code",
   "execution_count": null,
   "metadata": {
    "id": "-1t2xJRS8lwP"
   },
   "outputs": [],
   "source": [
    "d.calc_max_rate(m=10, ph_sel=Ph_sel(Dex='Dem'), compact=True)"
   ]
  },
  {
   "cell_type": "code",
   "execution_count": null,
   "metadata": {
    "id": "dqrrVdw88lwP"
   },
   "outputs": [],
   "source": [
    "recompute = True\n",
    "streams = ('DexDem', 'DexAem', 'AexAem')\n",
    "colors = (bpl.green, bpl.red, bpl.purple)\n",
    "phrates = {}\n",
    "for stream in streams:\n",
    "    print(' - Computing peak photon rates for %6s stream.' % str(Ph_sel.from_str(stream)))\n",
    "    cal_phrate_alex(d, stream=Ph_sel.from_str(stream), phrates=phrates, recompute=recompute)"
   ]
  },
  {
   "cell_type": "code",
   "execution_count": null,
   "metadata": {
    "id": "UOXfBXMr8lwP"
   },
   "outputs": [],
   "source": [
    "phrates[stream]"
   ]
  },
  {
   "cell_type": "code",
   "execution_count": null,
   "metadata": {
    "id": "6gfj7Cw_8lwQ"
   },
   "outputs": [],
   "source": [
    "phr_dd = phrates['DexDemB']\n",
    "phr_dd[0]"
   ]
  },
  {
   "cell_type": "code",
   "execution_count": null,
   "metadata": {
    "id": "XvSH5QZp8lwQ"
   },
   "outputs": [],
   "source": [
    "float(phr_dd.loc[phr_dd[0]>100e3].mean() - 100e3)"
   ]
  },
  {
   "cell_type": "code",
   "execution_count": null,
   "metadata": {
    "id": "NDgj_dIl8lwQ"
   },
   "outputs": [],
   "source": [
    "fig, ax = plt.subplots(figsize=(4, 3.5))\n",
    "bins = (0, 1000, 25)\n",
    "for stream, color in zip(streams, colors):\n",
    "    hist_burst_phrate(phrates[stream+'B'], bins=bins, plot_style=dict(color=color, ms=3, label=stream))\n",
    "plt.xlim(0, 1100)\n",
    "plt.ylim(1e-6)\n",
    "plt.title(d.name)\n",
    "plt.legend(['$D_{ex}D_{em}$', '$D_{ex}A_{em}$', '$A_{ex}A_{em}$'])\n",
    "plt.grid()\n",
    "plt.title('')\n",
    "savefig('usALEX_peak_phrate', label=mlabel_alex)"
   ]
  },
  {
   "cell_type": "code",
   "execution_count": null,
   "metadata": {
    "id": "O2VrEmVw8lwR"
   },
   "outputs": [],
   "source": [
    "d.burst_sizes_ich()"
   ]
  },
  {
   "cell_type": "code",
   "execution_count": null,
   "metadata": {
    "id": "aT577r208lwS"
   },
   "outputs": [],
   "source": [
    "ds = d.select_bursts(select_bursts.size, th1=40, gamma=1)"
   ]
  },
  {
   "cell_type": "code",
   "execution_count": null,
   "metadata": {
    "id": "YcItpN6E8lwS"
   },
   "outputs": [],
   "source": [
    "alex_jointplot(ds, vmax_fret=False, vmin=1)"
   ]
  },
  {
   "cell_type": "code",
   "execution_count": null,
   "metadata": {
    "id": "5zkijoFc8lwS"
   },
   "outputs": [],
   "source": [
    "ds1 = d.select_bursts(select_bursts.naa, th1=20)\n",
    "dss = ds1.select_bursts(select_bursts.size, th1=40)"
   ]
  },
  {
   "cell_type": "code",
   "execution_count": null,
   "metadata": {
    "id": "XmNiqcys8lwS"
   },
   "outputs": [],
   "source": [
    "alex_jointplot(dss, vmax_fret=False, vmin=1)"
   ]
  },
  {
   "cell_type": "code",
   "execution_count": null,
   "metadata": {
    "id": "c2A82bWe8lwS"
   },
   "outputs": [],
   "source": [
    "d2 = bext.burst_search_and_gate(d, min_rate_cps=30e3)"
   ]
  },
  {
   "cell_type": "code",
   "execution_count": null,
   "metadata": {
    "id": "jY-6RT1a8lwT"
   },
   "outputs": [],
   "source": [
    "ds2 = d2.select_bursts(select_bursts.size, th1=30)"
   ]
  },
  {
   "cell_type": "code",
   "execution_count": null,
   "metadata": {
    "id": "lW1wtSWb8lwT"
   },
   "outputs": [],
   "source": [
    "alex_jointplot(ds2, vmax_fret=False, vmin=1)"
   ]
  },
  {
   "cell_type": "code",
   "execution_count": null,
   "metadata": {
    "id": "6OqkvKlQ8lwT"
   },
   "outputs": [],
   "source": [
    "vals, counts = np.unique(ds.burst_data_ich(0)['bg_period'], return_counts=True)"
   ]
  },
  {
   "cell_type": "code",
   "execution_count": null,
   "metadata": {
    "id": "GUNHsC9e8lwT"
   },
   "outputs": [],
   "source": [
    "counts"
   ]
  },
  {
   "cell_type": "code",
   "execution_count": null,
   "metadata": {
    "id": "_HadKVUU8lwU"
   },
   "outputs": [],
   "source": [
    "plt.plot(vals, counts)\n",
    "plt.ylim(0)"
   ]
  },
  {
   "cell_type": "code",
   "execution_count": null,
   "metadata": {
    "collapsed": true,
    "id": "nNhIUZhj8lwV",
    "jupyter": {
     "outputs_hidden": true
    }
   },
   "outputs": [],
   "source": []
  }
 ],
 "metadata": {
  "colab": {
   "name": "CHEM114_2021_us-ALEX_analysis-2017-06-11_002_12d.ipynb",
   "provenance": [
    {
     "file_id": "1l1TmkpAOIfOCYWIZHf7jE4bpZpjk7nNL",
     "timestamp": 1612659405973
    },
    {
     "file_id": "https://github.com/tritemio/48-spot-smFRET-PAX-analysis/blob/master/us-ALEX_analysis-2017-06-11_002_12d.ipynb",
     "timestamp": 1612659258301
    }
   ]
  },
  "kernelspec": {
   "display_name": "Python 3.7",
   "language": "python",
   "name": "base"
  },
  "language_info": {
   "codemirror_mode": {
    "name": "ipython",
    "version": 3
   },
   "file_extension": ".py",
   "mimetype": "text/x-python",
   "name": "python",
   "nbconvert_exporter": "python",
   "pygments_lexer": "ipython3",
   "version": "3.7.4"
  },
  "toc": {
   "colors": {
    "hover_highlight": "#DAA520",
    "navigate_num": "#000000",
    "navigate_text": "#333333",
    "running_highlight": "#FF0000",
    "selected_highlight": "#FFD700",
    "sidebar_border": "#EEEEEE",
    "wrapper_background": "#FFFFFF"
   },
   "moveMenuLeft": true,
   "nav_menu": {
    "height": "512px",
    "width": "252px"
   },
   "navigate_menu": true,
   "number_sections": true,
   "sideBar": true,
   "threshold": 4,
   "toc_cell": false,
   "toc_section_display": "block",
   "toc_window_display": true,
   "widenNotebook": false
  }
 },
 "nbformat": 4,
 "nbformat_minor": 4
}
